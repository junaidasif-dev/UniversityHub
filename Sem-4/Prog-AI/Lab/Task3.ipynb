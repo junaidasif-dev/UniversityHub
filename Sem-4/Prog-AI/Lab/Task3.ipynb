{
 "cells": [
  {
   "cell_type": "markdown",
   "id": "e3d2202c",
   "metadata": {},
   "source": [
    "Task 1: Student Database\n",
    "Create a student database using dictionaries. Each student should have a unique student ID as the\n",
    "key, and the value should be a dictionary containing the student's name, age, and course.\n",
    "Implement the following operations:\n",
    "Add a new student.\n",
    "Retrieve information about a student using their student ID.\n",
    "Update the information (name, age, or course) of a student.\n",
    "Remove a student from the database.\n"
   ]
  },
  {
   "cell_type": "code",
   "execution_count": 28,
   "id": "283239e9",
   "metadata": {},
   "outputs": [
    {
     "name": "stdout",
     "output_type": "stream",
     "text": [
      "Database of students is: {1: {'Nmae': 'Junaid', 'Age': 20, 'Course': 'AI'}, 2: {'Nmae': 'Ali', 'Age': 20, 'Course': 'DSA'}, 3: {'Nmae': 'Usman', 'Age': 21, 'Course': 'OOP'}}\n",
      "Record of 2nd student against his ID is {'Nmae': 'Ali', 'Age': 20, 'Course': 'DSA'}\n",
      "After adding 1 more record in existing student database: {1: {'Nmae': 'Junaid', 'Age': 20, 'Course': 'AI'}, 2: {'Nmae': 'Ali', 'Age': 20, 'Course': 'DSA'}, 3: {'Nmae': 'Usman', 'Age': 21, 'Course': 'OOP'}, 4: {'Nmae': 'Qasim', 'Age': 19, 'Course': 'PF'}}\n",
      "After updating 3rd record in existing student database: {1: {'Nmae': 'Junaid', 'Age': 20, 'Course': 'AI'}, 2: {'Nmae': 'Ali', 'Age': 20, 'Course': 'DSA'}, 3: {'Nmae': 'Syed Qasim', 'Age': 20, 'Course': 'DLD'}, 4: {'Nmae': 'Qasim', 'Age': 19, 'Course': 'PF'}}\n",
      "After removing 1st record from database: {2: {'Nmae': 'Ali', 'Age': 20, 'Course': 'DSA'}, 3: {'Nmae': 'Syed Qasim', 'Age': 20, 'Course': 'DLD'}, 4: {'Nmae': 'Qasim', 'Age': 19, 'Course': 'PF'}}\n"
     ]
    }
   ],
   "source": [
    "std_database = {\n",
    "    1 : {\"Nmae\": \"Junaid\", \"Age\": 20, \"Course\": \"AI\"},\n",
    "    2 : {\"Nmae\": \"Ali\", \"Age\": 20, \"Course\": \"DSA\"},\n",
    "    3 : {\"Nmae\": \"Usman\", \"Age\": 21, \"Course\": \"OOP\"}\n",
    "}\n",
    "print(f\"Database of students is: {std_database}\")\n",
    "print(f\"Record of 2nd student against his ID is {std_database[2]}\")\n",
    "std_database.update({4 : {\"Nmae\": \"Qasim\", \"Age\": 19, \"Course\": \"PF\"}})\n",
    "print(f\"After adding 1 more record in existing student database: {std_database}\")\n",
    "std_database.update({3 : {\"Nmae\": \"Syed Qasim\", \"Age\": 20, \"Course\": \"DLD\"}})\n",
    "print(f\"After updating 3rd record in existing student database: {std_database}\")\n",
    "std_database.pop(1)\n",
    "print(f\"After removing 1st record from database: {std_database}\")"
   ]
  },
  {
   "cell_type": "markdown",
   "id": "2a836808",
   "metadata": {},
   "source": [
    "Task 2: Word Frequency Counter\n",
    "Write a program that takes a LIST as input and counts the frequency of each word in the LIST.\n",
    "Store the word frequencies in a dictionary where the keys are unique words, and the values are the\n",
    "counts. You should also ensure that words are case-insensitive (i.e., \"Apple\" and \"apple\" should\n",
    "be counted as the same word)"
   ]
  },
  {
   "cell_type": "code",
   "execution_count": 39,
   "id": "f55612ea",
   "metadata": {},
   "outputs": [
    {
     "name": "stdout",
     "output_type": "stream",
     "text": [
      "Word Frequencies:\n",
      "apple: 2\n",
      "banana: 2\n",
      "orange: 1\n",
      "grape: 2\n"
     ]
    }
   ],
   "source": [
    "word_list = [\"Apple\", \"banana\", \"apple\", \"Orange\", \"Banana\", \"grape\", \"GRAPE\"]\n",
    "word_freq = {}\n",
    "\n",
    "for word in word_list:\n",
    "    word = word.lower()\n",
    "    if word in word_freq:\n",
    "        word_freq[word] += 1\n",
    "    else:\n",
    "        word_freq[word] = 1\n",
    "print(\"Word Frequencies:\")\n",
    "for keys, values in word_freq.items():\n",
    "    print(f\"{keys}: {values}\")"
   ]
  },
  {
   "cell_type": "markdown",
   "id": "5b44765f",
   "metadata": {},
   "source": [
    "Task 3: Phonebook Application\n",
    "Create a simple phonebook application that allows users to store and retrieve phone numbers of\n",
    "their contacts. Use a dictionary to store contact information, where the keys are contact names,\n",
    "and the values are phone numbers. Implement the following operations:\n",
    "Add a new contact.\n",
    "Retrieve the phone number of a contact.\n",
    "Update the phone number of a contact.\n",
    "Delete a contact from the phonebook."
   ]
  },
  {
   "cell_type": "code",
   "execution_count": 51,
   "id": "c598f41c",
   "metadata": {},
   "outputs": [
    {
     "name": "stdout",
     "output_type": "stream",
     "text": [
      "Current contact list: {'Adeel': '0123453453', 'Junaid': '0121932911'}\n",
      "After adding 1 more contact in the existing phonebook: {'Adeel': '0123453453', 'Junaid': '0121932911', 'Tahir': '00490428989'}\n",
      "Phone no of Junaid is 0121932911\n",
      "After updating phone no of Adeel is {'Adeel': '119389388091', 'Junaid': '0121932911', 'Tahir': '00490428989'}\n",
      "After removing 2nd contact from phonebook: {'Adeel': '119389388091', 'Tahir': '00490428989'}\n"
     ]
    }
   ],
   "source": [
    "PhoneBook = {\"Adeel\": \"0123453453\", \"Junaid\": \"0121932911\"}\n",
    "print(f\"Current contact list: {PhoneBook}\")\n",
    "PhoneBook.update({\"Tahir\":\"00490428989\"})\n",
    "print(f\"After adding 1 more contact in the existing phonebook: {PhoneBook}\")\n",
    "PhoneBook.update({\"Adeel\": \"119389388091\"})\n",
    "print(f\"Phone no of Junaid is {PhoneBook['Junaid']}\")\n",
    "\n",
    "print(f\"After updating phone no of Adeel is {PhoneBook}\")\n",
    "PhoneBook.pop(\"Junaid\")\n",
    "print(f\"After removing 2nd contact from phonebook: {PhoneBook}\")"
   ]
  },
  {
   "cell_type": "markdown",
   "id": "cb049c83",
   "metadata": {},
   "source": [
    "Task 4: Inventory Management\n",
    "Create a program for managing inventory in a store. You'll use a dictionary to represent the store's\n",
    "inventory, where each item's name is the key, and the value is a tuple containing the item's price\n",
    "and quantity in stock. Implement the following operations:\n",
    "Add a new item to the inventory.\n",
    "Update the price or quantity of an existing item.\n",
    "Remove an item from the inventory.\n",
    "Display the current inventory with item names, prices, and quantities.\n",
    "Calculate the total value of the inventory (price * quantity) and display it."
   ]
  },
  {
   "cell_type": "code",
   "execution_count": 52,
   "id": "9c52f184",
   "metadata": {},
   "outputs": [
    {
     "name": "stdout",
     "output_type": "stream",
     "text": [
      "Current Inventory:\n",
      "Item Name\tPrice\tQuantity\n",
      "apple\t\t2.75\t60\n",
      "orange\t\t3\t40\n",
      "Total Inventory Value: $285.0\n"
     ]
    }
   ],
   "source": [
    "inventory = {'apple':(2.5,50),'banana':(1.75,75),'orange':(3,40)}\n",
    "inventory[\"apple\"] = (2.75, inventory[\"apple\"][1] + 10) \n",
    "del inventory[\"banana\"]\n",
    "print(\"Current Inventory:\")\n",
    "print(\"Item Name\\tPrice\\tQuantity\")\n",
    "for item, details in inventory.items():\n",
    "    print(f\"{item}\\t{details[0]}\\t{details[1]}\")\n",
    "total_value = 0\n",
    "for item, details in inventory.items():\n",
    "    total_value += details[0] * details[1]\n",
    "\n",
    "print(f\"Total Inventory Value: ${total_value}\")"
   ]
  },
  {
   "cell_type": "code",
   "execution_count": null,
   "id": "3917e88d",
   "metadata": {},
   "outputs": [],
   "source": []
  }
 ],
 "metadata": {
  "kernelspec": {
   "display_name": "Python 3",
   "language": "python",
   "name": "python3"
  },
  "language_info": {
   "codemirror_mode": {
    "name": "ipython",
    "version": 3
   },
   "file_extension": ".py",
   "mimetype": "text/x-python",
   "name": "python",
   "nbconvert_exporter": "python",
   "pygments_lexer": "ipython3",
   "version": "3.8.8"
  }
 },
 "nbformat": 4,
 "nbformat_minor": 5
}
