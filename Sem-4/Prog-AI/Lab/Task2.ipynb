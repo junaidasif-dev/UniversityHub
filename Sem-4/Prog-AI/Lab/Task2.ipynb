{
 "cells": [
  {
   "cell_type": "markdown",
   "id": "29b59310",
   "metadata": {},
   "source": [
    "Task 1: List Initialization:\n",
    "Write a Python program that initializes an empty list called my_list and then prompts the user to\n",
    "enter five integers. Add these integers to the list. Finally, print the list.\n",
    "\n",
    "\n"
   ]
  },
  {
   "cell_type": "code",
   "execution_count": 5,
   "id": "7d0215bb",
   "metadata": {},
   "outputs": [
    {
     "name": "stdout",
     "output_type": "stream",
     "text": [
      "None1\n",
      "None2\n",
      "None3\n",
      "None4\n",
      "None5\n",
      "[1, 2, 3, 4, 5]\n"
     ]
    }
   ],
   "source": [
    "my_list=[] \n",
    "for i in range(1,6):\n",
    "    x = int(input(my_list.append(i)))\n",
    "print(my_list)\n"
   ]
  },
  {
   "cell_type": "markdown",
   "id": "5d03f541",
   "metadata": {},
   "source": [
    "Task 2: List Manipulation:\n",
    "Create a list named fruits with the following fruits: \"apple,\" \"banana,\" \"cherry,\" \"date,\" and \"fig.\"\n",
    "Append \"grape\" to the end of the list.\n",
    "Insert \"kiwi\" at index 2.\n",
    "Remove \"banana\" from the list.\n",
    "Print the updated list.\n"
   ]
  },
  {
   "cell_type": "code",
   "execution_count": 8,
   "id": "12eff92e",
   "metadata": {},
   "outputs": [
    {
     "name": "stdout",
     "output_type": "stream",
     "text": [
      "['apple', 'banana', 'cherry', 'fig']\n",
      "['apple', 'banana', 'cherry', 'fig', 'grape']\n",
      "['apple', 'banana', 'kiwi', 'cherry', 'fig', 'grape']\n",
      "['apple', 'kiwi', 'cherry', 'fig', 'grape']\n"
     ]
    }
   ],
   "source": [
    "fruits = [\"apple\", \"banana\", \"cherry\", \"date\" and \"fig\"]\n",
    "print(fruits)\n",
    "fruits.append(\"grape\")\n",
    "print(fruits)\n",
    "fruits.insert(2,\"kiwi\")\n",
    "print(fruits)\n",
    "fruits.remove(\"banana\")\n",
    "print(fruits)"
   ]
  },
  {
   "cell_type": "markdown",
   "id": "4ffc0763",
   "metadata": {},
   "source": [
    "Task 3: List Slicing and Iteration:\n",
    "Create a list called numbers with integers from 1 to 10.\n",
    "Using list slicing, create a new list named even_numbers that contains all even numbers from\n",
    "numbers.\n",
    "Using a for loop, print each element of even_numbers.\n"
   ]
  },
  {
   "cell_type": "code",
   "execution_count": 11,
   "id": "8175c6c8",
   "metadata": {},
   "outputs": [
    {
     "name": "stdout",
     "output_type": "stream",
     "text": [
      "2\n",
      "4\n",
      "6\n",
      "8\n",
      "10\n"
     ]
    }
   ],
   "source": [
    "no = []\n",
    "for i in range(1,11):\n",
    "    no.append(i)\n",
    "even_numbers = no[1::2]\n",
    "for i in even_numbers:\n",
    "    print(i)"
   ]
  },
  {
   "cell_type": "markdown",
   "id": "a07574d2",
   "metadata": {},
   "source": [
    "Task 4: List Comprehension:\n",
    "Generate a list called squares containing the squares of numbers from 1 to 10 using list\n",
    "comprehension.\n",
    "Create a list named words containing the words: \"apple,\" \"banana,\" \"cherry,\" \"date,\" and \"fig.\"\n",
    "Using list comprehension, create a new list named word_lengths that contains the lengths of these\n",
    "words.\n",
    "\n"
   ]
  },
  {
   "cell_type": "code",
   "execution_count": 13,
   "id": "a0af6b73",
   "metadata": {},
   "outputs": [
    {
     "name": "stdout",
     "output_type": "stream",
     "text": [
      "[1, 4, 9, 16, 25, 36, 49, 64, 81, 100]\n",
      "['apple', 'banana', 'cherry', 'fig']\n",
      "[5, 6, 6, 3]\n"
     ]
    }
   ],
   "source": [
    "square = [x*x for x in range(1,11)]\n",
    "print(square)\n",
    "words = [\"apple\", \"banana\", \"cherry\", \"date\" and \"fig\"]\n",
    "print(words)\n",
    "word_lengths = [len(i) for i in words]\n",
    "print(word_lengths)"
   ]
  },
  {
   "cell_type": "markdown",
   "id": "fc80b4ff",
   "metadata": {},
   "source": [
    "Task 5: List Searching and Conditional Operations:\n",
    "Create a list called student_scores with the following scores: 85, 92, 78, 90, 88, and 95.\n",
    "Write a function that takes a list of scores and returns the number of students who scored above\n",
    "90.\n",
    "Use this function to find and print the count of students with scores above 90 in the student_scores\n",
    "list.\n"
   ]
  },
  {
   "cell_type": "code",
   "execution_count": 14,
   "id": "21507006",
   "metadata": {},
   "outputs": [
    {
     "name": "stdout",
     "output_type": "stream",
     "text": [
      "Students score: [92, 95] And the total no of students are: 2\n"
     ]
    }
   ],
   "source": [
    "def score(s):\n",
    "    return [x for x in s if x>90]\n",
    "student_score= [85, 92, 78, 90, 88,95]\n",
    "scores = score(student_score)\n",
    "print(f\"Students score: {scores} And the total no of students are: {len(scores)}\")"
   ]
  },
  {
   "cell_type": "markdown",
   "id": "82e72327",
   "metadata": {},
   "source": [
    "Task 6: List Sorting:\n",
    "Create a list named unsorted_numbers with integers in random order.\n",
    "Sort the unsorted_numbers list in ascending order using the sorted() function and print the sorted\n",
    "list.\n",
    "Sort the unsorted_numbers list in descending order using the sorted() function with the\n",
    "reverse=True argument and print the sorted list."
   ]
  },
  {
   "cell_type": "code",
   "execution_count": 17,
   "id": "1168eb71",
   "metadata": {},
   "outputs": [
    {
     "name": "stdout",
     "output_type": "stream",
     "text": [
      "Assending sorted are: [0, 1, 10, 22, 45, 67, 89, 100]\n",
      "Descending order are: [100, 89, 67, 45, 22, 10, 1, 0]\n"
     ]
    }
   ],
   "source": [
    "unsorted_numbers=[1,100,45,89,67,22,0,10]\n",
    "unsorted_numbers.sort()\n",
    "print(f\"Assending sorted are: {unsorted_numbers}\")\n",
    "descending_numbers = sorted(unsorted_numbers, reverse=True)\n",
    "print(f\"Descending order are: {descending_numbers}\")"
   ]
  },
  {
   "cell_type": "markdown",
   "id": "d7e5a5ac",
   "metadata": {},
   "source": [
    "Task 7: List Manipulation with Conditionals:\n",
    "Create a list called mixed_data containing integers and strings.\n",
    "Using list comprehension, create two new lists: one containing only integers and another\n",
    "containing only strings from mixed_data."
   ]
  },
  {
   "cell_type": "code",
   "execution_count": 20,
   "id": "a6a9411e",
   "metadata": {},
   "outputs": [
    {
     "name": "stdout",
     "output_type": "stream",
     "text": [
      "[1, 0, 7]\n",
      "['hello', 'junaid', 'mobile', 'car']\n"
     ]
    }
   ],
   "source": [
    "mixed_data=[1,0,'hello','junaid','mobile','car',7]\n",
    "only_integers=[x for x in mixed_data if isinstance(x, int)]\n",
    "print(only_integers)\n",
    "others=[x for x in mixed_data if isinstance(x, str)]\n",
    "print(others)"
   ]
  },
  {
   "cell_type": "code",
   "execution_count": null,
   "id": "eeb73080",
   "metadata": {},
   "outputs": [],
   "source": []
  }
 ],
 "metadata": {
  "kernelspec": {
   "display_name": "Python 3",
   "language": "python",
   "name": "python3"
  },
  "language_info": {
   "codemirror_mode": {
    "name": "ipython",
    "version": 3
   },
   "file_extension": ".py",
   "mimetype": "text/x-python",
   "name": "python",
   "nbconvert_exporter": "python",
   "pygments_lexer": "ipython3",
   "version": "3.8.8"
  }
 },
 "nbformat": 4,
 "nbformat_minor": 5
}
