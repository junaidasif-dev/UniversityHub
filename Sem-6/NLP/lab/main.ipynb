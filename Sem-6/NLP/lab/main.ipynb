{
 "cells": [
  {
   "cell_type": "markdown",
   "metadata": {},
   "source": [
    "# **Feb 11, 2025 Lab 01**"
   ]
  },
  {
   "cell_type": "code",
   "execution_count": 2,
   "metadata": {},
   "outputs": [
    {
     "name": "stdout",
     "output_type": "stream",
     "text": [
      "3.12.9 (tags/v3.12.9:fdb8142, Feb  4 2025, 15:27:58) [MSC v.1942 64 bit (AMD64)]\n",
      "showing info https://raw.githubusercontent.com/nltk/nltk_data/gh-pages/index.xml\n"
     ]
    },
    {
     "name": "stderr",
     "output_type": "stream",
     "text": [
      "Exception in Tkinter callback\n",
      "Traceback (most recent call last):\n",
      "  File \"C:\\Program Files\\WindowsApps\\PythonSoftwareFoundation.Python.3.12_3.12.2544.0_x64__qbz5n2kfra8p0\\Lib\\tkinter\\__init__.py\", line 1968, in __call__\n",
      "    return self.func(*args)\n",
      "           ^^^^^^^^^^^^^^^^\n",
      "  File \"C:\\Program Files\\WindowsApps\\PythonSoftwareFoundation.Python.3.12_3.12.2544.0_x64__qbz5n2kfra8p0\\Lib\\tkinter\\__init__.py\", line 862, in callit\n",
      "    func(*args)\n",
      "  File \"C:\\Users\\junai\\AppData\\Local\\Packages\\PythonSoftwareFoundation.Python.3.12_qbz5n2kfra8p0\\LocalCache\\local-packages\\Python312\\site-packages\\nltk\\downloader.py\", line 2152, in _monitor_message_queue\n",
      "    self._select(msg.package.id)\n",
      "                 ^^^^^^^^^^^^^^\n",
      "AttributeError: 'str' object has no attribute 'id'\n"
     ]
    },
    {
     "ename": "KeyboardInterrupt",
     "evalue": "",
     "output_type": "error",
     "traceback": [
      "\u001b[1;31m---------------------------------------------------------------------------\u001b[0m",
      "\u001b[1;31mKeyboardInterrupt\u001b[0m                         Traceback (most recent call last)",
      "Cell \u001b[1;32mIn[2], line 6\u001b[0m\n\u001b[0;32m      4\u001b[0m nltk\u001b[38;5;241m.\u001b[39m__version__\n\u001b[0;32m      5\u001b[0m \u001b[38;5;241m1\u001b[39m\u001b[38;5;241m+\u001b[39m\u001b[38;5;241m5\u001b[39m\u001b[38;5;241m*\u001b[39m\u001b[38;5;241m2\u001b[39m\u001b[38;5;241m-\u001b[39m\u001b[38;5;241m3\u001b[39m \u001b[38;5;66;03m#terminal\u001b[39;00m\n\u001b[1;32m----> 6\u001b[0m \u001b[43mnltk\u001b[49m\u001b[38;5;241;43m.\u001b[39;49m\u001b[43mdownload\u001b[49m\u001b[43m(\u001b[49m\u001b[43m)\u001b[49m\n\u001b[0;32m      7\u001b[0m \u001b[38;5;28;01mfrom\u001b[39;00m \u001b[38;5;21;01mnltk\u001b[39;00m\u001b[38;5;21;01m.\u001b[39;00m\u001b[38;5;21;01mbook\u001b[39;00m \u001b[38;5;28;01mimport\u001b[39;00m \u001b[38;5;241m*\u001b[39m\n\u001b[0;32m      8\u001b[0m text1\n",
      "File \u001b[1;32m~\\AppData\\Local\\Packages\\PythonSoftwareFoundation.Python.3.12_qbz5n2kfra8p0\\LocalCache\\local-packages\\Python312\\site-packages\\nltk\\downloader.py:760\u001b[0m, in \u001b[0;36mDownloader.download\u001b[1;34m(self, info_or_id, download_dir, quiet, force, prefix, halt_on_error, raise_on_error, print_error_to)\u001b[0m\n\u001b[0;32m    758\u001b[0m     \u001b[38;5;28;01mif\u001b[39;00m download_dir \u001b[38;5;129;01mis\u001b[39;00m \u001b[38;5;129;01mnot\u001b[39;00m \u001b[38;5;28;01mNone\u001b[39;00m:\n\u001b[0;32m    759\u001b[0m         \u001b[38;5;28mself\u001b[39m\u001b[38;5;241m.\u001b[39m_download_dir \u001b[38;5;241m=\u001b[39m download_dir\n\u001b[1;32m--> 760\u001b[0m     \u001b[38;5;28;43mself\u001b[39;49m\u001b[38;5;241;43m.\u001b[39;49m\u001b[43m_interactive_download\u001b[49m\u001b[43m(\u001b[49m\u001b[43m)\u001b[49m\n\u001b[0;32m    761\u001b[0m     \u001b[38;5;28;01mreturn\u001b[39;00m \u001b[38;5;28;01mTrue\u001b[39;00m\n\u001b[0;32m    763\u001b[0m \u001b[38;5;28;01melse\u001b[39;00m:\n\u001b[0;32m    764\u001b[0m     \u001b[38;5;66;03m# Define a helper function for displaying output:\u001b[39;00m\n",
      "File \u001b[1;32m~\\AppData\\Local\\Packages\\PythonSoftwareFoundation.Python.3.12_qbz5n2kfra8p0\\LocalCache\\local-packages\\Python312\\site-packages\\nltk\\downloader.py:1110\u001b[0m, in \u001b[0;36mDownloader._interactive_download\u001b[1;34m(self)\u001b[0m\n\u001b[0;32m   1108\u001b[0m \u001b[38;5;28;01mif\u001b[39;00m TKINTER:\n\u001b[0;32m   1109\u001b[0m     \u001b[38;5;28;01mtry\u001b[39;00m:\n\u001b[1;32m-> 1110\u001b[0m         \u001b[43mDownloaderGUI\u001b[49m\u001b[43m(\u001b[49m\u001b[38;5;28;43mself\u001b[39;49m\u001b[43m)\u001b[49m\u001b[38;5;241;43m.\u001b[39;49m\u001b[43mmainloop\u001b[49m\u001b[43m(\u001b[49m\u001b[43m)\u001b[49m\n\u001b[0;32m   1111\u001b[0m     \u001b[38;5;28;01mexcept\u001b[39;00m TclError:\n\u001b[0;32m   1112\u001b[0m         DownloaderShell(\u001b[38;5;28mself\u001b[39m)\u001b[38;5;241m.\u001b[39mrun()\n",
      "File \u001b[1;32m~\\AppData\\Local\\Packages\\PythonSoftwareFoundation.Python.3.12_qbz5n2kfra8p0\\LocalCache\\local-packages\\Python312\\site-packages\\nltk\\downloader.py:1933\u001b[0m, in \u001b[0;36mDownloaderGUI.mainloop\u001b[1;34m(self, *args, **kwargs)\u001b[0m\n\u001b[0;32m   1932\u001b[0m \u001b[38;5;28;01mdef\u001b[39;00m \u001b[38;5;21mmainloop\u001b[39m(\u001b[38;5;28mself\u001b[39m, \u001b[38;5;241m*\u001b[39margs, \u001b[38;5;241m*\u001b[39m\u001b[38;5;241m*\u001b[39mkwargs):\n\u001b[1;32m-> 1933\u001b[0m     \u001b[38;5;28;43mself\u001b[39;49m\u001b[38;5;241;43m.\u001b[39;49m\u001b[43mtop\u001b[49m\u001b[38;5;241;43m.\u001b[39;49m\u001b[43mmainloop\u001b[49m\u001b[43m(\u001b[49m\u001b[38;5;241;43m*\u001b[39;49m\u001b[43margs\u001b[49m\u001b[43m,\u001b[49m\u001b[43m \u001b[49m\u001b[38;5;241;43m*\u001b[39;49m\u001b[38;5;241;43m*\u001b[39;49m\u001b[43mkwargs\u001b[49m\u001b[43m)\u001b[49m\n",
      "File \u001b[1;32mC:\\Program Files\\WindowsApps\\PythonSoftwareFoundation.Python.3.12_3.12.2544.0_x64__qbz5n2kfra8p0\\Lib\\tkinter\\__init__.py:1505\u001b[0m, in \u001b[0;36mMisc.mainloop\u001b[1;34m(self, n)\u001b[0m\n\u001b[0;32m   1503\u001b[0m \u001b[38;5;28;01mdef\u001b[39;00m \u001b[38;5;21mmainloop\u001b[39m(\u001b[38;5;28mself\u001b[39m, n\u001b[38;5;241m=\u001b[39m\u001b[38;5;241m0\u001b[39m):\n\u001b[0;32m   1504\u001b[0m \u001b[38;5;250m    \u001b[39m\u001b[38;5;124;03m\"\"\"Call the mainloop of Tk.\"\"\"\u001b[39;00m\n\u001b[1;32m-> 1505\u001b[0m     \u001b[38;5;28;43mself\u001b[39;49m\u001b[38;5;241;43m.\u001b[39;49m\u001b[43mtk\u001b[49m\u001b[38;5;241;43m.\u001b[39;49m\u001b[43mmainloop\u001b[49m\u001b[43m(\u001b[49m\u001b[43mn\u001b[49m\u001b[43m)\u001b[49m\n",
      "\u001b[1;31mKeyboardInterrupt\u001b[0m: "
     ]
    },
    {
     "ename": "",
     "evalue": "",
     "output_type": "error",
     "traceback": [
      "\u001b[1;31mThe Kernel crashed while executing code in the current cell or a previous cell. \n",
      "\u001b[1;31mPlease review the code in the cell(s) to identify a possible cause of the failure. \n",
      "\u001b[1;31mClick <a href='https://aka.ms/vscodeJupyterKernelCrash'>here</a> for more info. \n",
      "\u001b[1;31mView Jupyter <a href='command:jupyter.viewOutput'>log</a> for further details."
     ]
    }
   ],
   "source": [
    "import sys\n",
    "print(sys.version)\n",
    "import nltk\n",
    "nltk.__version__\n",
    "1+5*2-3 #terminal\n",
    "nltk.download()\n",
    "from nltk.book import *\n",
    "text1\n",
    "text2\n",
    "text1.concordance(\"monstrous\")\n",
    "text3.concordance(\"KILL\")\n",
    "text1.similar(\"monstrous\")\n",
    "text3.similar(\"kill\")\n",
    "text3.common_contexts([\"Kill\", \"put\"])\n",
    "text3.generate()\n",
    "text4.dispersion_plot([\"citizens\", \"democracy\", \"freedom\", \"duties\", \"America\"])\n",
    "len(text3)"
   ]
  },
  {
   "cell_type": "markdown",
   "metadata": {},
   "source": [
    "# **Feb 25, 2025 Lab 02**"
   ]
  },
  {
   "cell_type": "code",
   "execution_count": 1,
   "metadata": {},
   "outputs": [],
   "source": [
    "import nltk"
   ]
  },
  {
   "cell_type": "code",
   "execution_count": 2,
   "metadata": {},
   "outputs": [
    {
     "name": "stdout",
     "output_type": "stream",
     "text": [
      "\t Python 3.0, released in 2008, was a major revision of the language that is not completely backward compatible and much Python 2 code does not run unmodified on Python 3. With Python 2's end-of-life, only Python 3.6.x[30] and later are supported, with older versions still supporting e.g. Windows 7 (and old installers not restricted to 64-bit Windows).\n"
     ]
    }
   ],
   "source": [
    "# input string \n",
    "string = \"\t Python 3.0, released in 2008, was a major revision of the language that is not completely backward compatible and much Python 2 code does not run unmodified on Python 3. With Python 2's end-of-life, only Python 3.6.x[30] and later are supported, with older versions still supporting e.g. Windows 7 (and old installers not restricted to 64-bit Windows).\"\n",
    "print(string)"
   ]
  },
  {
   "cell_type": "code",
   "execution_count": 3,
   "metadata": {},
   "outputs": [
    {
     "name": "stdout",
     "output_type": "stream",
     "text": [
      "\t python 3.0, released in 2008, was a major revision of the language that is not completely backward compatible and much python 2 code does not run unmodified on python 3. with python 2's end-of-life, only python 3.6.x[30] and later are supported, with older versions still supporting e.g. windows 7 (and old installers not restricted to 64-bit windows).\n"
     ]
    }
   ],
   "source": [
    "# convert to lower case\n",
    "lower_string = string.lower()\n",
    "print(lower_string)"
   ]
  },
  {
   "cell_type": "code",
   "execution_count": 5,
   "metadata": {},
   "outputs": [
    {
     "name": "stdout",
     "output_type": "stream",
     "text": [
      "\t python ., released in , was a major revision of the language that is not completely backward compatible and much python  code does not run unmodified on python . with python 's end-of-life, only python ..x[] and later are supported, with older versions still supporting e.g. windows  (and old installers not restricted to -bit windows).\n"
     ]
    }
   ],
   "source": [
    "# import regex\n",
    "import re\n",
    "\n",
    "# remove numbers\n",
    "no_number_string = re.sub(r'\\d+','',lower_string)\n",
    "print(no_number_string)"
   ]
  },
  {
   "cell_type": "code",
   "execution_count": 6,
   "metadata": {},
   "outputs": [
    {
     "name": "stdout",
     "output_type": "stream",
     "text": [
      "\t python  released in  was a major revision of the language that is not completely backward compatible and much python  code does not run unmodified on python  with python s endoflife only python x and later are supported with older versions still supporting eg windows  and old installers not restricted to bit windows\n"
     ]
    }
   ],
   "source": [
    "# remove all punctuation except words and space\n",
    "no_punc_string = re.sub(r'[^\\w\\s]','', no_number_string) \n",
    "print(no_punc_string)"
   ]
  },
  {
   "cell_type": "code",
   "execution_count": 10,
   "metadata": {},
   "outputs": [
    {
     "name": "stdout",
     "output_type": "stream",
     "text": [
      "python  released in  was a major revision of the language that is not completely backward compatible and much python  code does not run unmodified on python  with python s endoflife only python x and later are supported with older versions still supporting eg windows  and old installers not restricted to bit windows\n"
     ]
    }
   ],
   "source": [
    "# remove white spaces\n",
    "no_wspace_string = no_punc_string.strip()\n",
    "print(no_wspace_string)"
   ]
  },
  {
   "cell_type": "code",
   "execution_count": 11,
   "metadata": {},
   "outputs": [
    {
     "name": "stderr",
     "output_type": "stream",
     "text": [
      "[nltk_data] Downloading package stopwords to\n",
      "[nltk_data]     C:\\Users\\junai\\AppData\\Roaming\\nltk_data...\n",
      "[nltk_data]   Unzipping corpora\\stopwords.zip.\n"
     ]
    },
    {
     "data": {
      "text/plain": [
       "True"
      ]
     },
     "execution_count": 11,
     "metadata": {},
     "output_type": "execute_result"
    }
   ],
   "source": [
    "# download stopwords\n",
    "import nltk\n",
    "nltk.download('stopwords')"
   ]
  },
  {
   "cell_type": "code",
   "execution_count": 12,
   "metadata": {},
   "outputs": [
    {
     "name": "stdout",
     "output_type": "stream",
     "text": [
      "{\"you're\", \"should've\", 'doesn', \"it's\", 'couldn', 'my', 'was', 'or', 'didn', \"didn't\", 'this', \"hasn't\", 'through', 'both', 'did', 'any', 'he', 'ma', 'what', 'yours', \"weren't\", 'i', \"i'd\", \"won't\", 'because', 'these', 'd', 'hadn', \"she's\", \"needn't\", 'once', 'some', 'few', \"i've\", 'out', 'isn', \"shan't\", 'a', 'o', 's', 'below', 'am', \"mightn't\", 'before', 'wouldn', 'all', 'same', \"doesn't\", 'here', 'being', \"you'd\", 'for', 'that', 'are', 'haven', 'shan', 'only', 'you', \"we're\", 'having', \"you'll\", \"he'll\", 't', 'such', \"that'll\", 'weren', 'if', 'on', 'yourselves', 'how', \"she'll\", \"isn't\", \"it'd\", 'why', 'ours', 'shouldn', 'they', \"wouldn't\", 'his', 'so', 've', 'herself', 'll', 'more', \"i'm\", 'the', 'can', 'myself', 'other', \"shouldn't\", 'above', 'by', 'to', 'her', 'under', 'while', 'and', 'm', \"aren't\", 'there', 'which', 'over', 'from', 'between', \"they'll\", 'wasn', 'does', 'into', 'after', 'ourselves', 'where', 'against', 'who', \"i'll\", 'were', 'their', 'will', 'each', \"he's\", 'mustn', 'up', 'been', 'most', 'don', 'of', 'too', 'it', 'until', 'doing', \"they've\", 'won', 'me', 'aren', 'as', 'at', 'had', 'be', 'should', 'when', 'about', 'itself', 'no', 'your', 'off', 'themselves', 'she', 'very', \"hadn't\", \"they'd\", \"she'd\", 'during', \"couldn't\", 'mightn', 'just', \"mustn't\", 'those', 'in', 'hasn', 'y', \"haven't\", 'do', 'not', 'again', 'down', \"he'd\", 're', 'him', 'we', 'with', 'have', 'yourself', 'own', 'hers', 'needn', 'an', 'them', \"don't\", 'further', \"it'll\", \"we'd\", 'our', 'himself', 'is', 'whom', \"you've\", 'than', 'nor', 'then', \"we've\", 'its', 'now', \"wasn't\", 'has', \"they're\", 'but', \"we'll\", 'theirs', 'ain'}\n"
     ]
    }
   ],
   "source": [
    "# import nltk for stopwords\n",
    "from nltk.corpus import stopwords\n",
    "stop_words = set(stopwords.words('english'))\n",
    "print(stop_words)"
   ]
  },
  {
   "cell_type": "code",
   "execution_count": 14,
   "metadata": {},
   "outputs": [
    {
     "data": {
      "text/plain": [
       "198"
      ]
     },
     "execution_count": 14,
     "metadata": {},
     "output_type": "execute_result"
    }
   ],
   "source": [
    "len(stop_words)"
   ]
  },
  {
   "cell_type": "code",
   "execution_count": 15,
   "metadata": {},
   "outputs": [
    {
     "name": "stdout",
     "output_type": "stream",
     "text": [
      "['python', 'released', 'in', 'was', 'a', 'major', 'revision', 'of', 'the', 'language', 'that', 'is', 'not', 'completely', 'backward', 'compatible', 'and', 'much', 'python', 'code', 'does', 'not', 'run', 'unmodified', 'on', 'python', 'with', 'python', 's', 'endoflife', 'only', 'python', 'x', 'and', 'later', 'are', 'supported', 'with', 'older', 'versions', 'still', 'supporting', 'eg', 'windows', 'and', 'old', 'installers', 'not', 'restricted', 'to', 'bit', 'windows']\n"
     ]
    }
   ],
   "source": [
    "# convert string to list of words\n",
    "lst_string = [no_wspace_string][0].split()\n",
    "print(lst_string)"
   ]
  },
  {
   "cell_type": "code",
   "execution_count": 16,
   "metadata": {},
   "outputs": [
    {
     "data": {
      "text/plain": [
       "52"
      ]
     },
     "execution_count": 16,
     "metadata": {},
     "output_type": "execute_result"
    }
   ],
   "source": [
    "len(lst_string)"
   ]
  },
  {
   "cell_type": "code",
   "execution_count": 21,
   "metadata": {},
   "outputs": [],
   "source": [
    "# remove stopwords\n",
    "no_stpwords_string=\"\"\n",
    "for i in lst_string:\n",
    "    if not i in stop_words:\n",
    "        no_stpwords_string += i+' '"
   ]
  },
  {
   "cell_type": "code",
   "execution_count": 22,
   "metadata": {},
   "outputs": [
    {
     "name": "stdout",
     "output_type": "stream",
     "text": [
      "python released major revision language completely backward compatible much python code run unmodified python python endoflife python x later supported older versions still supporting eg windows old installers restricted bit windows\n"
     ]
    }
   ],
   "source": [
    "# removing last space\n",
    "no_stpwords_string = no_stpwords_string[:-1]\n",
    "print(no_stpwords_string)"
   ]
  },
  {
   "cell_type": "markdown",
   "metadata": {},
   "source": [
    "# **Lab 2 Task**"
   ]
  },
  {
   "cell_type": "code",
   "execution_count": 1,
   "metadata": {},
   "outputs": [
    {
     "name": "stdout",
     "output_type": "stream",
     "text": [
      "Okay, so, like, basically, I was thinking, you know, maybe, just maybe, we could, possibly, try to, you know, implement, like, a new feature, or something, I don't know, maybe, version 3.14, or 2.71, I'm not really sure, but, hey, it's worth a shot, right? So, yeah, let's, um, get started, I guess, and, oh, by the way, did I mention, we'll need, like, 1000 cups of coffee, or more, to, you know, fuel our brains, and stuff.\n"
     ]
    }
   ],
   "source": [
    "# Open the file in read mode\n",
    "with open('test.txt', 'r') as file:\n",
    "    # Read the contents of the file\n",
    "    content = file.read()\n",
    "\n",
    "# Print the content of the file\n",
    "print(content)"
   ]
  },
  {
   "cell_type": "code",
   "execution_count": 8,
   "metadata": {},
   "outputs": [
    {
     "name": "stdout",
     "output_type": "stream",
     "text": [
      "okay, so, like, basically, i was thinking, you know, maybe, just maybe, we could, possibly, try to, you know, implement, like, a new feature, or something, i don't know, maybe, version 3.14, or 2.71, i'm not really sure, but, hey, it's worth a shot, right? so, yeah, let's, um, get started, i guess, and, oh, by the way, did i mention, we'll need, like, 1000 cups of coffee, or more, to, you know, fuel our brains, and stuff.\n",
      "\n",
      "********************************************\n",
      "\n",
      "okay, so, like, basically, i was thinking, you know, maybe, just maybe, we could, possibly, try to, you know, implement, like, a new feature, or something, i don't know, maybe, version ., or ., i'm not really sure, but, hey, it's worth a shot, right? so, yeah, let's, um, get started, i guess, and, oh, by the way, did i mention, we'll need, like,  cups of coffee, or more, to, you know, fuel our brains, and stuff.\n",
      "\n",
      "********************************************\n",
      "\n",
      "okay so like basically i was thinking you know maybe just maybe we could possibly try to you know implement like a new feature or something i dont know maybe version  or  im not really sure but hey its worth a shot right so yeah lets um get started i guess and oh by the way did i mention well need like  cups of coffee or more to you know fuel our brains and stuff\n",
      "\n",
      "********************************************\n",
      "\n",
      "okay so like basically i was thinking you know maybe just maybe we could possibly try to you know implement like a new feature or something i dont know maybe version  or  im not really sure but hey its worth a shot right so yeah lets um get started i guess and oh by the way did i mention well need like  cups of coffee or more to you know fuel our brains and stuff\n",
      "\n",
      "********************************************\n",
      "\n",
      "['okay', 'so', 'like', 'basically', 'i', 'was', 'thinking', 'you', 'know', 'maybe', 'just', 'maybe', 'we', 'could', 'possibly', 'try', 'to', 'you', 'know', 'implement', 'like', 'a', 'new', 'feature', 'or', 'something', 'i', 'dont', 'know', 'maybe', 'version', 'or', 'im', 'not', 'really', 'sure', 'but', 'hey', 'its', 'worth', 'a', 'shot', 'right', 'so', 'yeah', 'lets', 'um', 'get', 'started', 'i', 'guess', 'and', 'oh', 'by', 'the', 'way', 'did', 'i', 'mention', 'well', 'need', 'like', 'cups', 'of', 'coffee', 'or', 'more', 'to', 'you', 'know', 'fuel', 'our', 'brains', 'and', 'stuff']\n",
      "\n",
      "********************************************\n",
      "\n",
      "okay like basically thinking know maybe maybe could possibly try know implement like new feature something dont know maybe version im really sure hey worth shot right yeah lets um get started guess oh way mention well need like cups coffee know fuel brains stuff\n"
     ]
    }
   ],
   "source": [
    "# convert to lower case\n",
    "lower_string = content.lower()\n",
    "print(lower_string)\n",
    "\n",
    "print(\"\\n********************************************\\n\")\n",
    "\n",
    "# import regex\n",
    "import re\n",
    "\n",
    "# remove numbers\n",
    "no_number_string = re.sub(r'\\d+','',lower_string)\n",
    "print(no_number_string)\n",
    "\n",
    "print(\"\\n********************************************\\n\")\n",
    "\n",
    "# remove all punctuation except words and space\n",
    "no_punc_string = re.sub(r'[^\\w\\s]','', no_number_string) \n",
    "print(no_punc_string)\n",
    "\n",
    "print(\"\\n********************************************\\n\")\n",
    "\n",
    "# remove white spaces\n",
    "no_wspace_string = no_punc_string.strip()\n",
    "print(no_wspace_string)\n",
    "\n",
    "print(\"\\n********************************************\\n\")\n",
    "\n",
    "# convert string to list of words\n",
    "lst_string = [no_wspace_string][0].split()\n",
    "print(lst_string)\n",
    "\n",
    "print(\"\\n********************************************\\n\")\n",
    "\n",
    "# import nltk for stopwords\n",
    "from nltk.corpus import stopwords\n",
    "stop_words = set(stopwords.words('english'))\n",
    "\n",
    "# remove stopwords\n",
    "no_stpwords_string=\"\"\n",
    "for i in lst_string:\n",
    "    if not i in stop_words:\n",
    "        no_stpwords_string += i+' '\n",
    "\n",
    "# removing last space\n",
    "no_stpwords_string = no_stpwords_string[:-1]\n",
    "print(no_stpwords_string)"
   ]
  },
  {
   "cell_type": "code",
   "execution_count": null,
   "metadata": {},
   "outputs": [],
   "source": []
  }
 ],
 "metadata": {
  "kernelspec": {
   "display_name": "Python 3",
   "language": "python",
   "name": "python3"
  },
  "language_info": {
   "codemirror_mode": {
    "name": "ipython",
    "version": 3
   },
   "file_extension": ".py",
   "mimetype": "text/x-python",
   "name": "python",
   "nbconvert_exporter": "python",
   "pygments_lexer": "ipython3",
   "version": "3.12.9"
  }
 },
 "nbformat": 4,
 "nbformat_minor": 2
}
