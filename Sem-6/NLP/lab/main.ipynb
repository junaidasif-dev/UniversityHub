{
 "cells": [
  {
   "cell_type": "markdown",
   "metadata": {},
   "source": [
    "# **Feb 11, 2025 Lab 01**"
   ]
  },
  {
   "cell_type": "code",
   "execution_count": 1,
   "metadata": {},
   "outputs": [
    {
     "name": "stdout",
     "output_type": "stream",
     "text": [
      "3.12.9 (tags/v3.12.9:fdb8142, Feb  4 2025, 15:27:58) [MSC v.1942 64 bit (AMD64)]\n",
      "showing info https://raw.githubusercontent.com/nltk/nltk_data/gh-pages/index.xml\n",
      "*** Introductory Examples for the NLTK Book ***\n",
      "Loading text1, ..., text9 and sent1, ..., sent9\n",
      "Type the name of the text or sentence to view it.\n",
      "Type: 'texts()' or 'sents()' to list the materials.\n",
      "text1: Moby Dick by Herman Melville 1851\n",
      "text2: Sense and Sensibility by Jane Austen 1811\n",
      "text3: The Book of Genesis\n",
      "text4: Inaugural Address Corpus\n",
      "text5: Chat Corpus\n",
      "text6: Monty Python and the Holy Grail\n",
      "text7: Wall Street Journal\n",
      "text8: Personals Corpus\n",
      "text9: The Man Who Was Thursday by G . K . Chesterton 1908\n",
      "Displaying 11 of 11 matches:\n",
      "ong the former , one was of a most monstrous size . ... This came towards us , \n",
      "ON OF THE PSALMS . \" Touching that monstrous bulk of the whale or ork we have r\n",
      "ll over with a heathenish array of monstrous clubs and spears . Some were thick\n",
      "d as you gazed , and wondered what monstrous cannibal and savage could ever hav\n",
      "that has survived the flood ; most monstrous and most mountainous ! That Himmal\n",
      "they might scout at Moby Dick as a monstrous fable , or still worse and more de\n",
      "th of Radney .'\" CHAPTER 55 Of the Monstrous Pictures of Whales . I shall ere l\n",
      "ing Scenes . In connexion with the monstrous pictures of whales , I am strongly\n",
      "ere to enter upon those still more monstrous stories of them which are to be fo\n",
      "ght have been rummaged out of this monstrous cabinet there is no telling . But \n",
      "of Whale - Bones ; for Whales of a monstrous size are oftentimes cast up dead u\n",
      "Displaying 5 of 5 matches:\n",
      "n Cain , lest any finding him should kill him . And Cain went out from the pre\n",
      "say , This is his wife and they will kill me , but they will save thee alive .\n",
      "aid he , the men of the place should kill me for Rebekah ; because she was fai\n",
      " doth comfort himself , purposing to kill thee . Now therefore , my son , obey\n",
      " their hands ; and said , Let us not kill him . And Reuben said unto them , Sh\n",
      "true contemptible christian abundant few part mean careful puzzled\n",
      "mystifying passing curious loving wise doleful gamesome singular\n",
      "delightfully perilous fearless\n",
      "give put toward keep meet call against slay follow send love feel\n",
      "answer\n",
      "should_me\n"
     ]
    },
    {
     "name": "stderr",
     "output_type": "stream",
     "text": [
      "Building ngram index...\n"
     ]
    },
    {
     "name": "stdout",
     "output_type": "stream",
     "text": [
      "laid by her , and said unto Cain , Where art thou , and said , Go to ,\n",
      "I will not do it for ten ' s sons ; we dreamed each man according to\n",
      "their generatio the firstborn said unto Laban , Because I said , Nay ,\n",
      "but Sarah shall her name be . , duke Elah , duke Shobal , and Akan .\n",
      "and looked upon my affliction . Bashemath Ishmael ' s blood , but Isra\n",
      "for as a prince hast thou found of all the cattle in the valley , and\n",
      "the wo The\n"
     ]
    },
    {
     "data": {
      "text/plain": [
       "44764"
      ]
     },
     "execution_count": 1,
     "metadata": {},
     "output_type": "execute_result"
    },
    {
     "data": {
      "image/png": "[encoded data removed]",
      "text/plain": [
       "<Figure size 640x480 with 1 Axes>"
      ]
     },
     "metadata": {},
     "output_type": "display_data"
    }
   ],
   "source": [
    "import sys\n",
    "print(sys.version)\n",
    "import nltk\n",
    "nltk.__version__\n",
    "1+5*2-3 #terminal\n",
    "nltk.download()\n",
    "from nltk.book import *\n",
    "text1\n",
    "text2\n",
    "text1.concordance(\"monstrous\")\n",
    "text3.concordance(\"KILL\")\n",
    "text1.similar(\"monstrous\")\n",
    "text3.similar(\"kill\")\n",
    "text3.common_contexts([\"Kill\", \"put\"])\n",
    "text3.generate()\n",
    "text4.dispersion_plot([\"citizens\", \"democracy\", \"freedom\", \"duties\", \"America\"])\n",
    "len(text3)"
   ]
  },
  {
   "cell_type": "markdown",
   "metadata": {},
   "source": [
    "# **Feb 25, 2025 Lab 02**"
   ]
  },
  {
   "cell_type": "code",
   "execution_count": 2,
   "metadata": {},
   "outputs": [],
   "source": [
    "import nltk"
   ]
  },
  {
   "cell_type": "code",
   "execution_count": 3,
   "metadata": {},
   "outputs": [
    {
     "name": "stdout",
     "output_type": "stream",
     "text": [
      "\t Python 3.0, released in 2008, was a major revision of the language that is not completely backward compatible and much Python 2 code does not run unmodified on Python 3. With Python 2's end-of-life, only Python 3.6.x[30] and later are supported, with older versions still supporting e.g. Windows 7 (and old installers not restricted to 64-bit Windows).\n"
     ]
    }
   ],
   "source": [
    "# input string \n",
    "string = \"\t Python 3.0, released in 2008, was a major revision of the language that is not completely backward compatible and much Python 2 code does not run unmodified on Python 3. With Python 2's end-of-life, only Python 3.6.x[30] and later are supported, with older versions still supporting e.g. Windows 7 (and old installers not restricted to 64-bit Windows).\"\n",
    "print(string)"
   ]
  },
  {
   "cell_type": "code",
   "execution_count": 4,
   "metadata": {},
   "outputs": [
    {
     "name": "stdout",
     "output_type": "stream",
     "text": [
      "\t python 3.0, released in 2008, was a major revision of the language that is not completely backward compatible and much python 2 code does not run unmodified on python 3. with python 2's end-of-life, only python 3.6.x[30] and later are supported, with older versions still supporting e.g. windows 7 (and old installers not restricted to 64-bit windows).\n"
     ]
    }
   ],
   "source": [
    "# convert to lower case\n",
    "lower_string = string.lower()\n",
    "print(lower_string)"
   ]
  },
  {
   "cell_type": "code",
   "execution_count": 5,
   "metadata": {},
   "outputs": [
    {
     "name": "stdout",
     "output_type": "stream",
     "text": [
      "\t python ., released in , was a major revision of the language that is not completely backward compatible and much python  code does not run unmodified on python . with python 's end-of-life, only python ..x[] and later are supported, with older versions still supporting e.g. windows  (and old installers not restricted to -bit windows).\n"
     ]
    }
   ],
   "source": [
    "# import regex\n",
    "import re\n",
    "\n",
    "# remove numbers\n",
    "no_number_string = re.sub(r'\\d+','',lower_string)\n",
    "print(no_number_string)"
   ]
  },
  {
   "cell_type": "code",
   "execution_count": 6,
   "metadata": {},
   "outputs": [
    {
     "name": "stdout",
     "output_type": "stream",
     "text": [
      "\t python  released in  was a major revision of the language that is not completely backward compatible and much python  code does not run unmodified on python  with python s endoflife only python x and later are supported with older versions still supporting eg windows  and old installers not restricted to bit windows\n"
     ]
    }
   ],
   "source": [
    "# remove all punctuation except words and space\n",
    "no_punc_string = re.sub(r'[^\\w\\s]','', no_number_string) \n",
    "print(no_punc_string)"
   ]
  },
  {
   "cell_type": "code",
   "execution_count": 7,
   "metadata": {},
   "outputs": [
    {
     "name": "stdout",
     "output_type": "stream",
     "text": [
      "python  released in  was a major revision of the language that is not completely backward compatible and much python  code does not run unmodified on python  with python s endoflife only python x and later are supported with older versions still supporting eg windows  and old installers not restricted to bit windows\n"
     ]
    }
   ],
   "source": [
    "# remove white spaces\n",
    "no_wspace_string = no_punc_string.strip()\n",
    "print(no_wspace_string)"
   ]
  },
  {
   "cell_type": "code",
   "execution_count": 8,
   "metadata": {},
   "outputs": [
    {
     "name": "stderr",
     "output_type": "stream",
     "text": [
      "[nltk_data] Downloading package stopwords to\n",
      "[nltk_data]     C:\\Users\\junai\\AppData\\Roaming\\nltk_data...\n",
      "[nltk_data]   Package stopwords is already up-to-date!\n"
     ]
    },
    {
     "data": {
      "text/plain": [
       "True"
      ]
     },
     "execution_count": 8,
     "metadata": {},
     "output_type": "execute_result"
    }
   ],
   "source": [
    "# download stopwords\n",
    "import nltk\n",
    "nltk.download('stopwords')"
   ]
  },
  {
   "cell_type": "code",
   "execution_count": 9,
   "metadata": {},
   "outputs": [
    {
     "name": "stdout",
     "output_type": "stream",
     "text": [
      "{\"don't\", \"he'll\", 'there', 'and', 'he', 'this', 'to', 'its', 'most', 'have', 'me', 'these', 'do', 'aren', 'those', 'such', \"they'll\", 'ma', 'below', \"doesn't\", 'our', 'were', 'their', \"you've\", 'had', 'are', 'shouldn', 'while', 'having', \"he'd\", 'more', 'ours', \"aren't\", 'too', 'an', 'here', \"we've\", 're', \"you'd\", \"you'll\", 'on', 'be', 'into', 'won', 'doesn', 'wouldn', \"i'll\", 'as', \"mightn't\", \"she'd\", \"they're\", 'her', 'own', 'should', 'hers', 'it', 'what', \"won't\", 'up', \"wasn't\", \"isn't\", 't', \"it'll\", 's', 'with', 'has', 'been', 'isn', 'did', 'over', \"needn't\", 'about', 'how', 'or', 'that', 'i', 'd', 'weren', \"hasn't\", 'than', \"they'd\", \"shouldn't\", 'who', 'few', 'during', 'at', 'ourselves', 'yourselves', 'shan', 'didn', 'them', 'in', 'but', 'the', 'couldn', 'when', \"we're\", 'until', 'again', 'both', \"didn't\", 'm', 'am', 'down', \"it'd\", 'she', 'll', 'you', 'out', \"i'm\", 'o', 'wasn', 'mightn', 'doing', 'same', \"shan't\", 'before', 'from', 'above', 'between', 'under', 'just', \"mustn't\", \"they've\", 'off', 'not', \"we'll\", 'some', 'hasn', 'they', 'yours', 'being', \"you're\", 'by', 'once', 'theirs', 'very', 'my', 'so', 'of', 'ain', \"hadn't\", 'herself', 'only', 'which', 'y', 'then', 'if', 'no', \"she'll\", 'was', 'now', 'through', 'your', 'does', 'hadn', 'don', 'himself', \"it's\", \"she's\", \"that'll\", 've', 'after', \"should've\", 'against', 'can', 'for', 'further', 'him', 'because', 'themselves', 'itself', 'needn', \"i've\", \"haven't\", 'is', 'whom', 'his', 'each', 'where', \"wouldn't\", \"he's\", 'we', 'yourself', 'any', 'nor', 'will', 'myself', \"we'd\", \"weren't\", 'mustn', \"couldn't\", 'why', 'a', 'haven', \"i'd\", 'all', 'other'}\n"
     ]
    }
   ],
   "source": [
    "# import nltk for stopwords\n",
    "from nltk.corpus import stopwords\n",
    "stop_words = set(stopwords.words('english'))\n",
    "print(stop_words)"
   ]
  },
  {
   "cell_type": "code",
   "execution_count": 10,
   "metadata": {},
   "outputs": [
    {
     "data": {
      "text/plain": [
       "198"
      ]
     },
     "execution_count": 10,
     "metadata": {},
     "output_type": "execute_result"
    }
   ],
   "source": [
    "len(stop_words)"
   ]
  },
  {
   "cell_type": "code",
   "execution_count": 11,
   "metadata": {},
   "outputs": [
    {
     "name": "stdout",
     "output_type": "stream",
     "text": [
      "['python', 'released', 'in', 'was', 'a', 'major', 'revision', 'of', 'the', 'language', 'that', 'is', 'not', 'completely', 'backward', 'compatible', 'and', 'much', 'python', 'code', 'does', 'not', 'run', 'unmodified', 'on', 'python', 'with', 'python', 's', 'endoflife', 'only', 'python', 'x', 'and', 'later', 'are', 'supported', 'with', 'older', 'versions', 'still', 'supporting', 'eg', 'windows', 'and', 'old', 'installers', 'not', 'restricted', 'to', 'bit', 'windows']\n"
     ]
    }
   ],
   "source": [
    "# convert string to list of words\n",
    "lst_string = [no_wspace_string][0].split()\n",
    "print(lst_string)"
   ]
  },
  {
   "cell_type": "code",
   "execution_count": 12,
   "metadata": {},
   "outputs": [
    {
     "data": {
      "text/plain": [
       "52"
      ]
     },
     "execution_count": 12,
     "metadata": {},
     "output_type": "execute_result"
    }
   ],
   "source": [
    "len(lst_string)"
   ]
  },
  {
   "cell_type": "code",
   "execution_count": 13,
   "metadata": {},
   "outputs": [],
   "source": [
    "# remove stopwords\n",
    "no_stpwords_string=\"\"\n",
    "for i in lst_string:\n",
    "    if not i in stop_words:\n",
    "        no_stpwords_string += i+' '"
   ]
  },
  {
   "cell_type": "code",
   "execution_count": 14,
   "metadata": {},
   "outputs": [
    {
     "name": "stdout",
     "output_type": "stream",
     "text": [
      "python released major revision language completely backward compatible much python code run unmodified python python endoflife python x later supported older versions still supporting eg windows old installers restricted bit windows\n"
     ]
    }
   ],
   "source": [
    "# removing last space\n",
    "no_stpwords_string = no_stpwords_string[:-1]\n",
    "print(no_stpwords_string)"
   ]
  },
  {
   "cell_type": "markdown",
   "metadata": {},
   "source": [
    "# **Lab 2 Task**"
   ]
  },
  {
   "cell_type": "code",
   "execution_count": 15,
   "metadata": {},
   "outputs": [
    {
     "name": "stdout",
     "output_type": "stream",
     "text": [
      "Okay, so, like, basically, I was thinking, you know, maybe, just maybe, we could, possibly, try to, you know, implement, like, a new feature, or something, I don't know, maybe, version 3.14, or 2.71, I'm not really sure, but, hey, it's worth a shot, right? So, yeah, let's, um, get started, I guess, and, oh, by the way, did I mention, we'll need, like, 1000 cups of coffee, or more, to, you know, fuel our brains, and stuff.\n"
     ]
    }
   ],
   "source": [
    "# Open the file in read mode\n",
    "with open('test.txt', 'r') as file:\n",
    "    # Read the contents of the file\n",
    "    content = file.read()\n",
    "\n",
    "# Print the content of the file\n",
    "print(content)"
   ]
  },
  {
   "cell_type": "code",
   "execution_count": 17,
   "metadata": {},
   "outputs": [
    {
     "name": "stdout",
     "output_type": "stream",
     "text": [
      "okay, so, like, basically, i was thinking, you know, maybe, just maybe, we could, possibly, try to, you know, implement, like, a new feature, or something, i don't know, maybe, version 3.14, or 2.71, i'm not really sure, but, hey, it's worth a shot, right? so, yeah, let's, um, get started, i guess, and, oh, by the way, did i mention, we'll need, like, 1000 cups of coffee, or more, to, you know, fuel our brains, and stuff.\n",
      "\n",
      "********************************************\n",
      "\n",
      "okay, so, like, basically, i was thinking, you know, maybe, just maybe, we could, possibly, try to, you know, implement, like, a new feature, or something, i don't know, maybe, version ., or ., i'm not really sure, but, hey, it's worth a shot, right? so, yeah, let's, um, get started, i guess, and, oh, by the way, did i mention, we'll need, like,  cups of coffee, or more, to, you know, fuel our brains, and stuff.\n",
      "\n",
      "********************************************\n",
      "\n",
      "okay so like basically i was thinking you know maybe just maybe we could possibly try to you know implement like a new feature or something i dont know maybe version  or  im not really sure but hey its worth a shot right so yeah lets um get started i guess and oh by the way did i mention well need like  cups of coffee or more to you know fuel our brains and stuff\n",
      "\n",
      "********************************************\n",
      "\n",
      "okay so like basically i was thinking you know maybe just maybe we could possibly try to you know implement like a new feature or something i dont know maybe version  or  im not really sure but hey its worth a shot right so yeah lets um get started i guess and oh by the way did i mention well need like  cups of coffee or more to you know fuel our brains and stuff\n",
      "\n",
      "********************************************\n",
      "\n",
      "['okay', 'so', 'like', 'basically', 'i', 'was', 'thinking', 'you', 'know', 'maybe', 'just', 'maybe', 'we', 'could', 'possibly', 'try', 'to', 'you', 'know', 'implement', 'like', 'a', 'new', 'feature', 'or', 'something', 'i', 'dont', 'know', 'maybe', 'version', 'or', 'im', 'not', 'really', 'sure', 'but', 'hey', 'its', 'worth', 'a', 'shot', 'right', 'so', 'yeah', 'lets', 'um', 'get', 'started', 'i', 'guess', 'and', 'oh', 'by', 'the', 'way', 'did', 'i', 'mention', 'well', 'need', 'like', 'cups', 'of', 'coffee', 'or', 'more', 'to', 'you', 'know', 'fuel', 'our', 'brains', 'and', 'stuff']\n",
      "\n",
      "********************************************\n",
      "\n",
      "okay like basically thinking know maybe maybe could possibly try know implement like new feature something dont know maybe version im really sure hey worth shot right yeah lets um get started guess oh way mention well need like cups coffee know fuel brains stuff\n"
     ]
    }
   ],
   "source": [
    "# convert to lower case\n",
    "lower_string = content.lower()\n",
    "print(lower_string)\n",
    "\n",
    "print(\"\\n********************************************\\n\")\n",
    "\n",
    "# import regex\n",
    "import re\n",
    "\n",
    "# remove numbers\n",
    "no_number_string = re.sub(r'\\d+','',lower_string)\n",
    "print(no_number_string)\n",
    "\n",
    "print(\"\\n********************************************\\n\")\n",
    "\n",
    "# remove all punctuation except words and space\n",
    "no_punc_string = re.sub(r'[^\\w\\s]','', no_number_string) \n",
    "print(no_punc_string)\n",
    "\n",
    "print(\"\\n********************************************\\n\")\n",
    "\n",
    "# remove white spaces\n",
    "no_wspace_string = no_punc_string.strip()\n",
    "print(no_wspace_string)\n",
    "\n",
    "print(\"\\n********************************************\\n\")\n",
    "\n",
    "# convert string to list of words\n",
    "lst_string = [no_wspace_string][0].split()\n",
    "print(lst_string)\n",
    "\n",
    "print(\"\\n********************************************\\n\")\n",
    "\n",
    "# import nltk for stopwords\n",
    "from nltk.corpus import stopwords\n",
    "stop_words = set(stopwords.words('english'))\n",
    "\n",
    "# remove stopwords\n",
    "no_stpwords_string=\"\"\n",
    "for i in lst_string:\n",
    "    if not i in stop_words:\n",
    "        no_stpwords_string += i+' '\n",
    "\n",
    "# removing last space\n",
    "no_stpwords_string = no_stpwords_string[:-1]\n",
    "print(no_stpwords_string)"
   ]
  },
  {
   "cell_type": "markdown",
   "metadata": {},
   "source": [
    "# **March 04, 2025 Lab 03**"
   ]
  },
  {
   "cell_type": "code",
   "execution_count": 18,
   "metadata": {},
   "outputs": [
    {
     "name": "stdout",
     "output_type": "stream",
     "text": [
      "Thisisasentence.\n"
     ]
    }
   ],
   "source": [
    "# Joining: Joining a list of strings into a single string.\n",
    "words = ['This', 'is', 'a', 'sentence.']\n",
    "text = ''.join(words)\n",
    "print(text)\n"
   ]
  },
  {
   "cell_type": "code",
   "execution_count": 19,
   "metadata": {},
   "outputs": [
    {
     "name": "stdout",
     "output_type": "stream",
     "text": [
      "Name: Alice, Age: 30, Sub: NLP\n",
      "Name: 30, Age: Alice\n"
     ]
    }
   ],
   "source": [
    "# Formatting: Formatting strings with placeholders.\n",
    "name = \"Alice\"\n",
    "age = 30\n",
    "sub = \"NLP\"\n",
    "text = \"Name: {}, Age: {}, Sub: {}\".format(name, age, sub)\n",
    "print(text)\n",
    "\n",
    "text = \"Name: {}, Age: {}\".format(age, name)\n",
    "print(text)\n"
   ]
  },
  {
   "cell_type": "code",
   "execution_count": 20,
   "metadata": {},
   "outputs": [],
   "source": [
    "import nltk"
   ]
  },
  {
   "cell_type": "code",
   "execution_count": 21,
   "metadata": {},
   "outputs": [
    {
     "name": "stdout",
     "output_type": "stream",
     "text": [
      "['Tokenization', 'is', 'an', 'important', 'step', 'in', 'NLP', '.']\n"
     ]
    },
    {
     "name": "stderr",
     "output_type": "stream",
     "text": [
      "[nltk_data] Downloading package punkt to\n",
      "[nltk_data]     C:\\Users\\junai\\AppData\\Roaming\\nltk_data...\n",
      "[nltk_data]   Package punkt is already up-to-date!\n"
     ]
    }
   ],
   "source": [
    "# Tokenization: Tokenization is breaking text into smaller units, such as words or phrases, known as tokens.\n",
    "\n",
    "import nltk\n",
    "\n",
    "nltk.download('punkt')\n",
    "from nltk.tokenize import word_tokenize \n",
    "text = \"Tokenization is an important step in NLP.\" \n",
    "tokens = word_tokenize(text) \n",
    "print(tokens) \n"
   ]
  },
  {
   "cell_type": "code",
   "execution_count": 22,
   "metadata": {},
   "outputs": [
    {
     "name": "stdout",
     "output_type": "stream",
     "text": [
      "Remove special characters from this text\n",
      "#!\n",
      "#!\n",
      "Remove 1special characters from this text1\n"
     ]
    }
   ],
   "source": [
    "# Filtration: Filtration typically involves removing unwanted characters or patterns from the text, such as punctuation or special characters.\n",
    "\n",
    "import re \n",
    "text = \"Remove #special characters from this text!\" \n",
    "filtered_text = re.sub(r'[^a-zA-Z\\s]', '', text) \n",
    "print(filtered_text) \n",
    "\n",
    "filtered_text = re.sub(r'[?a-zA-Z\\s]', '', text) \n",
    "print(filtered_text) \n",
    "\n",
    "filtered_text = re.sub(r'[a-zA-Z\\s]', '', text) \n",
    "print(filtered_text) \n",
    "\n",
    "filtered_text = re.sub(r'[^a-zA-Z\\s]', '1', text) \n",
    "print(filtered_text) "
   ]
  },
  {
   "cell_type": "code",
   "execution_count": 23,
   "metadata": {},
   "outputs": [
    {
     "name": "stdout",
     "output_type": "stream",
     "text": [
      "['92-051-920125']\n",
      "['+92-051-920125']\n",
      "['+92-333-4217291']\n"
     ]
    }
   ],
   "source": [
    "import re \n",
    "text = \"Please call me at +92-051-920125.\" \n",
    "# also extract + in the phone number\n",
    "\n",
    "phone_numbers = re.findall(r'\\d{2}-\\d{3}-\\d{6}', text) \n",
    "print(phone_numbers)\n",
    "\n",
    "phone_numbers = re.findall(r'\\+\\d{2}-\\d{3}-\\d{6}', text)\n",
    "print(phone_numbers)\n",
    "\n",
    "text1 = \"Please call me at +92-333-4217291.\"\n",
    "phone_numbers = re.findall(r'\\+\\d{2}-\\d{3}-\\d{7}', text1)\n",
    "print(phone_numbers)"
   ]
  },
  {
   "cell_type": "markdown",
   "metadata": {},
   "source": [
    "# **March 11, 2025 Lab 04**"
   ]
  },
  {
   "cell_type": "code",
   "execution_count": 24,
   "metadata": {},
   "outputs": [
    {
     "name": "stderr",
     "output_type": "stream",
     "text": [
      "[nltk_data] Downloading package punkt to\n",
      "[nltk_data]     C:\\Users\\junai\\AppData\\Roaming\\nltk_data...\n",
      "[nltk_data]   Package punkt is already up-to-date!\n"
     ]
    },
    {
     "data": {
      "text/plain": [
       "True"
      ]
     },
     "execution_count": 24,
     "metadata": {},
     "output_type": "execute_result"
    }
   ],
   "source": [
    "import nltk\n",
    "nltk.download('punkt')\n"
   ]
  },
  {
   "cell_type": "code",
   "execution_count": 26,
   "metadata": {},
   "outputs": [
    {
     "name": "stdout",
     "output_type": "stream",
     "text": [
      "True\n",
      "False\n"
     ]
    }
   ],
   "source": [
    "import nltk\n",
    "from nltk.tokenize import word_tokenize\n",
    "\n",
    "def is_english(text):\n",
    "    try:\n",
    "        words = word_tokenize(text)\n",
    "        return all(word.isascii() for word in words)\n",
    "    except UnicodeDecodeError: \n",
    "        return False \n",
    "\n",
    "text1 = \"This is English text.\"\n",
    "print(is_english(text1)) \n",
    "\n",
    "text2 = \"这是中文文本。\"\n",
    "print(is_english(text2))\n"
   ]
  },
  {
   "cell_type": "markdown",
   "metadata": {},
   "source": [
    "# Lab Assignment 1\n",
    "Extract the english text from:\n",
    "this is urdu(natural) language processing urdu(tajurbakaar)"
   ]
  },
  {
   "cell_type": "markdown",
   "metadata": {},
   "source": []
  }
 ],
 "metadata": {
  "kernelspec": {
   "display_name": "Python 3",
   "language": "python",
   "name": "python3"
  },
  "language_info": {
   "codemirror_mode": {
    "name": "ipython",
    "version": 3
   },
   "file_extension": ".py",
   "mimetype": "text/x-python",
   "name": "python",
   "nbconvert_exporter": "python",
   "pygments_lexer": "ipython3",
   "version": "3.12.9"
  }
 },
 "nbformat": 4,
 "nbformat_minor": 2
}
