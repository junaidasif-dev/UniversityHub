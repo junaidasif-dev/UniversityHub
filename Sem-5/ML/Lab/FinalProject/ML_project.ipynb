{
  "cells": [
    {
      "cell_type": "code",
      "execution_count": 2,
      "metadata": {
        "id": "uje3RIo7iqGS"
      },
      "outputs": [],
      "source": [
        "import os\n",
        "import numpy as np\n",
        "import pandas as pd\n",
        "import librosa\n",
        "import torch\n",
        "import torch.nn as nn\n",
        "import torch.optim as optim\n",
        "from torch.utils.data import Dataset, DataLoader, TensorDataset\n",
        "from tqdm import tqdm\n",
        "from sklearn.model_selection import train_test_split\n",
        "from sklearn.preprocessing import LabelEncoder\n",
        "from sklearn.metrics import classification_report, confusion_matrix, f1_score, precision_score, recall_score\n",
        "import matplotlib.pyplot as plt\n",
        "import seaborn as sns"
      ]
    },
    {
      "cell_type": "code",
      "execution_count": 7,
      "metadata": {
        "colab": {
          "base_uri": "https://localhost:8080/"
        },
        "id": "MKFl1Xq42QGh",
        "outputId": "d1c5759b-9a9c-44c5-eb07-b97f2e2e5da1"
      },
      "outputs": [
        {
          "name": "stdout",
          "output_type": "stream",
          "text": [
            "Resuming download from 108003328 bytes (1275939897 bytes left)...\n",
            "Resuming download from https://www.kaggle.com/api/v1/datasets/download/pranaykoppula/torgo-audio?dataset_version_number=1 (108003328/1383943225) bytes left.\n"
          ]
        },
        {
          "name": "stderr",
          "output_type": "stream",
          "text": [
            " 11%|█         | 147M/1.29G [02:41<1:11:51, 285kB/s]\n"
          ]
        },
        {
          "ename": "ConnectionError",
          "evalue": "HTTPSConnectionPool(host='storage.googleapis.com', port=443): Read timed out.",
          "output_type": "error",
          "traceback": [
            "\u001b[1;31m---------------------------------------------------------------------------\u001b[0m",
            "\u001b[1;31mTimeoutError\u001b[0m                              Traceback (most recent call last)",
            "File \u001b[1;32m~\\AppData\\Local\\Packages\\PythonSoftwareFoundation.Python.3.12_qbz5n2kfra8p0\\LocalCache\\local-packages\\Python312\\site-packages\\urllib3\\response.py:748\u001b[0m, in \u001b[0;36mHTTPResponse._error_catcher\u001b[1;34m(self)\u001b[0m\n\u001b[0;32m    747\u001b[0m \u001b[38;5;28;01mtry\u001b[39;00m:\n\u001b[1;32m--> 748\u001b[0m     \u001b[38;5;28;01myield\u001b[39;00m\n\u001b[0;32m    750\u001b[0m \u001b[38;5;28;01mexcept\u001b[39;00m SocketTimeout \u001b[38;5;28;01mas\u001b[39;00m e:\n\u001b[0;32m    751\u001b[0m     \u001b[38;5;66;03m# FIXME: Ideally we'd like to include the url in the ReadTimeoutError but\u001b[39;00m\n\u001b[0;32m    752\u001b[0m     \u001b[38;5;66;03m# there is yet no clean way to get at it from this context.\u001b[39;00m\n",
            "File \u001b[1;32m~\\AppData\\Local\\Packages\\PythonSoftwareFoundation.Python.3.12_qbz5n2kfra8p0\\LocalCache\\local-packages\\Python312\\site-packages\\urllib3\\response.py:873\u001b[0m, in \u001b[0;36mHTTPResponse._raw_read\u001b[1;34m(self, amt, read1)\u001b[0m\n\u001b[0;32m    872\u001b[0m \u001b[38;5;28;01mwith\u001b[39;00m \u001b[38;5;28mself\u001b[39m\u001b[38;5;241m.\u001b[39m_error_catcher():\n\u001b[1;32m--> 873\u001b[0m     data \u001b[38;5;241m=\u001b[39m \u001b[38;5;28;43mself\u001b[39;49m\u001b[38;5;241;43m.\u001b[39;49m\u001b[43m_fp_read\u001b[49m\u001b[43m(\u001b[49m\u001b[43mamt\u001b[49m\u001b[43m,\u001b[49m\u001b[43m \u001b[49m\u001b[43mread1\u001b[49m\u001b[38;5;241;43m=\u001b[39;49m\u001b[43mread1\u001b[49m\u001b[43m)\u001b[49m \u001b[38;5;28;01mif\u001b[39;00m \u001b[38;5;129;01mnot\u001b[39;00m fp_closed \u001b[38;5;28;01melse\u001b[39;00m \u001b[38;5;124mb\u001b[39m\u001b[38;5;124m\"\u001b[39m\u001b[38;5;124m\"\u001b[39m\n\u001b[0;32m    874\u001b[0m     \u001b[38;5;28;01mif\u001b[39;00m amt \u001b[38;5;129;01mis\u001b[39;00m \u001b[38;5;129;01mnot\u001b[39;00m \u001b[38;5;28;01mNone\u001b[39;00m \u001b[38;5;129;01mand\u001b[39;00m amt \u001b[38;5;241m!=\u001b[39m \u001b[38;5;241m0\u001b[39m \u001b[38;5;129;01mand\u001b[39;00m \u001b[38;5;129;01mnot\u001b[39;00m data:\n\u001b[0;32m    875\u001b[0m         \u001b[38;5;66;03m# Platform-specific: Buggy versions of Python.\u001b[39;00m\n\u001b[0;32m    876\u001b[0m         \u001b[38;5;66;03m# Close the connection when no data is returned\u001b[39;00m\n\u001b[1;32m   (...)\u001b[0m\n\u001b[0;32m    881\u001b[0m         \u001b[38;5;66;03m# not properly close the connection in all cases. There is\u001b[39;00m\n\u001b[0;32m    882\u001b[0m         \u001b[38;5;66;03m# no harm in redundantly calling close.\u001b[39;00m\n",
            "File \u001b[1;32m~\\AppData\\Local\\Packages\\PythonSoftwareFoundation.Python.3.12_qbz5n2kfra8p0\\LocalCache\\local-packages\\Python312\\site-packages\\urllib3\\response.py:856\u001b[0m, in \u001b[0;36mHTTPResponse._fp_read\u001b[1;34m(self, amt, read1)\u001b[0m\n\u001b[0;32m    854\u001b[0m \u001b[38;5;28;01melse\u001b[39;00m:\n\u001b[0;32m    855\u001b[0m     \u001b[38;5;66;03m# StringIO doesn't like amt=None\u001b[39;00m\n\u001b[1;32m--> 856\u001b[0m     \u001b[38;5;28;01mreturn\u001b[39;00m \u001b[38;5;28;43mself\u001b[39;49m\u001b[38;5;241;43m.\u001b[39;49m\u001b[43m_fp\u001b[49m\u001b[38;5;241;43m.\u001b[39;49m\u001b[43mread\u001b[49m\u001b[43m(\u001b[49m\u001b[43mamt\u001b[49m\u001b[43m)\u001b[49m \u001b[38;5;28;01mif\u001b[39;00m amt \u001b[38;5;129;01mis\u001b[39;00m \u001b[38;5;129;01mnot\u001b[39;00m \u001b[38;5;28;01mNone\u001b[39;00m \u001b[38;5;28;01melse\u001b[39;00m \u001b[38;5;28mself\u001b[39m\u001b[38;5;241m.\u001b[39m_fp\u001b[38;5;241m.\u001b[39mread()\n",
            "File \u001b[1;32mC:\\Program Files\\WindowsApps\\PythonSoftwareFoundation.Python.3.12_3.12.2288.0_x64__qbz5n2kfra8p0\\Lib\\http\\client.py:479\u001b[0m, in \u001b[0;36mHTTPResponse.read\u001b[1;34m(self, amt)\u001b[0m\n\u001b[0;32m    478\u001b[0m     amt \u001b[38;5;241m=\u001b[39m \u001b[38;5;28mself\u001b[39m\u001b[38;5;241m.\u001b[39mlength\n\u001b[1;32m--> 479\u001b[0m s \u001b[38;5;241m=\u001b[39m \u001b[38;5;28;43mself\u001b[39;49m\u001b[38;5;241;43m.\u001b[39;49m\u001b[43mfp\u001b[49m\u001b[38;5;241;43m.\u001b[39;49m\u001b[43mread\u001b[49m\u001b[43m(\u001b[49m\u001b[43mamt\u001b[49m\u001b[43m)\u001b[49m\n\u001b[0;32m    480\u001b[0m \u001b[38;5;28;01mif\u001b[39;00m \u001b[38;5;129;01mnot\u001b[39;00m s \u001b[38;5;129;01mand\u001b[39;00m amt:\n\u001b[0;32m    481\u001b[0m     \u001b[38;5;66;03m# Ideally, we would raise IncompleteRead if the content-length\u001b[39;00m\n\u001b[0;32m    482\u001b[0m     \u001b[38;5;66;03m# wasn't satisfied, but it might break compatibility.\u001b[39;00m\n",
            "File \u001b[1;32mC:\\Program Files\\WindowsApps\\PythonSoftwareFoundation.Python.3.12_3.12.2288.0_x64__qbz5n2kfra8p0\\Lib\\socket.py:720\u001b[0m, in \u001b[0;36mSocketIO.readinto\u001b[1;34m(self, b)\u001b[0m\n\u001b[0;32m    719\u001b[0m \u001b[38;5;28;01mtry\u001b[39;00m:\n\u001b[1;32m--> 720\u001b[0m     \u001b[38;5;28;01mreturn\u001b[39;00m \u001b[38;5;28;43mself\u001b[39;49m\u001b[38;5;241;43m.\u001b[39;49m\u001b[43m_sock\u001b[49m\u001b[38;5;241;43m.\u001b[39;49m\u001b[43mrecv_into\u001b[49m\u001b[43m(\u001b[49m\u001b[43mb\u001b[49m\u001b[43m)\u001b[49m\n\u001b[0;32m    721\u001b[0m \u001b[38;5;28;01mexcept\u001b[39;00m timeout:\n",
            "File \u001b[1;32mC:\\Program Files\\WindowsApps\\PythonSoftwareFoundation.Python.3.12_3.12.2288.0_x64__qbz5n2kfra8p0\\Lib\\ssl.py:1251\u001b[0m, in \u001b[0;36mSSLSocket.recv_into\u001b[1;34m(self, buffer, nbytes, flags)\u001b[0m\n\u001b[0;32m   1248\u001b[0m         \u001b[38;5;28;01mraise\u001b[39;00m \u001b[38;5;167;01mValueError\u001b[39;00m(\n\u001b[0;32m   1249\u001b[0m           \u001b[38;5;124m\"\u001b[39m\u001b[38;5;124mnon-zero flags not allowed in calls to recv_into() on \u001b[39m\u001b[38;5;132;01m%s\u001b[39;00m\u001b[38;5;124m\"\u001b[39m \u001b[38;5;241m%\u001b[39m\n\u001b[0;32m   1250\u001b[0m           \u001b[38;5;28mself\u001b[39m\u001b[38;5;241m.\u001b[39m\u001b[38;5;18m__class__\u001b[39m)\n\u001b[1;32m-> 1251\u001b[0m     \u001b[38;5;28;01mreturn\u001b[39;00m \u001b[38;5;28;43mself\u001b[39;49m\u001b[38;5;241;43m.\u001b[39;49m\u001b[43mread\u001b[49m\u001b[43m(\u001b[49m\u001b[43mnbytes\u001b[49m\u001b[43m,\u001b[49m\u001b[43m \u001b[49m\u001b[43mbuffer\u001b[49m\u001b[43m)\u001b[49m\n\u001b[0;32m   1252\u001b[0m \u001b[38;5;28;01melse\u001b[39;00m:\n",
            "File \u001b[1;32mC:\\Program Files\\WindowsApps\\PythonSoftwareFoundation.Python.3.12_3.12.2288.0_x64__qbz5n2kfra8p0\\Lib\\ssl.py:1103\u001b[0m, in \u001b[0;36mSSLSocket.read\u001b[1;34m(self, len, buffer)\u001b[0m\n\u001b[0;32m   1102\u001b[0m \u001b[38;5;28;01mif\u001b[39;00m buffer \u001b[38;5;129;01mis\u001b[39;00m \u001b[38;5;129;01mnot\u001b[39;00m \u001b[38;5;28;01mNone\u001b[39;00m:\n\u001b[1;32m-> 1103\u001b[0m     \u001b[38;5;28;01mreturn\u001b[39;00m \u001b[38;5;28;43mself\u001b[39;49m\u001b[38;5;241;43m.\u001b[39;49m\u001b[43m_sslobj\u001b[49m\u001b[38;5;241;43m.\u001b[39;49m\u001b[43mread\u001b[49m\u001b[43m(\u001b[49m\u001b[38;5;28;43mlen\u001b[39;49m\u001b[43m,\u001b[49m\u001b[43m \u001b[49m\u001b[43mbuffer\u001b[49m\u001b[43m)\u001b[49m\n\u001b[0;32m   1104\u001b[0m \u001b[38;5;28;01melse\u001b[39;00m:\n",
            "\u001b[1;31mTimeoutError\u001b[0m: The read operation timed out",
            "\nThe above exception was the direct cause of the following exception:\n",
            "\u001b[1;31mReadTimeoutError\u001b[0m                          Traceback (most recent call last)",
            "File \u001b[1;32m~\\AppData\\Local\\Packages\\PythonSoftwareFoundation.Python.3.12_qbz5n2kfra8p0\\LocalCache\\local-packages\\Python312\\site-packages\\requests\\models.py:820\u001b[0m, in \u001b[0;36mResponse.iter_content.<locals>.generate\u001b[1;34m()\u001b[0m\n\u001b[0;32m    819\u001b[0m \u001b[38;5;28;01mtry\u001b[39;00m:\n\u001b[1;32m--> 820\u001b[0m     \u001b[38;5;28;01myield from\u001b[39;00m \u001b[38;5;28mself\u001b[39m\u001b[38;5;241m.\u001b[39mraw\u001b[38;5;241m.\u001b[39mstream(chunk_size, decode_content\u001b[38;5;241m=\u001b[39m\u001b[38;5;28;01mTrue\u001b[39;00m)\n\u001b[0;32m    821\u001b[0m \u001b[38;5;28;01mexcept\u001b[39;00m ProtocolError \u001b[38;5;28;01mas\u001b[39;00m e:\n",
            "File \u001b[1;32m~\\AppData\\Local\\Packages\\PythonSoftwareFoundation.Python.3.12_qbz5n2kfra8p0\\LocalCache\\local-packages\\Python312\\site-packages\\urllib3\\response.py:1060\u001b[0m, in \u001b[0;36mHTTPResponse.stream\u001b[1;34m(self, amt, decode_content)\u001b[0m\n\u001b[0;32m   1059\u001b[0m \u001b[38;5;28;01mwhile\u001b[39;00m \u001b[38;5;129;01mnot\u001b[39;00m is_fp_closed(\u001b[38;5;28mself\u001b[39m\u001b[38;5;241m.\u001b[39m_fp) \u001b[38;5;129;01mor\u001b[39;00m \u001b[38;5;28mlen\u001b[39m(\u001b[38;5;28mself\u001b[39m\u001b[38;5;241m.\u001b[39m_decoded_buffer) \u001b[38;5;241m>\u001b[39m \u001b[38;5;241m0\u001b[39m:\n\u001b[1;32m-> 1060\u001b[0m     data \u001b[38;5;241m=\u001b[39m \u001b[38;5;28;43mself\u001b[39;49m\u001b[38;5;241;43m.\u001b[39;49m\u001b[43mread\u001b[49m\u001b[43m(\u001b[49m\u001b[43mamt\u001b[49m\u001b[38;5;241;43m=\u001b[39;49m\u001b[43mamt\u001b[49m\u001b[43m,\u001b[49m\u001b[43m \u001b[49m\u001b[43mdecode_content\u001b[49m\u001b[38;5;241;43m=\u001b[39;49m\u001b[43mdecode_content\u001b[49m\u001b[43m)\u001b[49m\n\u001b[0;32m   1062\u001b[0m     \u001b[38;5;28;01mif\u001b[39;00m data:\n",
            "File \u001b[1;32m~\\AppData\\Local\\Packages\\PythonSoftwareFoundation.Python.3.12_qbz5n2kfra8p0\\LocalCache\\local-packages\\Python312\\site-packages\\urllib3\\response.py:949\u001b[0m, in \u001b[0;36mHTTPResponse.read\u001b[1;34m(self, amt, decode_content, cache_content)\u001b[0m\n\u001b[0;32m    947\u001b[0m         \u001b[38;5;28;01mreturn\u001b[39;00m \u001b[38;5;28mself\u001b[39m\u001b[38;5;241m.\u001b[39m_decoded_buffer\u001b[38;5;241m.\u001b[39mget(amt)\n\u001b[1;32m--> 949\u001b[0m data \u001b[38;5;241m=\u001b[39m \u001b[38;5;28;43mself\u001b[39;49m\u001b[38;5;241;43m.\u001b[39;49m\u001b[43m_raw_read\u001b[49m\u001b[43m(\u001b[49m\u001b[43mamt\u001b[49m\u001b[43m)\u001b[49m\n\u001b[0;32m    951\u001b[0m flush_decoder \u001b[38;5;241m=\u001b[39m amt \u001b[38;5;129;01mis\u001b[39;00m \u001b[38;5;28;01mNone\u001b[39;00m \u001b[38;5;129;01mor\u001b[39;00m (amt \u001b[38;5;241m!=\u001b[39m \u001b[38;5;241m0\u001b[39m \u001b[38;5;129;01mand\u001b[39;00m \u001b[38;5;129;01mnot\u001b[39;00m data)\n",
            "File \u001b[1;32m~\\AppData\\Local\\Packages\\PythonSoftwareFoundation.Python.3.12_qbz5n2kfra8p0\\LocalCache\\local-packages\\Python312\\site-packages\\urllib3\\response.py:872\u001b[0m, in \u001b[0;36mHTTPResponse._raw_read\u001b[1;34m(self, amt, read1)\u001b[0m\n\u001b[0;32m    870\u001b[0m fp_closed \u001b[38;5;241m=\u001b[39m \u001b[38;5;28mgetattr\u001b[39m(\u001b[38;5;28mself\u001b[39m\u001b[38;5;241m.\u001b[39m_fp, \u001b[38;5;124m\"\u001b[39m\u001b[38;5;124mclosed\u001b[39m\u001b[38;5;124m\"\u001b[39m, \u001b[38;5;28;01mFalse\u001b[39;00m)\n\u001b[1;32m--> 872\u001b[0m \u001b[38;5;28;01mwith\u001b[39;00m \u001b[38;5;28mself\u001b[39m\u001b[38;5;241m.\u001b[39m_error_catcher():\n\u001b[0;32m    873\u001b[0m     data \u001b[38;5;241m=\u001b[39m \u001b[38;5;28mself\u001b[39m\u001b[38;5;241m.\u001b[39m_fp_read(amt, read1\u001b[38;5;241m=\u001b[39mread1) \u001b[38;5;28;01mif\u001b[39;00m \u001b[38;5;129;01mnot\u001b[39;00m fp_closed \u001b[38;5;28;01melse\u001b[39;00m \u001b[38;5;124mb\u001b[39m\u001b[38;5;124m\"\u001b[39m\u001b[38;5;124m\"\u001b[39m\n",
            "File \u001b[1;32mC:\\Program Files\\WindowsApps\\PythonSoftwareFoundation.Python.3.12_3.12.2288.0_x64__qbz5n2kfra8p0\\Lib\\contextlib.py:158\u001b[0m, in \u001b[0;36m_GeneratorContextManager.__exit__\u001b[1;34m(self, typ, value, traceback)\u001b[0m\n\u001b[0;32m    157\u001b[0m \u001b[38;5;28;01mtry\u001b[39;00m:\n\u001b[1;32m--> 158\u001b[0m     \u001b[38;5;28;43mself\u001b[39;49m\u001b[38;5;241;43m.\u001b[39;49m\u001b[43mgen\u001b[49m\u001b[38;5;241;43m.\u001b[39;49m\u001b[43mthrow\u001b[49m\u001b[43m(\u001b[49m\u001b[43mvalue\u001b[49m\u001b[43m)\u001b[49m\n\u001b[0;32m    159\u001b[0m \u001b[38;5;28;01mexcept\u001b[39;00m \u001b[38;5;167;01mStopIteration\u001b[39;00m \u001b[38;5;28;01mas\u001b[39;00m exc:\n\u001b[0;32m    160\u001b[0m     \u001b[38;5;66;03m# Suppress StopIteration *unless* it's the same exception that\u001b[39;00m\n\u001b[0;32m    161\u001b[0m     \u001b[38;5;66;03m# was passed to throw().  This prevents a StopIteration\u001b[39;00m\n\u001b[0;32m    162\u001b[0m     \u001b[38;5;66;03m# raised inside the \"with\" statement from being suppressed.\u001b[39;00m\n",
            "File \u001b[1;32m~\\AppData\\Local\\Packages\\PythonSoftwareFoundation.Python.3.12_qbz5n2kfra8p0\\LocalCache\\local-packages\\Python312\\site-packages\\urllib3\\response.py:753\u001b[0m, in \u001b[0;36mHTTPResponse._error_catcher\u001b[1;34m(self)\u001b[0m\n\u001b[0;32m    750\u001b[0m \u001b[38;5;28;01mexcept\u001b[39;00m SocketTimeout \u001b[38;5;28;01mas\u001b[39;00m e:\n\u001b[0;32m    751\u001b[0m     \u001b[38;5;66;03m# FIXME: Ideally we'd like to include the url in the ReadTimeoutError but\u001b[39;00m\n\u001b[0;32m    752\u001b[0m     \u001b[38;5;66;03m# there is yet no clean way to get at it from this context.\u001b[39;00m\n\u001b[1;32m--> 753\u001b[0m     \u001b[38;5;28;01mraise\u001b[39;00m ReadTimeoutError(\u001b[38;5;28mself\u001b[39m\u001b[38;5;241m.\u001b[39m_pool, \u001b[38;5;28;01mNone\u001b[39;00m, \u001b[38;5;124m\"\u001b[39m\u001b[38;5;124mRead timed out.\u001b[39m\u001b[38;5;124m\"\u001b[39m) \u001b[38;5;28;01mfrom\u001b[39;00m \u001b[38;5;21;01me\u001b[39;00m  \u001b[38;5;66;03m# type: ignore[arg-type]\u001b[39;00m\n\u001b[0;32m    755\u001b[0m \u001b[38;5;28;01mexcept\u001b[39;00m BaseSSLError \u001b[38;5;28;01mas\u001b[39;00m e:\n\u001b[0;32m    756\u001b[0m     \u001b[38;5;66;03m# FIXME: Is there a better way to differentiate between SSLErrors?\u001b[39;00m\n",
            "\u001b[1;31mReadTimeoutError\u001b[0m: HTTPSConnectionPool(host='storage.googleapis.com', port=443): Read timed out.",
            "\nDuring handling of the above exception, another exception occurred:\n",
            "\u001b[1;31mConnectionError\u001b[0m                           Traceback (most recent call last)",
            "Cell \u001b[1;32mIn[7], line 5\u001b[0m\n\u001b[0;32m      2\u001b[0m \u001b[38;5;28;01mimport\u001b[39;00m \u001b[38;5;21;01mkagglehub\u001b[39;00m\n\u001b[0;32m      4\u001b[0m \u001b[38;5;66;03m# Download latest version\u001b[39;00m\n\u001b[1;32m----> 5\u001b[0m base_path \u001b[38;5;241m=\u001b[39m \u001b[43mkagglehub\u001b[49m\u001b[38;5;241;43m.\u001b[39;49m\u001b[43mdataset_download\u001b[49m\u001b[43m(\u001b[49m\u001b[38;5;124;43m\"\u001b[39;49m\u001b[38;5;124;43mpranaykoppula/torgo-audio\u001b[39;49m\u001b[38;5;124;43m\"\u001b[39;49m\u001b[43m)\u001b[49m\n",
            "File \u001b[1;32m~\\AppData\\Local\\Packages\\PythonSoftwareFoundation.Python.3.12_qbz5n2kfra8p0\\LocalCache\\local-packages\\Python312\\site-packages\\kagglehub\\datasets.py:28\u001b[0m, in \u001b[0;36mdataset_download\u001b[1;34m(handle, path, force_download)\u001b[0m\n\u001b[0;32m     26\u001b[0m h \u001b[38;5;241m=\u001b[39m parse_dataset_handle(handle)\n\u001b[0;32m     27\u001b[0m logger\u001b[38;5;241m.\u001b[39minfo(\u001b[38;5;124mf\u001b[39m\u001b[38;5;124m\"\u001b[39m\u001b[38;5;124mDownloading Dataset: \u001b[39m\u001b[38;5;132;01m{\u001b[39;00mh\u001b[38;5;241m.\u001b[39mto_url()\u001b[38;5;132;01m}\u001b[39;00m\u001b[38;5;124m ...\u001b[39m\u001b[38;5;124m\"\u001b[39m, extra\u001b[38;5;241m=\u001b[39m{\u001b[38;5;241m*\u001b[39m\u001b[38;5;241m*\u001b[39mEXTRA_CONSOLE_BLOCK})\n\u001b[1;32m---> 28\u001b[0m \u001b[38;5;28;01mreturn\u001b[39;00m \u001b[43mregistry\u001b[49m\u001b[38;5;241;43m.\u001b[39;49m\u001b[43mdataset_resolver\u001b[49m\u001b[43m(\u001b[49m\u001b[43mh\u001b[49m\u001b[43m,\u001b[49m\u001b[43m \u001b[49m\u001b[43mpath\u001b[49m\u001b[43m,\u001b[49m\u001b[43m \u001b[49m\u001b[43mforce_download\u001b[49m\u001b[38;5;241;43m=\u001b[39;49m\u001b[43mforce_download\u001b[49m\u001b[43m)\u001b[49m\n",
            "File \u001b[1;32m~\\AppData\\Local\\Packages\\PythonSoftwareFoundation.Python.3.12_qbz5n2kfra8p0\\LocalCache\\local-packages\\Python312\\site-packages\\kagglehub\\registry.py:23\u001b[0m, in \u001b[0;36mMultiImplRegistry.__call__\u001b[1;34m(self, *args, **kwargs)\u001b[0m\n\u001b[0;32m     21\u001b[0m \u001b[38;5;28;01mfor\u001b[39;00m impl \u001b[38;5;129;01min\u001b[39;00m \u001b[38;5;28mreversed\u001b[39m(\u001b[38;5;28mself\u001b[39m\u001b[38;5;241m.\u001b[39m_impls):\n\u001b[0;32m     22\u001b[0m     \u001b[38;5;28;01mif\u001b[39;00m impl\u001b[38;5;241m.\u001b[39mis_supported(\u001b[38;5;241m*\u001b[39margs, \u001b[38;5;241m*\u001b[39m\u001b[38;5;241m*\u001b[39mkwargs):\n\u001b[1;32m---> 23\u001b[0m         \u001b[38;5;28;01mreturn\u001b[39;00m \u001b[43mimpl\u001b[49m\u001b[43m(\u001b[49m\u001b[38;5;241;43m*\u001b[39;49m\u001b[43margs\u001b[49m\u001b[43m,\u001b[49m\u001b[43m \u001b[49m\u001b[38;5;241;43m*\u001b[39;49m\u001b[38;5;241;43m*\u001b[39;49m\u001b[43mkwargs\u001b[49m\u001b[43m)\u001b[49m\n\u001b[0;32m     24\u001b[0m     \u001b[38;5;28;01melse\u001b[39;00m:\n\u001b[0;32m     25\u001b[0m         fails\u001b[38;5;241m.\u001b[39mappend(\u001b[38;5;28mtype\u001b[39m(impl)\u001b[38;5;241m.\u001b[39m\u001b[38;5;18m__name__\u001b[39m)\n",
            "File \u001b[1;32m~\\AppData\\Local\\Packages\\PythonSoftwareFoundation.Python.3.12_qbz5n2kfra8p0\\LocalCache\\local-packages\\Python312\\site-packages\\kagglehub\\http_resolver.py:126\u001b[0m, in \u001b[0;36mDatasetHttpResolver.__call__\u001b[1;34m(self, h, path, force_download)\u001b[0m\n\u001b[0;32m    123\u001b[0m os\u001b[38;5;241m.\u001b[39mmakedirs(os\u001b[38;5;241m.\u001b[39mpath\u001b[38;5;241m.\u001b[39mdirname(archive_path), exist_ok\u001b[38;5;241m=\u001b[39m\u001b[38;5;28;01mTrue\u001b[39;00m)\n\u001b[0;32m    125\u001b[0m \u001b[38;5;66;03m# First, we download the archive.\u001b[39;00m\n\u001b[1;32m--> 126\u001b[0m \u001b[43mapi_client\u001b[49m\u001b[38;5;241;43m.\u001b[39;49m\u001b[43mdownload_file\u001b[49m\u001b[43m(\u001b[49m\u001b[43murl_path\u001b[49m\u001b[43m,\u001b[49m\u001b[43m \u001b[49m\u001b[43marchive_path\u001b[49m\u001b[43m,\u001b[49m\u001b[43m \u001b[49m\u001b[43mh\u001b[49m\u001b[43m)\u001b[49m\n\u001b[0;32m    128\u001b[0m \u001b[38;5;66;03m# Create the directory to extract the archive to.\u001b[39;00m\n\u001b[0;32m    129\u001b[0m os\u001b[38;5;241m.\u001b[39mmakedirs(out_path, exist_ok\u001b[38;5;241m=\u001b[39m\u001b[38;5;28;01mTrue\u001b[39;00m)\n",
            "File \u001b[1;32m~\\AppData\\Local\\Packages\\PythonSoftwareFoundation.Python.3.12_qbz5n2kfra8p0\\LocalCache\\local-packages\\Python312\\site-packages\\kagglehub\\clients.py:188\u001b[0m, in \u001b[0;36mKaggleApiV1Client.download_file\u001b[1;34m(self, path, out_file, resource_handle, cached_path)\u001b[0m\n\u001b[0;32m    180\u001b[0m     \u001b[38;5;28;01mwith\u001b[39;00m requests\u001b[38;5;241m.\u001b[39mget(\n\u001b[0;32m    181\u001b[0m         response\u001b[38;5;241m.\u001b[39murl,  \u001b[38;5;66;03m# URL after redirection\u001b[39;00m\n\u001b[0;32m    182\u001b[0m         stream\u001b[38;5;241m=\u001b[39m\u001b[38;5;28;01mTrue\u001b[39;00m,\n\u001b[1;32m   (...)\u001b[0m\n\u001b[0;32m    185\u001b[0m         headers\u001b[38;5;241m=\u001b[39m{\u001b[38;5;124m\"\u001b[39m\u001b[38;5;124mRange\u001b[39m\u001b[38;5;124m\"\u001b[39m: \u001b[38;5;124mf\u001b[39m\u001b[38;5;124m\"\u001b[39m\u001b[38;5;124mbytes=\u001b[39m\u001b[38;5;132;01m{\u001b[39;00msize_read\u001b[38;5;132;01m}\u001b[39;00m\u001b[38;5;124m-\u001b[39m\u001b[38;5;124m\"\u001b[39m},\n\u001b[0;32m    186\u001b[0m     ) \u001b[38;5;28;01mas\u001b[39;00m resumed_response:\n\u001b[0;32m    187\u001b[0m         logger\u001b[38;5;241m.\u001b[39minfo(\u001b[38;5;124mf\u001b[39m\u001b[38;5;124m\"\u001b[39m\u001b[38;5;124mResuming download from \u001b[39m\u001b[38;5;132;01m{\u001b[39;00murl\u001b[38;5;132;01m}\u001b[39;00m\u001b[38;5;124m (\u001b[39m\u001b[38;5;132;01m{\u001b[39;00msize_read\u001b[38;5;132;01m}\u001b[39;00m\u001b[38;5;124m/\u001b[39m\u001b[38;5;132;01m{\u001b[39;00mtotal_size\u001b[38;5;132;01m}\u001b[39;00m\u001b[38;5;124m) bytes left.\u001b[39m\u001b[38;5;124m\"\u001b[39m)\n\u001b[1;32m--> 188\u001b[0m         \u001b[43m_download_file\u001b[49m\u001b[43m(\u001b[49m\u001b[43mresumed_response\u001b[49m\u001b[43m,\u001b[49m\u001b[43m \u001b[49m\u001b[43mout_file\u001b[49m\u001b[43m,\u001b[49m\u001b[43m \u001b[49m\u001b[43msize_read\u001b[49m\u001b[43m,\u001b[49m\u001b[43m \u001b[49m\u001b[43mtotal_size\u001b[49m\u001b[43m,\u001b[49m\u001b[43m \u001b[49m\u001b[43mhash_object\u001b[49m\u001b[43m)\u001b[49m\n\u001b[0;32m    189\u001b[0m \u001b[38;5;28;01melse\u001b[39;00m:\n\u001b[0;32m    190\u001b[0m     logger\u001b[38;5;241m.\u001b[39minfo(\u001b[38;5;124mf\u001b[39m\u001b[38;5;124m\"\u001b[39m\u001b[38;5;124mDownloading from \u001b[39m\u001b[38;5;132;01m{\u001b[39;00murl\u001b[38;5;132;01m}\u001b[39;00m\u001b[38;5;124m...\u001b[39m\u001b[38;5;124m\"\u001b[39m)\n",
            "File \u001b[1;32m~\\AppData\\Local\\Packages\\PythonSoftwareFoundation.Python.3.12_qbz5n2kfra8p0\\LocalCache\\local-packages\\Python312\\site-packages\\kagglehub\\clients.py:231\u001b[0m, in \u001b[0;36m_download_file\u001b[1;34m(response, out_file, size_read, total_size, hash_object)\u001b[0m\n\u001b[0;32m    229\u001b[0m \u001b[38;5;28;01mwith\u001b[39;00m tqdm(total\u001b[38;5;241m=\u001b[39mtotal_size, initial\u001b[38;5;241m=\u001b[39msize_read, unit\u001b[38;5;241m=\u001b[39m\u001b[38;5;124m\"\u001b[39m\u001b[38;5;124mB\u001b[39m\u001b[38;5;124m\"\u001b[39m, unit_scale\u001b[38;5;241m=\u001b[39m\u001b[38;5;28;01mTrue\u001b[39;00m, unit_divisor\u001b[38;5;241m=\u001b[39m\u001b[38;5;241m1024\u001b[39m) \u001b[38;5;28;01mas\u001b[39;00m progress_bar:\n\u001b[0;32m    230\u001b[0m     \u001b[38;5;28;01mwith\u001b[39;00m \u001b[38;5;28mopen\u001b[39m(out_file, open_mode) \u001b[38;5;28;01mas\u001b[39;00m f:\n\u001b[1;32m--> 231\u001b[0m \u001b[43m        \u001b[49m\u001b[38;5;28;43;01mfor\u001b[39;49;00m\u001b[43m \u001b[49m\u001b[43mchunk\u001b[49m\u001b[43m \u001b[49m\u001b[38;5;129;43;01min\u001b[39;49;00m\u001b[43m \u001b[49m\u001b[43mresponse\u001b[49m\u001b[38;5;241;43m.\u001b[39;49m\u001b[43miter_content\u001b[49m\u001b[43m(\u001b[49m\u001b[43mCHUNK_SIZE\u001b[49m\u001b[43m)\u001b[49m\u001b[43m:\u001b[49m\n\u001b[0;32m    232\u001b[0m \u001b[43m            \u001b[49m\u001b[43mf\u001b[49m\u001b[38;5;241;43m.\u001b[39;49m\u001b[43mwrite\u001b[49m\u001b[43m(\u001b[49m\u001b[43mchunk\u001b[49m\u001b[43m)\u001b[49m\n\u001b[0;32m    233\u001b[0m \u001b[43m            \u001b[49m\u001b[38;5;28;43;01mif\u001b[39;49;00m\u001b[43m \u001b[49m\u001b[43mhash_object\u001b[49m\u001b[43m:\u001b[49m\n",
            "File \u001b[1;32m~\\AppData\\Local\\Packages\\PythonSoftwareFoundation.Python.3.12_qbz5n2kfra8p0\\LocalCache\\local-packages\\Python312\\site-packages\\requests\\models.py:826\u001b[0m, in \u001b[0;36mResponse.iter_content.<locals>.generate\u001b[1;34m()\u001b[0m\n\u001b[0;32m    824\u001b[0m     \u001b[38;5;28;01mraise\u001b[39;00m ContentDecodingError(e)\n\u001b[0;32m    825\u001b[0m \u001b[38;5;28;01mexcept\u001b[39;00m ReadTimeoutError \u001b[38;5;28;01mas\u001b[39;00m e:\n\u001b[1;32m--> 826\u001b[0m     \u001b[38;5;28;01mraise\u001b[39;00m \u001b[38;5;167;01mConnectionError\u001b[39;00m(e)\n\u001b[0;32m    827\u001b[0m \u001b[38;5;28;01mexcept\u001b[39;00m SSLError \u001b[38;5;28;01mas\u001b[39;00m e:\n\u001b[0;32m    828\u001b[0m     \u001b[38;5;28;01mraise\u001b[39;00m RequestsSSLError(e)\n",
            "\u001b[1;31mConnectionError\u001b[0m: HTTPSConnectionPool(host='storage.googleapis.com', port=443): Read timed out."
          ]
        }
      ],
      "source": [
        "# Update base path to your dataset in Colab\n",
        "import kagglehub\n",
        "\n",
        "# Download latest version\n",
        "base_path = kagglehub.dataset_download(\"pranaykoppula/torgo-audio\")\n"
      ]
    },
    {
      "cell_type": "code",
      "execution_count": 140,
      "metadata": {
        "id": "BoO5I499i8wG"
      },
      "outputs": [],
      "source": [
        "def load_audio_files(base_path):\n",
        "    \"\"\"\n",
        "    Load audio files from TORGO dataset directories\n",
        "\n",
        "    Args:\n",
        "        base_path (str): Root directory of the TORGO dataset\n",
        "\n",
        "    Returns:\n",
        "        list: Paths to audio files\n",
        "        list: Corresponding labels\n",
        "    \"\"\"\n",
        "    audio_files = []\n",
        "    labels = []\n",
        "    subdirs = ['F_Con', 'F_Dys', 'M_Con', 'M_Dys']\n",
        "\n",
        "    for subdir in tqdm(subdirs, desc=\"Processing Directories\"):\n",
        "        current_path = os.path.join(base_path, subdir)\n",
        "        label = 'Dysarthric' if 'Dys' in subdir else 'Control'\n",
        "        for root, dirs, files in os.walk(current_path):\n",
        "            for file in tqdm(files, desc=f\"Scanning {subdir}\", leave=False):\n",
        "                if file.endswith('.wav'):\n",
        "                    file_path = os.path.join(root, file)\n",
        "                    audio_files.append(file_path)\n",
        "                    labels.append(label)\n",
        "    return audio_files, labels\n"
      ]
    },
    {
      "cell_type": "code",
      "execution_count": 141,
      "metadata": {
        "id": "OIx39vyWisQ0"
      },
      "outputs": [],
      "source": [
        "def extract_mfcc(file_path, duration=3, sr=16000, n_mfcc=40):\n",
        "    try:\n",
        "        y, sr = librosa.load(file_path, sr=sr, duration=duration)\n",
        "        mfcc = librosa.feature.mfcc(y=y, sr=sr, n_mfcc=n_mfcc)\n",
        "        mfcc = np.mean(mfcc.T, axis=0)\n",
        "        return mfcc\n",
        "    except Exception as e:\n",
        "        print(f\"Error processing {file_path}: {e}\")\n",
        "        return None"
      ]
    },
    {
      "cell_type": "code",
      "execution_count": 142,
      "metadata": {
        "id": "vVr0ezgijsh_"
      },
      "outputs": [],
      "source": [
        "def prepare_feature_vectors(audio_files, labels):\n",
        "    mfcc_features = []\n",
        "    dataset_labels = []\n",
        "    le = LabelEncoder()\n",
        "    encoded_labels = le.fit_transform(labels)\n",
        "    for file_path, label in tqdm(zip(audio_files, encoded_labels), total=len(audio_files), desc=\"Extracting MFCC Features\"):\n",
        "        features = extract_mfcc(file_path)\n",
        "        if features is not None:\n",
        "            mfcc_features.append(features)\n",
        "            dataset_labels.append(label)\n",
        "    if len(mfcc_features) == 0:\n",
        "        raise RuntimeError(\"No valid features extracted. Please check your data and feature extraction process.\")\n",
        "    X_mfcc = torch.tensor(mfcc_features, dtype=torch.float32)\n",
        "    y = torch.tensor(dataset_labels)\n",
        "    return X_mfcc, y"
      ]
    },
    {
      "cell_type": "code",
      "execution_count": 143,
      "metadata": {
        "id": "My6Hl-UCjuU_"
      },
      "outputs": [],
      "source": [
        "class SimpleCNN(nn.Module):\n",
        "    def __init__(self, input_dim=40, output_dim=2):\n",
        "        super(SimpleCNN, self).__init__()\n",
        "        self.network = nn.Sequential(\n",
        "            nn.Conv1d(1, 16, kernel_size=3, stride=1, padding=1),\n",
        "            nn.ReLU(),\n",
        "            nn.MaxPool1d(kernel_size=2, stride=2),\n",
        "            nn.Conv1d(16, 32, kernel_size=3, stride=1, padding=1),\n",
        "            nn.ReLU(),\n",
        "            nn.MaxPool1d(kernel_size=2, stride=2),\n",
        "            nn.Flatten(),\n",
        "            nn.Linear(32 * (input_dim // 4), 128),\n",
        "            nn.ReLU(),\n",
        "            nn.Linear(128, output_dim)\n",
        "        )\n",
        "\n",
        "    def forward(self, x):\n",
        "        x = x.unsqueeze(1)  # Add channel dimension\n",
        "        return self.network(x)\n"
      ]
    },
    {
      "cell_type": "code",
      "execution_count": 144,
      "metadata": {
        "id": "J-zKW1HZmUld"
      },
      "outputs": [],
      "source": [
        "def train_cnn_model(X, y, test_size=0.2, random_state=42):\n",
        "    X_train, X_test, y_train, y_test = train_test_split(X, y, test_size=test_size, random_state=random_state, stratify=y)\n",
        "    train_dataset = TensorDataset(X_train, y_train)\n",
        "    test_dataset = TensorDataset(X_test, y_test)\n",
        "    train_loader = DataLoader(train_dataset, batch_size=32, shuffle=True)\n",
        "    test_loader = DataLoader(test_dataset, batch_size=32, shuffle=False)\n",
        "\n",
        "    model = SimpleCNN(input_dim=X.shape[1])\n",
        "    criterion = nn.CrossEntropyLoss()\n",
        "    optimizer = optim.Adam(model.parameters(), lr=0.001)\n",
        "    device = torch.device('cuda' if torch.cuda.is_available() else 'cpu')\n",
        "    model.to(device)\n",
        "\n",
        "    num_epochs = 50\n",
        "    for epoch in tqdm(range(num_epochs), desc=\"Training CNN Model\"):\n",
        "        model.train()\n",
        "        for batch_x, batch_y in train_loader:\n",
        "            batch_x, batch_y = batch_x.to(device), batch_y.to(device)\n",
        "            optimizer.zero_grad()\n",
        "            outputs = model(batch_x)\n",
        "            loss = criterion(outputs, batch_y)\n",
        "            loss.backward()\n",
        "            optimizer.step()\n",
        "\n",
        "    # Evaluation\n",
        "    model.eval()\n",
        "    all_preds = []\n",
        "    all_true = []\n",
        "    with torch.no_grad():\n",
        "        for batch_x, batch_y in test_loader:\n",
        "            batch_x, batch_y = batch_x.to(device), batch_y.to(device)\n",
        "            outputs = model(batch_x)\n",
        "            _, predicted = torch.max(outputs, 1)\n",
        "            all_preds.extend(predicted.cpu().numpy())\n",
        "            all_true.extend(batch_y.cpu().numpy())\n",
        "\n",
        "    class_names = ['Control', 'Dysarthric']\n",
        "    class_report = classification_report(all_true, all_preds, target_names=class_names)\n",
        "    conf_matrix = confusion_matrix(all_true, all_preds)\n",
        "    return model, class_report, conf_matrix\n"
      ]
    },
    {
      "cell_type": "code",
      "execution_count": 145,
      "metadata": {
        "id": "GH9dFRQEmVob"
      },
      "outputs": [],
      "source": [
        "def plot_confusion_matrix(conf_matrix, class_names):\n",
        "    plt.figure(figsize=(8, 6))\n",
        "    sns.heatmap(conf_matrix, annot=True, fmt='d', xticklabels=class_names, yticklabels=class_names, cmap='Blues')\n",
        "    plt.title('Confusion Matrix - Simple CNN Classifier')\n",
        "    plt.xlabel('Predicted Label')\n",
        "    plt.ylabel('True Label')\n",
        "    plt.tight_layout()\n",
        "    plt.show()\n"
      ]
    },
    {
      "cell_type": "code",
      "execution_count": 146,
      "metadata": {
        "colab": {
          "base_uri": "https://localhost:8080/"
        },
        "id": "3jq7Yk5nnrzp",
        "outputId": "ea6c74d9-f980-4615-e977-fa4cfdbf6993"
      },
      "outputs": [
        {
          "name": "stdout",
          "output_type": "stream",
          "text": [
            "Loading Audio Files\n"
          ]
        },
        {
          "name": "stderr",
          "output_type": "stream",
          "text": [
            "Processing Directories:   0%|          | 0/4 [00:00<?, ?it/s]\n",
            "Scanning F_Con: 0it [00:00, ?it/s]\u001b[A\n",
            "                                  \u001b[A\n",
            "Scanning F_Con:   0%|          | 0/387 [00:00<?, ?it/s]\u001b[A\n",
            "                                                       \u001b[A\n",
            "Scanning F_Con:   0%|          | 0/390 [00:00<?, ?it/s]\u001b[A\n",
            "                                                       \u001b[A\n",
            "Scanning F_Con:   0%|          | 0/208 [00:00<?, ?it/s]\u001b[A\n",
            "                                                       \u001b[A\n",
            "Scanning F_Con:   0%|          | 0/164 [00:00<?, ?it/s]\u001b[A\n",
            "                                                       \u001b[A\n",
            "Scanning F_Con:   0%|          | 0/400 [00:00<?, ?it/s]\u001b[A\n",
            "                                                       \u001b[A\n",
            "Scanning F_Con:   0%|          | 0/269 [00:00<?, ?it/s]\u001b[A\n",
            "                                                       \u001b[A\n",
            "Scanning F_Con:   0%|          | 0/405 [00:00<?, ?it/s]\u001b[A\n",
            "                                                       \u001b[A\n",
            "Scanning F_Con:   0%|          | 0/256 [00:00<?, ?it/s]\u001b[A\n",
            "                                                       \u001b[A\n",
            "Scanning F_Con:   0%|          | 0/992 [00:00<?, ?it/s]\u001b[A\n",
            "                                                       \u001b[A\n",
            "Scanning F_Con:   0%|          | 0/207 [00:00<?, ?it/s]\u001b[A\n",
            "                                                       \u001b[A\n",
            "Scanning F_Con:   0%|          | 0/1000 [00:00<?, ?it/s]\u001b[A\n",
            "Processing Directories:  25%|██▌       | 1/4 [00:00<00:00,  7.52it/s]\n",
            "Scanning F_Dys: 0it [00:00, ?it/s]\u001b[A\n",
            "                                  \u001b[A\n",
            "Scanning F_Dys:   0%|          | 0/249 [00:00<?, ?it/s]\u001b[A\n",
            "                                                       \u001b[A\n",
            "Scanning F_Dys:   0%|          | 0/204 [00:00<?, ?it/s]\u001b[A\n",
            "                                                       \u001b[A\n",
            "Scanning F_Dys:   0%|          | 0/134 [00:00<?, ?it/s]\u001b[A\n",
            "                                                       \u001b[A\n",
            "Scanning F_Dys:   0%|          | 0/250 [00:00<?, ?it/s]\u001b[A\n",
            "                                                       \u001b[A\n",
            "Scanning F_Dys:   0%|          | 0/134 [00:00<?, ?it/s]\u001b[A\n",
            "                                                       \u001b[A\n",
            "Scanning F_Dys:   0%|          | 0/204 [00:00<?, ?it/s]\u001b[A\n",
            "                                                       \u001b[A\n",
            "Scanning F_Dys:   0%|          | 0/199 [00:00<?, ?it/s]\u001b[A\n",
            "                                                       \u001b[A\n",
            "Scanning F_Dys:   0%|          | 0/214 [00:00<?, ?it/s]\u001b[A\n",
            "                                                       \u001b[A\n",
            "Scanning F_Dys:   0%|          | 0/209 [00:00<?, ?it/s]\u001b[A\n",
            "                                                       \u001b[A\n",
            "Scanning F_Dys:   0%|          | 0/159 [00:00<?, ?it/s]\u001b[A\n",
            "                                                       \u001b[A\n",
            "Scanning F_Dys:   0%|          | 0/435 [00:00<?, ?it/s]\u001b[A\n",
            "Processing Directories:  50%|█████     | 2/4 [00:00<00:00,  8.72it/s]\n",
            "Scanning M_Con: 0it [00:00, ?it/s]\u001b[A\n",
            "                                  \u001b[A\n",
            "Scanning M_Con:   0%|          | 0/76 [00:00<?, ?it/s]\u001b[A\n",
            "                                                      \u001b[A\n",
            "Scanning M_Con:   0%|          | 0/600 [00:00<?, ?it/s]\u001b[A\n",
            "                                                       \u001b[A\n",
            "Scanning M_Con:   0%|          | 0/648 [00:00<?, ?it/s]\u001b[A\n",
            "                                                       \u001b[A\n",
            "Scanning M_Con:   0%|          | 0/419 [00:00<?, ?it/s]\u001b[A\n",
            "                                                       \u001b[A\n",
            "Scanning M_Con:   0%|          | 0/360 [00:00<?, ?it/s]\u001b[A\n",
            "                                                       \u001b[A\n",
            "Scanning M_Con:   0%|          | 0/654 [00:00<?, ?it/s]\u001b[A\n",
            "                                                       \u001b[A\n",
            "Scanning M_Con:   0%|          | 0/600 [00:00<?, ?it/s]\u001b[A\n",
            "                                                       \u001b[A\n",
            "Scanning M_Con:   0%|          | 0/228 [00:00<?, ?it/s]\u001b[A\n",
            "                                                       \u001b[A\n",
            "Scanning M_Con:   0%|          | 0/373 [00:00<?, ?it/s]\u001b[A\n",
            "                                                       \u001b[A\n",
            "Scanning M_Con:   0%|          | 0/419 [00:00<?, ?it/s]\u001b[A\n",
            "                                                       \u001b[A\n",
            "Scanning M_Con:   0%|          | 0/388 [00:00<?, ?it/s]\u001b[A\n",
            "                                                       \u001b[A\n",
            "Scanning M_Con:   0%|          | 0/329 [00:00<?, ?it/s]\u001b[A\n",
            "                                                       \u001b[A\n",
            "Scanning M_Con:   0%|          | 0/360 [00:00<?, ?it/s]\u001b[A\n",
            "                                                       \u001b[A\n",
            "Scanning M_Con:   0%|          | 0/388 [00:00<?, ?it/s]\u001b[A\n",
            "                                                       \u001b[A\n",
            "Scanning M_Con:   0%|          | 0/307 [00:00<?, ?it/s]\u001b[A\n",
            "                                                       \u001b[A\n",
            "Scanning M_Con:   0%|          | 0/300 [00:00<?, ?it/s]\u001b[A\n",
            "                                                       \u001b[A\n",
            "Scanning M_Con:   0%|          | 0/329 [00:00<?, ?it/s]\u001b[A\n",
            "Processing Directories:  75%|███████▌  | 3/4 [00:00<00:00,  5.82it/s]\n",
            "Scanning M_Dys: 0it [00:00, ?it/s]\u001b[A\n",
            "                                  \u001b[A\n",
            "Scanning M_Dys:   0%|          | 0/286 [00:00<?, ?it/s]\u001b[A\n",
            "                                                       \u001b[A\n",
            "Scanning M_Dys:   0%|          | 0/295 [00:00<?, ?it/s]\u001b[A\n",
            "                                                       \u001b[A\n",
            "Scanning M_Dys:   0%|          | 0/169 [00:00<?, ?it/s]\u001b[A\n",
            "                                                       \u001b[A\n",
            "Scanning M_Dys:   0%|          | 0/128 [00:00<?, ?it/s]\u001b[A\n",
            "                                                       \u001b[A\n",
            "Scanning M_Dys:   0%|          | 0/421 [00:00<?, ?it/s]\u001b[A\n",
            "                                                       \u001b[A\n",
            "Scanning M_Dys:   0%|          | 0/130 [00:00<?, ?it/s]\u001b[A\n",
            "                                                       \u001b[A\n",
            "Scanning M_Dys:   0%|          | 0/286 [00:00<?, ?it/s]\u001b[A\n",
            "                                                       \u001b[A\n",
            "Scanning M_Dys:   0%|          | 0/126 [00:00<?, ?it/s]\u001b[A\n",
            "                                                       \u001b[A\n",
            "Scanning M_Dys:   0%|          | 0/100 [00:00<?, ?it/s]\u001b[A\n",
            "                                                       \u001b[A\n",
            "Scanning M_Dys:   0%|          | 0/100 [00:00<?, ?it/s]\u001b[A\n",
            "                                                       \u001b[A\n",
            "Scanning M_Dys:   0%|          | 0/298 [00:00<?, ?it/s]\u001b[A\n",
            "                                                       \u001b[A\n",
            "Scanning M_Dys:   0%|          | 0/416 [00:00<?, ?it/s]\u001b[A\n",
            "                                                       \u001b[A\n",
            "Scanning M_Dys:   0%|          | 0/393 [00:00<?, ?it/s]\u001b[A\n",
            "                                                       \u001b[A\n",
            "Scanning M_Dys:   0%|          | 0/240 [00:00<?, ?it/s]\u001b[A\n",
            "                                                       \u001b[A\n",
            "Scanning M_Dys:   0%|          | 0/240 [00:00<?, ?it/s]\u001b[A\n",
            "                                                       \u001b[A\n",
            "Scanning M_Dys:   0%|          | 0/160 [00:00<?, ?it/s]\u001b[A\n",
            "Processing Directories: 100%|██████████| 4/4 [00:00<00:00,  5.15it/s]"
          ]
        },
        {
          "name": "stdout",
          "output_type": "stream",
          "text": [
            "Total audio files found: 17635\n"
          ]
        },
        {
          "name": "stderr",
          "output_type": "stream",
          "text": [
            "\n"
          ]
        }
      ],
      "source": [
        "print(\"Loading Audio Files\")\n",
        "audio_files, labels = load_audio_files(base_path)\n",
        "print(f\"Total audio files found: {len(audio_files)}\")"
      ]
    },
    {
      "cell_type": "code",
      "execution_count": 147,
      "metadata": {
        "colab": {
          "base_uri": "https://localhost:8080/",
          "height": 939
        },
        "id": "eXes78LAntup",
        "outputId": "4986d41f-b713-4f5f-b831-6a1614154e14"
      },
      "outputs": [
        {
          "name": "stdout",
          "output_type": "stream",
          "text": [
            "\\nPreparing Feature Vectors\n"
          ]
        },
        {
          "name": "stderr",
          "output_type": "stream",
          "text": [
            "Extracting MFCC Features:  29%|██▉       | 5188/17635 [01:27<07:14, 28.63it/s]"
          ]
        },
        {
          "name": "stdout",
          "output_type": "stream",
          "text": [
            "Error processing /root/.cache/kagglehub/datasets/pranaykoppula/torgo-audio/versions/1/F_Dys/wav_headMic_F01/wav_headMic_F01_0067.wav: \n"
          ]
        },
        {
          "name": "stderr",
          "output_type": "stream",
          "text": [
            "Extracting MFCC Features:  29%|██▉       | 5199/17635 [01:27<06:55, 29.95it/s]"
          ]
        },
        {
          "name": "stdout",
          "output_type": "stream",
          "text": [
            "Error processing /root/.cache/kagglehub/datasets/pranaykoppula/torgo-audio/versions/1/F_Dys/wav_headMic_F01/wav_headMic_F01_0068.wav: \n"
          ]
        },
        {
          "name": "stderr",
          "output_type": "stream",
          "text": [
            "Extracting MFCC Features: 100%|██████████| 17635/17635 [05:18<00:00, 55.37it/s]\n"
          ]
        },
        {
          "name": "stdout",
          "output_type": "stream",
          "text": [
            "Feature matrix shape: torch.Size([17633, 40])\n",
            "Labels shape: torch.Size([17633])\n",
            "\\nTraining CNN Model\n"
          ]
        },
        {
          "name": "stderr",
          "output_type": "stream",
          "text": [
            "Training CNN Model: 100%|██████████| 50/50 [02:26<00:00,  2.93s/it]\n"
          ]
        },
        {
          "name": "stdout",
          "output_type": "stream",
          "text": [
            "\\nClassification Report:\n",
            "              precision    recall  f1-score   support\n",
            "\n",
            "     Control       0.99      0.99      0.99      2291\n",
            "  Dysarthric       0.98      0.98      0.98      1236\n",
            "\n",
            "    accuracy                           0.98      3527\n",
            "   macro avg       0.98      0.98      0.98      3527\n",
            "weighted avg       0.98      0.98      0.98      3527\n",
            "\n"
          ]
        },
        {
          "data": {
            "image/png": "[encoded data removed]",
            "text/plain": [
              "<Figure size 800x600 with 2 Axes>"
            ]
          },
          "metadata": {},
          "output_type": "display_data"
        }
      ],
      "source": [
        "print(\"\\\\nPreparing Feature Vectors\")\n",
        "X, y = prepare_feature_vectors(audio_files, labels)\n",
        "print(f\"Feature matrix shape: {X.shape}\")\n",
        "print(f\"Labels shape: {y.shape}\")\n",
        "\n",
        "print(\"\\\\nTraining CNN Model\")\n",
        "model, report, conf_matrix = train_cnn_model(X, y)\n",
        "\n",
        "print(\"\\\\nClassification Report:\")\n",
        "print(report)\n",
        "\n",
        "plot_confusion_matrix(conf_matrix, ['Control', 'Dysarthric'])\n"
      ]
    },
    {
      "cell_type": "code",
      "execution_count": 148,
      "metadata": {
        "id": "9kW5ksPun7Ep"
      },
      "outputs": [],
      "source": [
        "# ============ Step 7: RNN model ============\n",
        "\n",
        "class SimpleRNN(nn.Module):\n",
        "    def __init__(self, input_dim=40, hidden_dim=128, output_dim=2):\n",
        "        super(SimpleRNN, self).__init__()\n",
        "        self.rnn = nn.RNN(input_size=input_dim, hidden_size=hidden_dim, num_layers=2, batch_first=True)\n",
        "        self.fc = nn.Sequential(\n",
        "            nn.Linear(hidden_dim, 64),  # Fully connected layer\n",
        "            nn.ReLU(),\n",
        "            nn.Linear(64, output_dim)  # Output layer\n",
        "        )\n",
        "\n",
        "    def forward(self, x):\n",
        "        # Reshape input for RNN: Add sequence length = 1 (batch_size, seq_len=1, feature_dim=input_dim)\n",
        "        x = x.unsqueeze(1)  # Add sequence length dimension\n",
        "        x, _ = self.rnn(x)  # Output: (batch_size, seq_len=1, hidden_dim)\n",
        "        x = x[:, -1, :]  # Take the last hidden state (batch_size, hidden_dim)\n",
        "        x = self.fc(x)  # Fully connected layers\n",
        "        return x\n",
        "\n",
        "\n"
      ]
    },
    {
      "cell_type": "code",
      "execution_count": 149,
      "metadata": {
        "id": "KjwvM-7-od_l"
      },
      "outputs": [],
      "source": [
        "def train_rnn_model(X, y, test_size=0.2, random_state=42):\n",
        "    \"\"\"\n",
        "    Train and evaluate an RNN model for binary classification.\n",
        "\n",
        "    Args:\n",
        "        X (torch.Tensor): Input feature tensor.\n",
        "        y (torch.Tensor): Labels tensor.\n",
        "        test_size (float): Fraction of data to use for testing.\n",
        "        random_state (int): Random seed for train-test split.\n",
        "\n",
        "    Returns:\n",
        "        model (nn.Module): Trained RNN model.\n",
        "        class_report (str): Classification report.\n",
        "        conf_matrix (np.ndarray): Confusion matrix.\n",
        "    \"\"\"\n",
        "    # Split data into training and testing sets\n",
        "    X_train, X_test, y_train, y_test = train_test_split(\n",
        "        X, y, test_size=test_size, random_state=random_state, stratify=y\n",
        "    )\n",
        "    train_dataset = TensorDataset(X_train, y_train)\n",
        "    test_dataset = TensorDataset(X_test, y_test)\n",
        "    train_loader = DataLoader(train_dataset, batch_size=32, shuffle=True)\n",
        "    test_loader = DataLoader(test_dataset, batch_size=32, shuffle=False)\n",
        "\n",
        "    # Initialize the RNN model\n",
        "    model = SimpleRNN(input_dim=X.shape[1])\n",
        "    criterion = nn.CrossEntropyLoss()\n",
        "    optimizer = optim.Adam(model.parameters(), lr=0.001)\n",
        "    device = torch.device('cuda' if torch.cuda.is_available() else 'cpu')\n",
        "    model.to(device)\n",
        "\n",
        "    # Training loop\n",
        "    num_epochs = 50\n",
        "    for epoch in tqdm(range(num_epochs), desc=\"Training RNN Model\"):\n",
        "        model.train()\n",
        "        for batch_x, batch_y in train_loader:\n",
        "            batch_x, batch_y = batch_x.to(device), batch_y.to(device)\n",
        "            optimizer.zero_grad()\n",
        "            outputs = model(batch_x)  # Forward pass\n",
        "            loss = criterion(outputs, batch_y)  # Compute loss\n",
        "            loss.backward()  # Backpropagation\n",
        "            optimizer.step()  # Update weights\n",
        "\n",
        "    # Evaluation\n",
        "    model.eval()\n",
        "    all_preds = []\n",
        "    all_true = []\n",
        "    with torch.no_grad():\n",
        "        for batch_x, batch_y in test_loader:\n",
        "            batch_x, batch_y = batch_x.to(device), batch_y.to(device)\n",
        "            outputs = model(batch_x)  # Forward pass\n",
        "            _, predicted = torch.max(outputs, 1)  # Get predicted class\n",
        "            all_preds.extend(predicted.cpu().numpy())\n",
        "            all_true.extend(batch_y.cpu().numpy())\n",
        "\n",
        "    # Generate classification report and confusion matrix\n",
        "    class_names = ['Control', 'Dysarthric']\n",
        "    class_report = classification_report(all_true, all_preds, target_names=class_names)\n",
        "    conf_matrix = confusion_matrix(all_true, all_preds)\n",
        "    return model, class_report, conf_matrix\n"
      ]
    },
    {
      "cell_type": "code",
      "execution_count": 150,
      "metadata": {
        "id": "kiOdmThAoo35"
      },
      "outputs": [],
      "source": [
        "def plot_confusion_matrix_rnn(conf_matrix, class_names):\n",
        "    # Ensure the confusion matrix is 2D\n",
        "    if len(conf_matrix.shape) != 2:\n",
        "        raise ValueError(f\"Confusion matrix should be 2D, but got {conf_matrix.shape}.\")\n",
        "\n",
        "    plt.figure(figsize=(8, 6))\n",
        "    sns.heatmap(conf_matrix, annot=True, fmt='d', xticklabels=class_names, yticklabels=class_names, cmap='Blues')\n",
        "    plt.title('Confusion Matrix - Simple RNN Classifier')\n",
        "    plt.xlabel('Predicted Label')\n",
        "    plt.ylabel('True Label')\n",
        "    plt.tight_layout()\n",
        "    plt.show()\n",
        "\n",
        "\n"
      ]
    },
    {
      "cell_type": "code",
      "execution_count": 151,
      "metadata": {
        "colab": {
          "base_uri": "https://localhost:8080/"
        },
        "id": "q-vnASOTo3Jr",
        "outputId": "3db05b5a-2c77-4a56-aa0a-ee3ff137a5c6"
      },
      "outputs": [
        {
          "name": "stdout",
          "output_type": "stream",
          "text": [
            "Loading Audio Files\n"
          ]
        },
        {
          "name": "stderr",
          "output_type": "stream",
          "text": [
            "Processing Directories:   0%|          | 0/4 [00:00<?, ?it/s]\n",
            "Scanning F_Con: 0it [00:00, ?it/s]\u001b[A\n",
            "                                  \u001b[A\n",
            "Scanning F_Con:   0%|          | 0/387 [00:00<?, ?it/s]\u001b[A\n",
            "                                                       \u001b[A\n",
            "Scanning F_Con:   0%|          | 0/390 [00:00<?, ?it/s]\u001b[A\n",
            "                                                       \u001b[A\n",
            "Scanning F_Con:   0%|          | 0/208 [00:00<?, ?it/s]\u001b[A\n",
            "                                                       \u001b[A\n",
            "Scanning F_Con:   0%|          | 0/164 [00:00<?, ?it/s]\u001b[A\n",
            "                                                       \u001b[A\n",
            "Scanning F_Con:   0%|          | 0/400 [00:00<?, ?it/s]\u001b[A\n",
            "                                                       \u001b[A\n",
            "Scanning F_Con:   0%|          | 0/269 [00:00<?, ?it/s]\u001b[A\n",
            "                                                       \u001b[A\n",
            "Scanning F_Con:   0%|          | 0/405 [00:00<?, ?it/s]\u001b[A\n",
            "                                                       \u001b[A\n",
            "Scanning F_Con:   0%|          | 0/256 [00:00<?, ?it/s]\u001b[A\n",
            "                                                       \u001b[A\n",
            "Scanning F_Con:   0%|          | 0/992 [00:00<?, ?it/s]\u001b[A\n",
            "                                                       \u001b[A\n",
            "Scanning F_Con:   0%|          | 0/207 [00:00<?, ?it/s]\u001b[A\n",
            "                                                       \u001b[A\n",
            "Scanning F_Con:   0%|          | 0/1000 [00:00<?, ?it/s]\u001b[A\n",
            "Processing Directories:  25%|██▌       | 1/4 [00:00<00:00,  7.64it/s]\n",
            "Scanning F_Dys: 0it [00:00, ?it/s]\u001b[A\n",
            "                                  \u001b[A\n",
            "Scanning F_Dys:   0%|          | 0/249 [00:00<?, ?it/s]\u001b[A\n",
            "                                                       \u001b[A\n",
            "Scanning F_Dys:   0%|          | 0/204 [00:00<?, ?it/s]\u001b[A\n",
            "                                                       \u001b[A\n",
            "Scanning F_Dys:   0%|          | 0/134 [00:00<?, ?it/s]\u001b[A\n",
            "                                                       \u001b[A\n",
            "Scanning F_Dys:   0%|          | 0/250 [00:00<?, ?it/s]\u001b[A\n",
            "                                                       \u001b[A\n",
            "Scanning F_Dys:   0%|          | 0/134 [00:00<?, ?it/s]\u001b[A\n",
            "                                                       \u001b[A\n",
            "Scanning F_Dys:   0%|          | 0/204 [00:00<?, ?it/s]\u001b[A\n",
            "                                                       \u001b[A\n",
            "Scanning F_Dys:   0%|          | 0/199 [00:00<?, ?it/s]\u001b[A\n",
            "                                                       \u001b[A\n",
            "Scanning F_Dys:   0%|          | 0/214 [00:00<?, ?it/s]\u001b[A\n",
            "                                                       \u001b[A\n",
            "Scanning F_Dys:   0%|          | 0/209 [00:00<?, ?it/s]\u001b[A\n",
            "                                                       \u001b[A\n",
            "Scanning F_Dys:   0%|          | 0/159 [00:00<?, ?it/s]\u001b[A\n",
            "                                                       \u001b[A\n",
            "Scanning F_Dys:   0%|          | 0/435 [00:00<?, ?it/s]\u001b[A\n",
            "Processing Directories:  50%|█████     | 2/4 [00:00<00:00,  7.51it/s]\n",
            "Scanning M_Con: 0it [00:00, ?it/s]\u001b[A\n",
            "                                  \u001b[A\n",
            "Scanning M_Con:   0%|          | 0/76 [00:00<?, ?it/s]\u001b[A\n",
            "                                                      \u001b[A\n",
            "Scanning M_Con:   0%|          | 0/600 [00:00<?, ?it/s]\u001b[A\n",
            "                                                       \u001b[A\n",
            "Scanning M_Con:   0%|          | 0/648 [00:00<?, ?it/s]\u001b[A\n",
            "                                                       \u001b[A\n",
            "Scanning M_Con:   0%|          | 0/419 [00:00<?, ?it/s]\u001b[A\n",
            "                                                       \u001b[A\n",
            "Scanning M_Con:   0%|          | 0/360 [00:00<?, ?it/s]\u001b[A\n",
            "                                                       \u001b[A\n",
            "Scanning M_Con:   0%|          | 0/654 [00:00<?, ?it/s]\u001b[A\n",
            "                                                       \u001b[A\n",
            "Scanning M_Con:   0%|          | 0/600 [00:00<?, ?it/s]\u001b[A\n",
            "                                                       \u001b[A\n",
            "Scanning M_Con:   0%|          | 0/228 [00:00<?, ?it/s]\u001b[A\n",
            "                                                       \u001b[A\n",
            "Scanning M_Con:   0%|          | 0/373 [00:00<?, ?it/s]\u001b[A\n",
            "                                                       \u001b[A\n",
            "Scanning M_Con:   0%|          | 0/419 [00:00<?, ?it/s]\u001b[A\n",
            "                                                       \u001b[A\n",
            "Scanning M_Con:   0%|          | 0/388 [00:00<?, ?it/s]\u001b[A\n",
            "                                                       \u001b[A\n",
            "Scanning M_Con:   0%|          | 0/329 [00:00<?, ?it/s]\u001b[A\n",
            "                                                       \u001b[A\n",
            "Scanning M_Con:   0%|          | 0/360 [00:00<?, ?it/s]\u001b[A\n",
            "                                                       \u001b[A\n",
            "Scanning M_Con:   0%|          | 0/388 [00:00<?, ?it/s]\u001b[A\n",
            "                                                       \u001b[A\n",
            "Scanning M_Con:   0%|          | 0/307 [00:00<?, ?it/s]\u001b[A\n",
            "                                                       \u001b[A\n",
            "Scanning M_Con:   0%|          | 0/300 [00:00<?, ?it/s]\u001b[A\n",
            "                                                       \u001b[A\n",
            "Scanning M_Con:   0%|          | 0/329 [00:00<?, ?it/s]\u001b[A\n",
            "Processing Directories:  75%|███████▌  | 3/4 [00:00<00:00,  5.61it/s]\n",
            "Scanning M_Dys: 0it [00:00, ?it/s]\u001b[A\n",
            "                                  \u001b[A\n",
            "Scanning M_Dys:   0%|          | 0/286 [00:00<?, ?it/s]\u001b[A\n",
            "                                                       \u001b[A\n",
            "Scanning M_Dys:   0%|          | 0/295 [00:00<?, ?it/s]\u001b[A\n",
            "                                                       \u001b[A\n",
            "Scanning M_Dys:   0%|          | 0/169 [00:00<?, ?it/s]\u001b[A\n",
            "                                                       \u001b[A\n",
            "Scanning M_Dys:   0%|          | 0/128 [00:00<?, ?it/s]\u001b[A\n",
            "                                                       \u001b[A\n",
            "Scanning M_Dys:   0%|          | 0/421 [00:00<?, ?it/s]\u001b[A\n",
            "                                                       \u001b[A\n",
            "Scanning M_Dys:   0%|          | 0/130 [00:00<?, ?it/s]\u001b[A\n",
            "                                                       \u001b[A\n",
            "Scanning M_Dys:   0%|          | 0/286 [00:00<?, ?it/s]\u001b[A\n",
            "                                                       \u001b[A\n",
            "Scanning M_Dys:   0%|          | 0/126 [00:00<?, ?it/s]\u001b[A\n",
            "                                                       \u001b[A\n",
            "Scanning M_Dys:   0%|          | 0/100 [00:00<?, ?it/s]\u001b[A\n",
            "                                                       \u001b[A\n",
            "Scanning M_Dys:   0%|          | 0/100 [00:00<?, ?it/s]\u001b[A\n",
            "                                                       \u001b[A\n",
            "Scanning M_Dys:   0%|          | 0/298 [00:00<?, ?it/s]\u001b[A\n",
            "                                                       \u001b[A\n",
            "Scanning M_Dys:   0%|          | 0/416 [00:00<?, ?it/s]\u001b[A\n",
            "                                                       \u001b[A\n",
            "Scanning M_Dys:   0%|          | 0/393 [00:00<?, ?it/s]\u001b[A\n",
            "                                                       \u001b[A\n",
            "Scanning M_Dys:   0%|          | 0/240 [00:00<?, ?it/s]\u001b[A\n",
            "                                                       \u001b[A\n",
            "Scanning M_Dys:   0%|          | 0/240 [00:00<?, ?it/s]\u001b[A\n",
            "                                                       \u001b[A\n",
            "Scanning M_Dys:   0%|          | 0/160 [00:00<?, ?it/s]\u001b[A\n",
            "Processing Directories: 100%|██████████| 4/4 [00:00<00:00,  5.68it/s]\n"
          ]
        },
        {
          "name": "stdout",
          "output_type": "stream",
          "text": [
            "Total audio files found: 17635\n",
            "\n",
            "Preparing Feature Vectors\n"
          ]
        },
        {
          "name": "stderr",
          "output_type": "stream",
          "text": [
            "Extracting MFCC Features:  30%|██▉       | 5206/17635 [01:35<02:03, 100.37it/s]"
          ]
        },
        {
          "name": "stdout",
          "output_type": "stream",
          "text": [
            "Error processing /root/.cache/kagglehub/datasets/pranaykoppula/torgo-audio/versions/1/F_Dys/wav_headMic_F01/wav_headMic_F01_0067.wav: \n",
            "Error processing /root/.cache/kagglehub/datasets/pranaykoppula/torgo-audio/versions/1/F_Dys/wav_headMic_F01/wav_headMic_F01_0068.wav: \n"
          ]
        },
        {
          "name": "stderr",
          "output_type": "stream",
          "text": [
            "Extracting MFCC Features: 100%|██████████| 17635/17635 [05:15<00:00, 55.97it/s]\n"
          ]
        },
        {
          "name": "stdout",
          "output_type": "stream",
          "text": [
            "Feature matrix shape: torch.Size([17633, 40])\n",
            "Labels shape: torch.Size([17633])\n",
            "\n",
            "Training RNN Model\n"
          ]
        },
        {
          "name": "stderr",
          "output_type": "stream",
          "text": [
            "Training RNN Model: 100%|██████████| 50/50 [01:57<00:00,  2.35s/it]\n"
          ]
        }
      ],
      "source": [
        "# Load and process data\n",
        "print(\"Loading Audio Files\")\n",
        "audio_files, labels = load_audio_files(base_path)\n",
        "print(f\"Total audio files found: {len(audio_files)}\")\n",
        "\n",
        "print(\"\\nPreparing Feature Vectors\")\n",
        "X, y = prepare_feature_vectors(audio_files, labels)\n",
        "\n",
        "# No reshaping required; input shape should be (batch_size, feature_dim)\n",
        "print(f\"Feature matrix shape: {X.shape}\")\n",
        "print(f\"Labels shape: {y.shape}\")\n",
        "\n",
        "# Train and evaluate the RNN model\n",
        "print(\"\\nTraining RNN Model\")\n",
        "rnn_model, rnn_report, rnn_conf_matrix = train_rnn_model(X, y)\n",
        "\n",
        " # Use the correct function for RNN's confusion matrix plotting."
      ]
    },
    {
      "cell_type": "code",
      "execution_count": 152,
      "metadata": {
        "colab": {
          "base_uri": "https://localhost:8080/",
          "height": 798
        },
        "id": "SfQk6h9yVSvn",
        "outputId": "2d262039-8c06-40d2-ea74-b41595abb153"
      },
      "outputs": [
        {
          "name": "stdout",
          "output_type": "stream",
          "text": [
            "\n",
            "Classification Report:\n",
            "              precision    recall  f1-score   support\n",
            "\n",
            "     Control       0.97      0.98      0.97      2291\n",
            "  Dysarthric       0.95      0.95      0.95      1236\n",
            "\n",
            "    accuracy                           0.97      3527\n",
            "   macro avg       0.96      0.96      0.96      3527\n",
            "weighted avg       0.97      0.97      0.97      3527\n",
            "\n"
          ]
        },
        {
          "data": {
            "image/png": "[encoded data removed]",
            "text/plain": [
              "<Figure size 800x600 with 2 Axes>"
            ]
          },
          "metadata": {},
          "output_type": "display_data"
        }
      ],
      "source": [
        "# Display classification report\n",
        "print(\"\\nClassification Report:\")\n",
        "print(rnn_report)\n",
        "\n",
        "# Plot the confusion matrix\n",
        "plot_confusion_matrix_rnn(rnn_conf_matrix, ['Control', 'Dysarthric'])"
      ]
    },
    {
      "cell_type": "code",
      "execution_count": 153,
      "metadata": {
        "id": "QBffSR2fpK7N"
      },
      "outputs": [],
      "source": [
        "class SimpleLSTM(nn.Module):\n",
        "    def __init__(self, input_dim=40, hidden_dim=128, output_dim=2):\n",
        "        super(SimpleLSTM, self).__init__()\n",
        "        self.lstm = nn.LSTM(input_size=input_dim, hidden_size=hidden_dim, num_layers=2, batch_first=True)\n",
        "        self.fc = nn.Sequential(\n",
        "            nn.Linear(hidden_dim, 64),  # Fully connected layer\n",
        "            nn.ReLU(),\n",
        "            nn.Linear(64, output_dim)  # Output layer\n",
        "        )\n",
        "\n",
        "    def forward(self, x):\n",
        "        # Reshape input for LSTM: Add sequence length = 1 (batch_size, seq_len=1, feature_dim=input_dim)\n",
        "        x = x.unsqueeze(1)  # Add sequence length dimension\n",
        "        x, _ = self.lstm(x)  # Output: (batch_size, seq_len=1, hidden_dim)\n",
        "        x = x[:, -1, :]  # Take the last hidden state (batch_size, hidden_dim)\n",
        "        x = self.fc(x)  # Fully connected layers\n",
        "        return x"
      ]
    },
    {
      "cell_type": "code",
      "execution_count": 154,
      "metadata": {
        "id": "RhiPR_PHpXre"
      },
      "outputs": [],
      "source": [
        "def train_lstm_model(X, y, test_size=0.2, random_state=42):\n",
        "    \"\"\"\n",
        "    Train and evaluate an LSTM model for binary classification.\n",
        "    \"\"\"\n",
        "    # Split data into training and testing sets\n",
        "    X_train, X_test, y_train, y_test = train_test_split(\n",
        "        X, y, test_size=test_size, random_state=random_state, stratify=y\n",
        "    )\n",
        "    train_dataset = TensorDataset(X_train, y_train)\n",
        "    test_dataset = TensorDataset(X_test, y_test)\n",
        "    train_loader = DataLoader(train_dataset, batch_size=32, shuffle=True)\n",
        "    test_loader = DataLoader(test_dataset, batch_size=32, shuffle=False)\n",
        "\n",
        "    # Initialize the LSTM model\n",
        "    model = SimpleLSTM(input_dim=X.shape[1])\n",
        "    criterion = nn.CrossEntropyLoss()\n",
        "    optimizer = optim.Adam(model.parameters(), lr=0.001)\n",
        "    device = torch.device('cuda' if torch.cuda.is_available() else 'cpu')\n",
        "    model.to(device)\n",
        "\n",
        "    # Training loop\n",
        "    num_epochs = 50\n",
        "    for epoch in tqdm(range(num_epochs), desc=\"Training LSTM Model\"):\n",
        "        model.train()\n",
        "        for batch_x, batch_y in train_loader:\n",
        "            batch_x, batch_y = batch_x.to(device), batch_y.to(device)\n",
        "            optimizer.zero_grad()\n",
        "            outputs = model(batch_x)  # Forward pass\n",
        "            loss = criterion(outputs, batch_y)  # Compute loss\n",
        "            loss.backward()  # Backpropagation\n",
        "            optimizer.step()  # Update weights\n",
        "\n",
        "    # Evaluation\n",
        "    model.eval()\n",
        "    all_preds = []\n",
        "    all_true = []\n",
        "    with torch.no_grad():\n",
        "        for batch_x, batch_y in test_loader:\n",
        "            batch_x, batch_y = batch_x.to(device), batch_y.to(device)\n",
        "            outputs = model(batch_x)  # Forward pass\n",
        "            _, predicted = torch.max(outputs, 1)  # Get predicted class\n",
        "            all_preds.extend(predicted.cpu().numpy())\n",
        "            all_true.extend(batch_y.cpu().numpy())\n",
        "\n",
        "    # Generate classification report and confusion matrix\n",
        "    class_names = ['Control', 'Dysarthric']\n",
        "    class_report = classification_report(all_true, all_preds, target_names=class_names)\n",
        "    conf_matrix = confusion_matrix(all_true, all_preds)\n",
        "    return model, class_report, conf_matrix\n"
      ]
    },
    {
      "cell_type": "code",
      "execution_count": 155,
      "metadata": {
        "colab": {
          "base_uri": "https://localhost:8080/"
        },
        "id": "6fPh2QF6pxJb",
        "outputId": "f03a87f9-1bac-4cd2-e2c9-9dbb7112997c"
      },
      "outputs": [
        {
          "name": "stdout",
          "output_type": "stream",
          "text": [
            "Loading Audio Files\n"
          ]
        },
        {
          "name": "stderr",
          "output_type": "stream",
          "text": [
            "Processing Directories:   0%|          | 0/4 [00:00<?, ?it/s]\n",
            "Scanning F_Con: 0it [00:00, ?it/s]\u001b[A\n",
            "                                  \u001b[A\n",
            "Scanning F_Con:   0%|          | 0/387 [00:00<?, ?it/s]\u001b[A\n",
            "                                                       \u001b[A\n",
            "Scanning F_Con:   0%|          | 0/390 [00:00<?, ?it/s]\u001b[A\n",
            "                                                       \u001b[A\n",
            "Scanning F_Con:   0%|          | 0/208 [00:00<?, ?it/s]\u001b[A\n",
            "                                                       \u001b[A\n",
            "Scanning F_Con:   0%|          | 0/164 [00:00<?, ?it/s]\u001b[A\n",
            "                                                       \u001b[A\n",
            "Scanning F_Con:   0%|          | 0/400 [00:00<?, ?it/s]\u001b[A\n",
            "                                                       \u001b[A\n",
            "Scanning F_Con:   0%|          | 0/269 [00:00<?, ?it/s]\u001b[A\n",
            "                                                       \u001b[A\n",
            "Scanning F_Con:   0%|          | 0/405 [00:00<?, ?it/s]\u001b[A\n",
            "                                                       \u001b[A\n",
            "Scanning F_Con:   0%|          | 0/256 [00:00<?, ?it/s]\u001b[A\n",
            "                                                       \u001b[A\n",
            "Scanning F_Con:   0%|          | 0/992 [00:00<?, ?it/s]\u001b[A\n",
            "                                                       \u001b[A\n",
            "Scanning F_Con:   0%|          | 0/207 [00:00<?, ?it/s]\u001b[A\n",
            "                                                       \u001b[A\n",
            "Scanning F_Con:   0%|          | 0/1000 [00:00<?, ?it/s]\u001b[A\n",
            "Processing Directories:  25%|██▌       | 1/4 [00:00<00:00,  9.19it/s]\n",
            "Scanning F_Dys: 0it [00:00, ?it/s]\u001b[A\n",
            "                                  \u001b[A\n",
            "Scanning F_Dys:   0%|          | 0/249 [00:00<?, ?it/s]\u001b[A\n",
            "                                                       \u001b[A\n",
            "Scanning F_Dys:   0%|          | 0/204 [00:00<?, ?it/s]\u001b[A\n",
            "                                                       \u001b[A\n",
            "Scanning F_Dys:   0%|          | 0/134 [00:00<?, ?it/s]\u001b[A\n",
            "                                                       \u001b[A\n",
            "Scanning F_Dys:   0%|          | 0/250 [00:00<?, ?it/s]\u001b[A\n",
            "                                                       \u001b[A\n",
            "Scanning F_Dys:   0%|          | 0/134 [00:00<?, ?it/s]\u001b[A\n",
            "                                                       \u001b[A\n",
            "Scanning F_Dys:   0%|          | 0/204 [00:00<?, ?it/s]\u001b[A\n",
            "                                                       \u001b[A\n",
            "Scanning F_Dys:   0%|          | 0/199 [00:00<?, ?it/s]\u001b[A\n",
            "                                                       \u001b[A\n",
            "Scanning F_Dys:   0%|          | 0/214 [00:00<?, ?it/s]\u001b[A\n",
            "                                                       \u001b[A\n",
            "Scanning F_Dys:   0%|          | 0/209 [00:00<?, ?it/s]\u001b[A\n",
            "                                                       \u001b[A\n",
            "Scanning F_Dys:   0%|          | 0/159 [00:00<?, ?it/s]\u001b[A\n",
            "                                                       \u001b[A\n",
            "Scanning F_Dys:   0%|          | 0/435 [00:00<?, ?it/s]\u001b[A\n",
            "Processing Directories:  50%|█████     | 2/4 [00:00<00:00,  9.19it/s]\n",
            "Scanning M_Con: 0it [00:00, ?it/s]\u001b[A\n",
            "                                  \u001b[A\n",
            "Scanning M_Con:   0%|          | 0/76 [00:00<?, ?it/s]\u001b[A\n",
            "                                                      \u001b[A\n",
            "Scanning M_Con:   0%|          | 0/600 [00:00<?, ?it/s]\u001b[A\n",
            "                                                       \u001b[A\n",
            "Scanning M_Con:   0%|          | 0/648 [00:00<?, ?it/s]\u001b[A\n",
            "                                                       \u001b[A\n",
            "Scanning M_Con:   0%|          | 0/419 [00:00<?, ?it/s]\u001b[A\n",
            "                                                       \u001b[A\n",
            "Scanning M_Con:   0%|          | 0/360 [00:00<?, ?it/s]\u001b[A\n",
            "                                                       \u001b[A\n",
            "Scanning M_Con:   0%|          | 0/654 [00:00<?, ?it/s]\u001b[A\n",
            "                                                       \u001b[A\n",
            "Scanning M_Con:   0%|          | 0/600 [00:00<?, ?it/s]\u001b[A\n",
            "                                                       \u001b[A\n",
            "Scanning M_Con:   0%|          | 0/228 [00:00<?, ?it/s]\u001b[A\n",
            "                                                       \u001b[A\n",
            "Scanning M_Con:   0%|          | 0/373 [00:00<?, ?it/s]\u001b[A\n",
            "                                                       \u001b[A\n",
            "Scanning M_Con:   0%|          | 0/419 [00:00<?, ?it/s]\u001b[A\n",
            "                                                       \u001b[A\n",
            "Scanning M_Con:   0%|          | 0/388 [00:00<?, ?it/s]\u001b[A\n",
            "                                                       \u001b[A\n",
            "Scanning M_Con:   0%|          | 0/329 [00:00<?, ?it/s]\u001b[A\n",
            "                                                       \u001b[A\n",
            "Scanning M_Con:   0%|          | 0/360 [00:00<?, ?it/s]\u001b[A\n",
            "                                                       \u001b[A\n",
            "Scanning M_Con:   0%|          | 0/388 [00:00<?, ?it/s]\u001b[A\n",
            "                                                       \u001b[A\n",
            "Scanning M_Con:   0%|          | 0/307 [00:00<?, ?it/s]\u001b[A\n",
            "                                                       \u001b[A\n",
            "Scanning M_Con:   0%|          | 0/300 [00:00<?, ?it/s]\u001b[A\n",
            "                                                       \u001b[A\n",
            "Scanning M_Con:   0%|          | 0/329 [00:00<?, ?it/s]\u001b[A\n",
            "Processing Directories:  75%|███████▌  | 3/4 [00:00<00:00,  5.90it/s]\n",
            "Scanning M_Dys: 0it [00:00, ?it/s]\u001b[A\n",
            "                                  \u001b[A\n",
            "Scanning M_Dys:   0%|          | 0/286 [00:00<?, ?it/s]\u001b[A\n",
            "                                                       \u001b[A\n",
            "Scanning M_Dys:   0%|          | 0/295 [00:00<?, ?it/s]\u001b[A\n",
            "                                                       \u001b[A\n",
            "Scanning M_Dys:   0%|          | 0/169 [00:00<?, ?it/s]\u001b[A\n",
            "                                                       \u001b[A\n",
            "Scanning M_Dys:   0%|          | 0/128 [00:00<?, ?it/s]\u001b[A\n",
            "                                                       \u001b[A\n",
            "Scanning M_Dys:   0%|          | 0/421 [00:00<?, ?it/s]\u001b[A\n",
            "                                                       \u001b[A\n",
            "Scanning M_Dys:   0%|          | 0/130 [00:00<?, ?it/s]\u001b[A\n",
            "                                                       \u001b[A\n",
            "Scanning M_Dys:   0%|          | 0/286 [00:00<?, ?it/s]\u001b[A\n",
            "                                                       \u001b[A\n",
            "Scanning M_Dys:   0%|          | 0/126 [00:00<?, ?it/s]\u001b[A\n",
            "                                                       \u001b[A\n",
            "Scanning M_Dys:   0%|          | 0/100 [00:00<?, ?it/s]\u001b[A\n",
            "                                                       \u001b[A\n",
            "Scanning M_Dys:   0%|          | 0/100 [00:00<?, ?it/s]\u001b[A\n",
            "                                                       \u001b[A\n",
            "Scanning M_Dys:   0%|          | 0/298 [00:00<?, ?it/s]\u001b[A\n",
            "                                                       \u001b[A\n",
            "Scanning M_Dys:   0%|          | 0/416 [00:00<?, ?it/s]\u001b[A\n",
            "                                                       \u001b[A\n",
            "Scanning M_Dys:   0%|          | 0/393 [00:00<?, ?it/s]\u001b[A\n",
            "                                                       \u001b[A\n",
            "Scanning M_Dys:   0%|          | 0/240 [00:00<?, ?it/s]\u001b[A\n",
            "                                                       \u001b[A\n",
            "Scanning M_Dys:   0%|          | 0/240 [00:00<?, ?it/s]\u001b[A\n",
            "                                                       \u001b[A\n",
            "Scanning M_Dys:   0%|          | 0/160 [00:00<?, ?it/s]\u001b[A\n",
            "Processing Directories: 100%|██████████| 4/4 [00:00<00:00,  5.69it/s]\n"
          ]
        },
        {
          "name": "stdout",
          "output_type": "stream",
          "text": [
            "Total audio files found: 17635\n",
            "\n",
            "Preparing Feature Vectors\n"
          ]
        },
        {
          "name": "stderr",
          "output_type": "stream",
          "text": [
            "Extracting MFCC Features:  29%|██▉       | 5197/17635 [01:34<02:19, 88.89it/s]"
          ]
        },
        {
          "name": "stdout",
          "output_type": "stream",
          "text": [
            "Error processing /root/.cache/kagglehub/datasets/pranaykoppula/torgo-audio/versions/1/F_Dys/wav_headMic_F01/wav_headMic_F01_0067.wav: \n",
            "Error processing /root/.cache/kagglehub/datasets/pranaykoppula/torgo-audio/versions/1/F_Dys/wav_headMic_F01/wav_headMic_F01_0068.wav: \n"
          ]
        },
        {
          "name": "stderr",
          "output_type": "stream",
          "text": [
            "Extracting MFCC Features: 100%|██████████| 17635/17635 [04:59<00:00, 58.81it/s]\n"
          ]
        },
        {
          "name": "stdout",
          "output_type": "stream",
          "text": [
            "Feature matrix shape: torch.Size([17633, 40])\n",
            "Labels shape: torch.Size([17633])\n",
            "\n",
            "Training LSTM Model\n"
          ]
        },
        {
          "name": "stderr",
          "output_type": "stream",
          "text": [
            "Training LSTM Model: 100%|██████████| 50/50 [04:12<00:00,  5.05s/it]\n"
          ]
        }
      ],
      "source": [
        "# Load and process data\n",
        "print(\"Loading Audio Files\")\n",
        "audio_files, labels = load_audio_files(base_path)\n",
        "print(f\"Total audio files found: {len(audio_files)}\")\n",
        "\n",
        "print(\"\\nPreparing Feature Vectors\")\n",
        "X, y = prepare_feature_vectors(audio_files, labels)\n",
        "print(f\"Feature matrix shape: {X.shape}\")\n",
        "print(f\"Labels shape: {y.shape}\")\n",
        "\n",
        "# Train and evaluate the LSTM model\n",
        "print(\"\\nTraining LSTM Model\")\n",
        "lstm_model, lstm_report, lstm_conf_matrix = train_lstm_model(X, y)\n",
        "\n",
        "\n"
      ]
    },
    {
      "cell_type": "code",
      "execution_count": 156,
      "metadata": {
        "colab": {
          "base_uri": "https://localhost:8080/",
          "height": 798
        },
        "id": "AvQhtE-IJJpR",
        "outputId": "c1b49f4b-b29e-4b21-ae8e-c93df189618a"
      },
      "outputs": [
        {
          "name": "stdout",
          "output_type": "stream",
          "text": [
            "\n",
            "Classification Report:\n",
            "              precision    recall  f1-score   support\n",
            "\n",
            "     Control       0.99      0.98      0.98      2291\n",
            "  Dysarthric       0.97      0.97      0.97      1236\n",
            "\n",
            "    accuracy                           0.98      3527\n",
            "   macro avg       0.98      0.98      0.98      3527\n",
            "weighted avg       0.98      0.98      0.98      3527\n",
            "\n"
          ]
        },
        {
          "data": {
            "image/png": "[encoded data removed]",
            "text/plain": [
              "<Figure size 800x600 with 2 Axes>"
            ]
          },
          "metadata": {},
          "output_type": "display_data"
        }
      ],
      "source": [
        "# Display classification report\n",
        "print(\"\\nClassification Report:\")\n",
        "print(lstm_report)\n",
        "\n",
        "# Plot the confusion matrix\n",
        "plot_confusion_matrix(lstm_conf_matrix, ['Control', 'Dysarthric'])"
      ]
    },
    {
      "cell_type": "code",
      "execution_count": 157,
      "metadata": {
        "id": "CD6Wdv6ABRPi"
      },
      "outputs": [],
      "source": [
        "class HybridCNNLSTM(nn.Module):\n",
        "    def __init__(self, input_dim=40, cnn_output_dim=32, lstm_hidden_dim=128, output_dim=2):\n",
        "        super(HybridCNNLSTM, self).__init__()\n",
        "\n",
        "        # CNN layers\n",
        "        self.conv1 = nn.Conv1d(1, 16, kernel_size=3, padding=1)\n",
        "        self.conv2 = nn.Conv1d(16, cnn_output_dim, kernel_size=3, padding=1)\n",
        "        self.pool = nn.MaxPool1d(2, 2)\n",
        "        self.relu = nn.ReLU()\n",
        "\n",
        "        # LSTM layers\n",
        "        self.lstm = nn.LSTM(input_size=cnn_output_dim, hidden_size=lstm_hidden_dim, num_layers=2, batch_first=True)\n",
        "\n",
        "        # Fully connected layers\n",
        "        self.fc = nn.Sequential(\n",
        "            nn.Linear(lstm_hidden_dim, 64),\n",
        "            nn.ReLU(),\n",
        "            nn.Linear(64, output_dim)\n",
        "        )\n",
        "\n",
        "    def forward(self, x):\n",
        "        # CNN feature extraction\n",
        "        x = x.unsqueeze(1)  # Ensure the input is (batch_size, channels, feature_dim)\n",
        "        x = self.relu(self.conv1(x))  # conv1 expects (batch_size, 1, feature_dim)\n",
        "        x = self.pool(x)\n",
        "        x = self.relu(self.conv2(x))\n",
        "        x = self.pool(x)\n",
        "\n",
        "        # LSTM sequence learning\n",
        "        x = x.permute(0, 2, 1)  # Change shape to (batch_size, seq_len, feature_dim) for LSTM\n",
        "        x, _ = self.lstm(x)\n",
        "\n",
        "        # Fully connected layers\n",
        "        x = x[:, -1, :]  # Use the last hidden state\n",
        "        x = self.fc(x)\n",
        "        return x\n"
      ]
    },
    {
      "cell_type": "code",
      "execution_count": 158,
      "metadata": {
        "id": "I5FvNJLuBSPU"
      },
      "outputs": [],
      "source": [
        "def train_hybrid_model(X, y, test_size=0.2, random_state=42):\n",
        "    \"\"\"\n",
        "    Train and evaluate a hybrid CNN-LSTM model for binary classification.\n",
        "    \"\"\"\n",
        "    # Split data into training and testing sets\n",
        "    X_train, X_test, y_train, y_test = train_test_split(\n",
        "        X, y, test_size=test_size, random_state=random_state, stratify=y\n",
        "    )\n",
        "    train_dataset = TensorDataset(X_train, y_train)\n",
        "    test_dataset = TensorDataset(X_test, y_test)\n",
        "    train_loader = DataLoader(train_dataset, batch_size=32, shuffle=True)\n",
        "    test_loader = DataLoader(test_dataset, batch_size=32, shuffle=False)\n",
        "\n",
        "    # Initialize the hybrid CNN-LSTM model\n",
        "    model = HybridCNNLSTM(input_dim=X.shape[1])\n",
        "    criterion = nn.CrossEntropyLoss()\n",
        "    optimizer = optim.Adam(model.parameters(), lr=0.001)\n",
        "    device = torch.device('cuda' if torch.cuda.is_available() else 'cpu')\n",
        "    model.to(device)\n",
        "\n",
        "    # Training loop\n",
        "    num_epochs = 50\n",
        "    for epoch in tqdm(range(num_epochs), desc=\"Training Hybrid CNN-LSTM Model\"):\n",
        "        model.train()\n",
        "        for batch_x, batch_y in train_loader:\n",
        "            batch_x, batch_y = batch_x.to(device), batch_y.to(device)\n",
        "            optimizer.zero_grad()\n",
        "            outputs = model(batch_x)  # Forward pass\n",
        "            loss = criterion(outputs, batch_y)  # Compute loss\n",
        "            loss.backward()  # Backpropagation\n",
        "            optimizer.step()  # Update weights\n",
        "\n",
        "    # Evaluation\n",
        "    model.eval()\n",
        "    all_preds = []\n",
        "    all_true = []\n",
        "    with torch.no_grad():\n",
        "        for batch_x, batch_y in test_loader:\n",
        "            batch_x, batch_y = batch_x.to(device), batch_y.to(device)\n",
        "            outputs = model(batch_x)  # Forward pass\n",
        "            _, predicted = torch.max(outputs, 1)  # Get predicted class\n",
        "            all_preds.extend(predicted.cpu().numpy())\n",
        "            all_true.extend(batch_y.cpu().numpy())\n",
        "\n",
        "    # Generate classification report and confusion matrix\n",
        "    class_names = ['Control', 'Dysarthric']\n",
        "    class_report = classification_report(all_true, all_preds, target_names=class_names)\n",
        "    conf_matrix = confusion_matrix(all_true, all_preds)\n",
        "    return model, class_report, conf_matrix\n"
      ]
    },
    {
      "cell_type": "code",
      "execution_count": 159,
      "metadata": {
        "colab": {
          "base_uri": "https://localhost:8080/",
          "height": 850
        },
        "id": "IsCYbC3GBVDQ",
        "outputId": "7286eb07-e10e-4264-8889-7ed79a4e2bde"
      },
      "outputs": [
        {
          "name": "stdout",
          "output_type": "stream",
          "text": [
            "\n",
            "Training Hybrid CNN-LSTM Model\n"
          ]
        },
        {
          "name": "stderr",
          "output_type": "stream",
          "text": [
            "Training Hybrid CNN-LSTM Model: 100%|██████████| 50/50 [12:01<00:00, 14.43s/it]\n"
          ]
        },
        {
          "name": "stdout",
          "output_type": "stream",
          "text": [
            "\n",
            "Classification Report:\n",
            "              precision    recall  f1-score   support\n",
            "\n",
            "     Control       0.98      0.99      0.98      2291\n",
            "  Dysarthric       0.97      0.96      0.96      1236\n",
            "\n",
            "    accuracy                           0.98      3527\n",
            "   macro avg       0.97      0.97      0.97      3527\n",
            "weighted avg       0.98      0.98      0.98      3527\n",
            "\n"
          ]
        },
        {
          "data": {
            "image/png": "[encoded data removed]",
            "text/plain": [
              "<Figure size 800x600 with 2 Axes>"
            ]
          },
          "metadata": {},
          "output_type": "display_data"
        }
      ],
      "source": [
        "# Train and evaluate the Hybrid CNN-LSTM model\n",
        "print(\"\\nTraining Hybrid CNN-LSTM Model\")\n",
        "hybrid_model, hybrid_report, hybrid_conf_matrix = train_hybrid_model(X, y)\n",
        "\n",
        "# Display classification report\n",
        "print(\"\\nClassification Report:\")\n",
        "print(hybrid_report)\n",
        "\n",
        "# Plot the confusion matrix\n",
        "plot_confusion_matrix(hybrid_conf_matrix, ['Control', 'Dysarthric'])\n"
      ]
    },
    {
      "cell_type": "code",
      "execution_count": 160,
      "metadata": {
        "id": "plEGrkcXRI3X"
      },
      "outputs": [],
      "source": [
        "# Assuming X and y are already prepared\n",
        "contrastive_dataset = ContrastiveDataset(X, y)\n",
        "contrastive_loader = DataLoader(contrastive_dataset, batch_size=32, shuffle=True)\n"
      ]
    },
    {
      "cell_type": "code",
      "execution_count": 161,
      "metadata": {
        "id": "jvhwbxZbHv7M"
      },
      "outputs": [],
      "source": [
        "# Save preprocessed features\n",
        "torch.save((X, y), \"preprocessed_features.pt\")\n",
        "\n",
        "# Load preprocessed features\n",
        "X, y = torch.load(\"preprocessed_features.pt\")\n"
      ]
    },
    {
      "cell_type": "code",
      "execution_count": 162,
      "metadata": {
        "id": "h0hiXfWuH6pD"
      },
      "outputs": [],
      "source": [
        "def train_and_evaluate_model(model, X, y, test_size=0.2, num_epochs=50, batch_size=32):\n",
        "    # Split dataset\n",
        "    X_train, X_test, y_train, y_test = train_test_split(X, y, test_size=test_size, stratify=y)\n",
        "    train_dataset = TensorDataset(X_train, y_train)\n",
        "    test_dataset = TensorDataset(X_test, y_test)\n",
        "    train_loader = DataLoader(train_dataset, batch_size=batch_size, shuffle=True)\n",
        "    test_loader = DataLoader(test_dataset, batch_size=batch_size, shuffle=False)\n",
        "\n",
        "    # Define loss, optimizer, and device\n",
        "    criterion = nn.CrossEntropyLoss()\n",
        "    optimizer = torch.optim.Adam(model.parameters(), lr=0.001)\n",
        "    device = torch.device(\"cuda\" if torch.cuda.is_available() else \"cpu\")\n",
        "    model.to(device)\n",
        "\n",
        "    # Training loop\n",
        "    for epoch in range(num_epochs):\n",
        "        model.train()\n",
        "        for batch_x, batch_y in train_loader:\n",
        "            batch_x, batch_y = batch_x.to(device), batch_y.to(device)\n",
        "            optimizer.zero_grad()\n",
        "            outputs = model(batch_x)\n",
        "            loss = criterion(outputs, batch_y)\n",
        "            loss.backward()\n",
        "            optimizer.step()\n",
        "\n",
        "    # Evaluation\n",
        "    model.eval()\n",
        "    all_preds, all_true = [], []\n",
        "    with torch.no_grad():\n",
        "        for batch_x, batch_y in test_loader:\n",
        "            batch_x, batch_y = batch_x.to(device), batch_y.to(device)\n",
        "            outputs = model(batch_x)\n",
        "            _, preds = torch.max(outputs, 1)\n",
        "            all_preds.extend(preds.cpu().numpy())\n",
        "            all_true.extend(batch_y.cpu().numpy())\n",
        "\n",
        "    # Metrics\n",
        "    report = classification_report(all_true, all_preds, target_names=[\"Control\", \"Dysarthric\"])\n",
        "    conf_matrix = confusion_matrix(all_true, all_preds)\n",
        "    return report, conf_matrix\n"
      ]
    },
    {
      "cell_type": "code",
      "execution_count": 163,
      "metadata": {
        "colab": {
          "base_uri": "https://localhost:8080/",
          "height": 321
        },
        "id": "m14O_ZlCTF-C",
        "outputId": "48144a1a-1fb6-4140-d18d-ab3f4a632b3a"
      },
      "outputs": [
        {
          "ename": "KeyboardInterrupt",
          "evalue": "",
          "output_type": "error",
          "traceback": [
            "\u001b[0;31m---------------------------------------------------------------------------\u001b[0m",
            "\u001b[0;31mKeyboardInterrupt\u001b[0m                         Traceback (most recent call last)",
            "\u001b[0;32m<ipython-input-163-4c5ac1859973>\u001b[0m in \u001b[0;36m<cell line: 15>\u001b[0;34m()\u001b[0m\n\u001b[1;32m     13\u001b[0m \u001b[0;31m# Train and evaluate Hybrid CNN-LSTM\u001b[0m\u001b[0;34m\u001b[0m\u001b[0;34m\u001b[0m\u001b[0m\n\u001b[1;32m     14\u001b[0m \u001b[0mhybrid_model\u001b[0m \u001b[0;34m=\u001b[0m \u001b[0mHybridCNNLSTM\u001b[0m\u001b[0;34m(\u001b[0m\u001b[0minput_dim\u001b[0m\u001b[0;34m=\u001b[0m\u001b[0;36m40\u001b[0m\u001b[0;34m)\u001b[0m\u001b[0;34m\u001b[0m\u001b[0;34m\u001b[0m\u001b[0m\n\u001b[0;32m---> 15\u001b[0;31m \u001b[0mhybrid_report\u001b[0m\u001b[0;34m,\u001b[0m \u001b[0mhybrid_conf_matrix\u001b[0m \u001b[0;34m=\u001b[0m \u001b[0mtrain_and_evaluate_model\u001b[0m\u001b[0;34m(\u001b[0m\u001b[0mhybrid_model\u001b[0m\u001b[0;34m,\u001b[0m \u001b[0mX\u001b[0m\u001b[0;34m,\u001b[0m \u001b[0my\u001b[0m\u001b[0;34m)\u001b[0m\u001b[0;34m\u001b[0m\u001b[0;34m\u001b[0m\u001b[0m\n\u001b[0m",
            "\u001b[0;32m<ipython-input-162-0827a1b9ae0a>\u001b[0m in \u001b[0;36mtrain_and_evaluate_model\u001b[0;34m(model, X, y, test_size, num_epochs, batch_size)\u001b[0m\n\u001b[1;32m     21\u001b[0m             \u001b[0moutputs\u001b[0m \u001b[0;34m=\u001b[0m \u001b[0mmodel\u001b[0m\u001b[0;34m(\u001b[0m\u001b[0mbatch_x\u001b[0m\u001b[0;34m)\u001b[0m\u001b[0;34m\u001b[0m\u001b[0;34m\u001b[0m\u001b[0m\n\u001b[1;32m     22\u001b[0m             \u001b[0mloss\u001b[0m \u001b[0;34m=\u001b[0m \u001b[0mcriterion\u001b[0m\u001b[0;34m(\u001b[0m\u001b[0moutputs\u001b[0m\u001b[0;34m,\u001b[0m \u001b[0mbatch_y\u001b[0m\u001b[0;34m)\u001b[0m\u001b[0;34m\u001b[0m\u001b[0;34m\u001b[0m\u001b[0m\n\u001b[0;32m---> 23\u001b[0;31m             \u001b[0mloss\u001b[0m\u001b[0;34m.\u001b[0m\u001b[0mbackward\u001b[0m\u001b[0;34m(\u001b[0m\u001b[0;34m)\u001b[0m\u001b[0;34m\u001b[0m\u001b[0;34m\u001b[0m\u001b[0m\n\u001b[0m\u001b[1;32m     24\u001b[0m             \u001b[0moptimizer\u001b[0m\u001b[0;34m.\u001b[0m\u001b[0mstep\u001b[0m\u001b[0;34m(\u001b[0m\u001b[0;34m)\u001b[0m\u001b[0;34m\u001b[0m\u001b[0;34m\u001b[0m\u001b[0m\n\u001b[1;32m     25\u001b[0m \u001b[0;34m\u001b[0m\u001b[0m\n",
            "\u001b[0;32m/usr/local/lib/python3.10/dist-packages/torch/_tensor.py\u001b[0m in \u001b[0;36mbackward\u001b[0;34m(self, gradient, retain_graph, create_graph, inputs)\u001b[0m\n\u001b[1;32m    579\u001b[0m                 \u001b[0minputs\u001b[0m\u001b[0;34m=\u001b[0m\u001b[0minputs\u001b[0m\u001b[0;34m,\u001b[0m\u001b[0;34m\u001b[0m\u001b[0;34m\u001b[0m\u001b[0m\n\u001b[1;32m    580\u001b[0m             )\n\u001b[0;32m--> 581\u001b[0;31m         torch.autograd.backward(\n\u001b[0m\u001b[1;32m    582\u001b[0m             \u001b[0mself\u001b[0m\u001b[0;34m,\u001b[0m \u001b[0mgradient\u001b[0m\u001b[0;34m,\u001b[0m \u001b[0mretain_graph\u001b[0m\u001b[0;34m,\u001b[0m \u001b[0mcreate_graph\u001b[0m\u001b[0;34m,\u001b[0m \u001b[0minputs\u001b[0m\u001b[0;34m=\u001b[0m\u001b[0minputs\u001b[0m\u001b[0;34m\u001b[0m\u001b[0;34m\u001b[0m\u001b[0m\n\u001b[1;32m    583\u001b[0m         )\n",
            "\u001b[0;32m/usr/local/lib/python3.10/dist-packages/torch/autograd/__init__.py\u001b[0m in \u001b[0;36mbackward\u001b[0;34m(tensors, grad_tensors, retain_graph, create_graph, grad_variables, inputs)\u001b[0m\n\u001b[1;32m    345\u001b[0m     \u001b[0;31m# some Python versions print out the first line of a multi-line function\u001b[0m\u001b[0;34m\u001b[0m\u001b[0;34m\u001b[0m\u001b[0m\n\u001b[1;32m    346\u001b[0m     \u001b[0;31m# calls in the traceback and some print out the last line\u001b[0m\u001b[0;34m\u001b[0m\u001b[0;34m\u001b[0m\u001b[0m\n\u001b[0;32m--> 347\u001b[0;31m     _engine_run_backward(\n\u001b[0m\u001b[1;32m    348\u001b[0m         \u001b[0mtensors\u001b[0m\u001b[0;34m,\u001b[0m\u001b[0;34m\u001b[0m\u001b[0;34m\u001b[0m\u001b[0m\n\u001b[1;32m    349\u001b[0m         \u001b[0mgrad_tensors_\u001b[0m\u001b[0;34m,\u001b[0m\u001b[0;34m\u001b[0m\u001b[0;34m\u001b[0m\u001b[0m\n",
            "\u001b[0;32m/usr/local/lib/python3.10/dist-packages/torch/autograd/graph.py\u001b[0m in \u001b[0;36m_engine_run_backward\u001b[0;34m(t_outputs, *args, **kwargs)\u001b[0m\n\u001b[1;32m    823\u001b[0m         \u001b[0munregister_hooks\u001b[0m \u001b[0;34m=\u001b[0m \u001b[0m_register_logging_hooks_on_whole_graph\u001b[0m\u001b[0;34m(\u001b[0m\u001b[0mt_outputs\u001b[0m\u001b[0;34m)\u001b[0m\u001b[0;34m\u001b[0m\u001b[0;34m\u001b[0m\u001b[0m\n\u001b[1;32m    824\u001b[0m     \u001b[0;32mtry\u001b[0m\u001b[0;34m:\u001b[0m\u001b[0;34m\u001b[0m\u001b[0;34m\u001b[0m\u001b[0m\n\u001b[0;32m--> 825\u001b[0;31m         return Variable._execution_engine.run_backward(  # Calls into the C++ engine to run the backward pass\n\u001b[0m\u001b[1;32m    826\u001b[0m             \u001b[0mt_outputs\u001b[0m\u001b[0;34m,\u001b[0m \u001b[0;34m*\u001b[0m\u001b[0margs\u001b[0m\u001b[0;34m,\u001b[0m \u001b[0;34m**\u001b[0m\u001b[0mkwargs\u001b[0m\u001b[0;34m\u001b[0m\u001b[0;34m\u001b[0m\u001b[0m\n\u001b[1;32m    827\u001b[0m         )  # Calls into the C++ engine to run the backward pass\n",
            "\u001b[0;31mKeyboardInterrupt\u001b[0m: "
          ]
        }
      ],
      "source": [
        "# Train and evaluate CNN\n",
        "cnn_model = SimpleCNN(input_dim=40)\n",
        "cnn_report, cnn_conf_matrix = train_and_evaluate_model(cnn_model, X, y)\n",
        "\n",
        "# Train and evaluate RNN\n",
        "rnn_model = SimpleRNN(input_dim=40)\n",
        "rnn_report, rnn_conf_matrix = train_and_evaluate_model(rnn_model, X, y)\n",
        "\n",
        "# Train and evaluate LSTM\n",
        "lstm_model = SimpleLSTM(input_dim=40)\n",
        "lstm_report, lstm_conf_matrix = train_and_evaluate_model(lstm_model, X, y)\n",
        "\n",
        "# Train and evaluate Hybrid CNN-LSTM\n",
        "hybrid_model = HybridCNNLSTM(input_dim=40)\n",
        "hybrid_report, hybrid_conf_matrix = train_and_evaluate_model(hybrid_model, X, y)\n"
      ]
    },
    {
      "cell_type": "code",
      "execution_count": null,
      "metadata": {
        "id": "qlPy7KA_Tb_J"
      },
      "outputs": [],
      "source": [
        "model_names = [\"CNN\", \"RNN\", \"LSTM\", \"Hybrid CNN-LSTM\"]\n",
        "f1_scores = [f1_score_cnn, f1_score_rnn, f1_score_lstm, f1_score_hybrid]\n",
        "\n",
        "plt.bar(model_names, f1_scores, color='skyblue')\n",
        "plt.title(\"F1-Score Comparison Across Models\")\n",
        "plt.ylabel(\"F1-Score\")\n",
        "plt.xlabel(\"Model\")\n",
        "plt.show()\n"
      ]
    }
  ],
  "metadata": {
    "colab": {
      "name": "Welcome To Colab",
      "provenance": []
    },
    "kernelspec": {
      "display_name": "Python 3",
      "name": "python3"
    },
    "language_info": {
      "codemirror_mode": {
        "name": "ipython",
        "version": 3
      },
      "file_extension": ".py",
      "mimetype": "text/x-python",
      "name": "python",
      "nbconvert_exporter": "python",
      "pygments_lexer": "ipython3",
      "version": "3.12.8"
    }
  },
  "nbformat": 4,
  "nbformat_minor": 0
}
