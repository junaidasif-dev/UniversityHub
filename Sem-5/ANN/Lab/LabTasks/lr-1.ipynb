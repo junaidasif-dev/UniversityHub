{
 "cells": [
  {
   "cell_type": "markdown",
   "metadata": {},
   "source": [
    "# torch.manual_seed()\n",
    "\n",
    "torch.manual_seed() is a function in PyTorch that sets the seed for generating random numbers. This function helps control randomness in operations such as random initialization of model parameters, data shuffling, and other stochastic processes. Setting a manual seed ensures that results are reproducible, which is important when you want to compare experiments or debug code."
   ]
  },
  {
   "cell_type": "code",
   "execution_count": 7,
   "metadata": {},
   "outputs": [
    {
     "name": "stdout",
     "output_type": "stream",
     "text": [
      "0.6394267984578837\n"
     ]
    }
   ],
   "source": [
    "import torch\n",
    "import random\n",
    "\n",
    "random.seed(42)\n",
    "\n",
    "print(random.random()) \n"
   ]
  },
  {
   "cell_type": "markdown",
   "metadata": {},
   "source": [
    "# max() in PyTorch\n",
    "\n",
    "In PyTorch, the max() function is used to find the maximum value or values in a tensor, and it can be applied in various contexts, depending on whether you want the maximum over the entire tensor or along specific dimensions."
   ]
  },
  {
   "cell_type": "code",
   "execution_count": 8,
   "metadata": {},
   "outputs": [
    {
     "name": "stdout",
     "output_type": "stream",
     "text": [
      "tensor(5.)\n"
     ]
    }
   ],
   "source": [
    "import torch\n",
    "\n",
    "tensor = torch.tensor([1.0, 3.0, 2.0, 5.0])\n",
    "\n",
    "max_value = torch.max(tensor)\n",
    "print(max_value) \n"
   ]
  },
  {
   "cell_type": "markdown",
   "metadata": {},
   "source": [
    "# min() in PyTorch\n",
    "\n",
    "torch.min() is a function that returns the minimum value of a tensor or the minimum values along a specified dimension. It can either return a single scalar value for the entire tensor or return the minimum values along a specific axis."
   ]
  },
  {
   "cell_type": "code",
   "execution_count": 9,
   "metadata": {},
   "outputs": [
    {
     "name": "stdout",
     "output_type": "stream",
     "text": [
      "tensor(-1.)\n"
     ]
    }
   ],
   "source": [
    "import torch\n",
    "\n",
    "x = torch.tensor([2.0, 3.5, -1.0, 7.0])\n",
    "\n",
    "min_value = torch.min(x)\n",
    "print(min_value) \n"
   ]
  },
  {
   "cell_type": "markdown",
   "metadata": {},
   "source": [
    "# argmax()\n",
    "\n",
    "In PyTorch, argmax() is a function used to return the index of the maximum value along a specified dimension (axis) of a tensor. It is often used in classification tasks to find the predicted class label from the output of a model, where the output is typically a vector of probabilities or scores for each class."
   ]
  },
  {
   "cell_type": "code",
   "execution_count": 10,
   "metadata": {},
   "outputs": [
    {
     "name": "stdout",
     "output_type": "stream",
     "text": [
      "tensor([1, 1])\n"
     ]
    }
   ],
   "source": [
    "import torch\n",
    "\n",
    "tensor = torch.tensor([[1, 3, 2], [4, 6, 5]])\n",
    "\n",
    "max_indices = torch.argmax(tensor, dim=1)\n",
    "\n",
    "print(max_indices) \n"
   ]
  },
  {
   "cell_type": "markdown",
   "metadata": {},
   "source": [
    "# argmin()\n",
    "\n",
    "In PyTorch, torch.argmin() is a function that returns the indices of the minimum values along a specified dimension in a tensor.It is useful when you want to know the position of the smallest element(s) in a tensor. The result is a tensor of indices representing where the minimum values are located."
   ]
  },
  {
   "cell_type": "code",
   "execution_count": 13,
   "metadata": {},
   "outputs": [
    {
     "name": "stdout",
     "output_type": "stream",
     "text": [
      "tensor([1, 2])\n"
     ]
    }
   ],
   "source": [
    "import torch\n",
    "\n",
    "tensor = torch.tensor([[10, 2, 30], [15, 25, 5]])\n",
    "\n",
    "index_min = torch.argmin(tensor, dim=1)\n",
    "\n",
    "print(index_min)  # Output: tensor([1, 2])\n"
   ]
  },
  {
   "cell_type": "markdown",
   "metadata": {},
   "source": [
    "# Difference between max() & argmax()\n",
    "\n",
    "In PyTorch, both torch.max() and torch.argmax() deal with finding maximum values in a tensor, but they return different types of information:\n",
    "\n",
    "### torch.max()\n",
    "Purpose: Returns the maximum value itself, and optionally its index. \n",
    "\n",
    "Return: The maximum value (or the maximum values along a specific dimension). \n",
    "\n",
    "Usage: Used when you need the maximum value, not its location. \n",
    "\n",
    "### torch.argmax()\n",
    "Purpose: Returns the index of the maximum value.\n",
    "\n",
    "Return: The position (index) of the maximum value along the specified dimension.\n",
    "\n",
    "Usage: Used when you need the position of the maximum value, not the value itself."
   ]
  },
  {
   "cell_type": "markdown",
   "metadata": {},
   "source": [
    "# Difference between min() & argmin()\n",
    "\n",
    "In PyTorch, both torch.min() and torch.argmin() deal with finding minimum values in a tensor, but they return different types of information:\n",
    "\n",
    "### torch.min()\n",
    "Purpose: Returns the minimum value itself, and optionally its index. \n",
    "\n",
    "Return: The minimum value (or the minimum values along a specific dimension). \n",
    "\n",
    "Usage: Used when you need the minimum value, not its location. \n",
    "\n",
    "### torch.argmin()\n",
    "Purpose: Returns the index of the minimum value.\n",
    "\n",
    "Return: The position (index) of the minimum value along the specified dimension.\n",
    "\n",
    "Usage: Used when you need the position of the minimum value, not the value itself."
   ]
  },
  {
   "cell_type": "markdown",
   "metadata": {},
   "source": [
    "# torch.stack()\n",
    "\n",
    "torch.stack() is a function in PyTorch that concatenates a sequence of tensors along a new dimension. It takes a list or tuple of tensors, and it stacks them along a specified dimension to form a single tensor. All the input tensors must have the same shape."
   ]
  },
  {
   "cell_type": "code",
   "execution_count": 14,
   "metadata": {},
   "outputs": [
    {
     "name": "stdout",
     "output_type": "stream",
     "text": [
      "tensor([[1, 2, 3],\n",
      "        [4, 5, 6]])\n"
     ]
    }
   ],
   "source": [
    "import torch\n",
    "\n",
    "tensor1 = torch.tensor([1, 2, 3])\n",
    "tensor2 = torch.tensor([4, 5, 6])\n",
    "\n",
    "stacked_tensor = torch.stack([tensor1, tensor2], dim=0)\n",
    "print(stacked_tensor)\n"
   ]
  },
  {
   "cell_type": "markdown",
   "metadata": {},
   "source": [
    "# torch.view()\n",
    "\n",
    "torch.view() in PyTorch is a method used to reshape a tensor without changing its data. It allows you to change the dimensions (shape) of a tensor as long as the total number of elements remains the same."
   ]
  },
  {
   "cell_type": "code",
   "execution_count": 15,
   "metadata": {},
   "outputs": [
    {
     "name": "stdout",
     "output_type": "stream",
     "text": [
      "tensor([[1, 2],\n",
      "        [3, 4],\n",
      "        [5, 6]])\n"
     ]
    }
   ],
   "source": [
    "import torch\n",
    "\n",
    "tensor = torch.tensor([[1, 2, 3], [4, 5, 6]])\n",
    "\n",
    "reshaped_tensor = tensor.view(3, 2)\n",
    "print(reshaped_tensor)\n"
   ]
  },
  {
   "cell_type": "markdown",
   "metadata": {},
   "source": [
    "# torch.squeeze()\n",
    "\n",
    "torch.squeeze() is a PyTorch function used to remove dimensions of size 1 from a tensor, making the tensor more compact. This is helpful when you want to eliminate unnecessary dimensions without changing the data."
   ]
  },
  {
   "cell_type": "code",
   "execution_count": 16,
   "metadata": {},
   "outputs": [
    {
     "name": "stdout",
     "output_type": "stream",
     "text": [
      "torch.Size([1, 3, 1])\n",
      "torch.Size([3])\n"
     ]
    }
   ],
   "source": [
    "import torch\n",
    "\n",
    "x = torch.randn(1, 3, 1)\n",
    "print(x.shape)  \n",
    "\n",
    "y = torch.squeeze(x)\n",
    "print(y.shape) \n"
   ]
  }
 ],
 "metadata": {
  "kernelspec": {
   "display_name": "env",
   "language": "python",
   "name": "python3"
  },
  "language_info": {
   "codemirror_mode": {
    "name": "ipython",
    "version": 3
   },
   "file_extension": ".py",
   "mimetype": "text/x-python",
   "name": "python",
   "nbconvert_exporter": "python",
   "pygments_lexer": "ipython3",
   "version": "3.12.6"
  }
 },
 "nbformat": 4,
 "nbformat_minor": 2
}
