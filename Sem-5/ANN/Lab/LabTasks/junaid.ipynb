{
 "cells": [
  {
   "cell_type": "code",
   "execution_count": 1,
   "id": "029e2640-c35f-43d6-9651-48905c1837d1",
   "metadata": {},
   "outputs": [],
   "source": [
    "import pandas as pd\n",
    "import numpy as np\n",
    "import torch\n"
   ]
  },
  {
   "cell_type": "code",
   "execution_count": 4,
   "id": "89e47fa8-b8ac-4331-bdc2-251876d3adef",
   "metadata": {},
   "outputs": [],
   "source": [
    "df = pd.read_csv(r'C:\\Users\\Student.LAB2-AI-01\\Downloads\\sales_data.csv')"
   ]
  },
  {
   "cell_type": "code",
   "execution_count": 16,
   "id": "3de410b8-a714-421c-86f3-ef3d8da9dcd2",
   "metadata": {},
   "outputs": [
    {
     "data": {
      "text/html": [
       "<div>\n",
       "<style scoped>\n",
       "    .dataframe tbody tr th:only-of-type {\n",
       "        vertical-align: middle;\n",
       "    }\n",
       "\n",
       "    .dataframe tbody tr th {\n",
       "        vertical-align: top;\n",
       "    }\n",
       "\n",
       "    .dataframe thead th {\n",
       "        text-align: right;\n",
       "    }\n",
       "</style>\n",
       "<table border=\"1\" class=\"dataframe\">\n",
       "  <thead>\n",
       "    <tr style=\"text-align: right;\">\n",
       "      <th></th>\n",
       "      <th>store_id</th>\n",
       "      <th>customer_id</th>\n",
       "      <th>product_id</th>\n",
       "      <th>product_category</th>\n",
       "      <th>date</th>\n",
       "      <th>amount</th>\n",
       "      <th>single_price</th>\n",
       "      <th>transaction_id</th>\n",
       "    </tr>\n",
       "  </thead>\n",
       "  <tbody>\n",
       "    <tr>\n",
       "      <th>95</th>\n",
       "      <td>Store 10</td>\n",
       "      <td>Customer 711</td>\n",
       "      <td>86284</td>\n",
       "      <td>Toys</td>\n",
       "      <td>5/23/2005 16:11</td>\n",
       "      <td>8</td>\n",
       "      <td>93.641214</td>\n",
       "      <td>96</td>\n",
       "    </tr>\n",
       "    <tr>\n",
       "      <th>96</th>\n",
       "      <td>Store 13</td>\n",
       "      <td>Customer 776</td>\n",
       "      <td>15381</td>\n",
       "      <td>Health</td>\n",
       "      <td>11/17/2006 0:55</td>\n",
       "      <td>2</td>\n",
       "      <td>81.335683</td>\n",
       "      <td>97</td>\n",
       "    </tr>\n",
       "    <tr>\n",
       "      <th>97</th>\n",
       "      <td>Store 14</td>\n",
       "      <td>Customer 1996</td>\n",
       "      <td>47830</td>\n",
       "      <td>Electronics</td>\n",
       "      <td>2/1/2008 18:44</td>\n",
       "      <td>3</td>\n",
       "      <td>54.128274</td>\n",
       "      <td>98</td>\n",
       "    </tr>\n",
       "    <tr>\n",
       "      <th>98</th>\n",
       "      <td>Store 12</td>\n",
       "      <td>Customer 1511</td>\n",
       "      <td>32795</td>\n",
       "      <td>Home/Garden</td>\n",
       "      <td>7/6/2005 17:24</td>\n",
       "      <td>6</td>\n",
       "      <td>97.923186</td>\n",
       "      <td>99</td>\n",
       "    </tr>\n",
       "    <tr>\n",
       "      <th>99</th>\n",
       "      <td>Store 09</td>\n",
       "      <td>Customer 836</td>\n",
       "      <td>14932</td>\n",
       "      <td>Movies</td>\n",
       "      <td>4/26/2006 17:36</td>\n",
       "      <td>1</td>\n",
       "      <td>44.794200</td>\n",
       "      <td>100</td>\n",
       "    </tr>\n",
       "  </tbody>\n",
       "</table>\n",
       "</div>"
      ],
      "text/plain": [
       "    store_id    customer_id  product_id product_category             date  \\\n",
       "95  Store 10   Customer 711       86284             Toys  5/23/2005 16:11   \n",
       "96  Store 13   Customer 776       15381           Health  11/17/2006 0:55   \n",
       "97  Store 14  Customer 1996       47830      Electronics   2/1/2008 18:44   \n",
       "98  Store 12  Customer 1511       32795      Home/Garden   7/6/2005 17:24   \n",
       "99  Store 09   Customer 836       14932           Movies  4/26/2006 17:36   \n",
       "\n",
       "    amount  single_price  transaction_id  \n",
       "95       8     93.641214              96  \n",
       "96       2     81.335683              97  \n",
       "97       3     54.128274              98  \n",
       "98       6     97.923186              99  \n",
       "99       1     44.794200             100  "
      ]
     },
     "execution_count": 16,
     "metadata": {},
     "output_type": "execute_result"
    }
   ],
   "source": [
    "df.tail()"
   ]
  },
  {
   "cell_type": "code",
   "execution_count": 27,
   "id": "17a20667-a00c-4f5a-bc1f-dc4d1a4b9f04",
   "metadata": {},
   "outputs": [
    {
     "data": {
      "text/plain": [
       "store_id             object\n",
       "customer_id          object\n",
       "product_id            int64\n",
       "product_category     object\n",
       "date                 object\n",
       "amount                int64\n",
       "single_price        float64\n",
       "transaction_id        int64\n",
       "dtype: object"
      ]
     },
     "execution_count": 27,
     "metadata": {},
     "output_type": "execute_result"
    }
   ],
   "source": [
    "df.dtypes"
   ]
  },
  {
   "cell_type": "markdown",
   "id": "91c0931c-4a9f-4113-990e-d27fcd698712",
   "metadata": {},
   "source": [
    "# Create x and y Variables"
   ]
  },
  {
   "cell_type": "code",
   "execution_count": 24,
   "id": "6c693c0a-2ed4-4857-ad83-c29327504dab",
   "metadata": {},
   "outputs": [],
   "source": [
    "# Set target variable\n",
    "target_column = 'amount'  # Assuming you want to predict 'amount'\n",
    "\n",
    "# Create x (features) and y (target)\n",
    "x = df.drop(columns=[target_column])  # Drop the target column to get features\n",
    "y = df[target_column]  # Get the target variable"
   ]
  },
  {
   "cell_type": "markdown",
   "id": "d8d330b9-f5ac-41e8-972c-9171ce9c923f",
   "metadata": {},
   "source": [
    "# Convert x and y to Tensors"
   ]
  },
  {
   "cell_type": "code",
   "execution_count": 13,
   "id": "1ebe0168-0d3a-48a5-8695-da0bf16e2db4",
   "metadata": {},
   "outputs": [],
   "source": [
    "# Convert categorical variables to numeric using one-hot encoding\n",
    "x = pd.get_dummies(x, drop_first=True)\n",
    "\n",
    "# Convert to NumPy arrays and then to PyTorch tensors\n",
    "# Ensure that all data types are float\n",
    "x_tensor = torch.tensor(x.values.astype(np.float32), dtype=torch.float32)\n",
    "y_tensor = torch.tensor(y.values.astype(np.float32), dtype=torch.float32)"
   ]
  },
  {
   "cell_type": "markdown",
   "id": "c03ba19e-0daa-4023-8d73-86f3a3523304",
   "metadata": {},
   "source": [
    "# Use DataLoader of PyTorch to Load Dataset"
   ]
  },
  {
   "cell_type": "code",
   "execution_count": 18,
   "id": "7bf31a6d-d8e9-4954-8cfc-0b613aacb029",
   "metadata": {
    "scrolled": true
   },
   "outputs": [
    {
     "name": "stdout",
     "output_type": "stream",
     "text": [
      "torch.Size([32, 220]) torch.Size([32])\n",
      "torch.Size([32, 220]) torch.Size([32])\n",
      "torch.Size([32, 220]) torch.Size([32])\n",
      "torch.Size([4, 220]) torch.Size([4])\n"
     ]
    }
   ],
   "source": [
    "from torch.utils.data import TensorDataset, DataLoader\n",
    "\n",
    "# Create a TensorDataset\n",
    "dataset = TensorDataset(x_tensor, y_tensor)\n",
    "\n",
    "# Create a DataLoader\n",
    "batch_size = 32  # Adjust as necessary\n",
    "data_loader = DataLoader(dataset, batch_size=batch_size, shuffle=True)\n",
    "\n",
    "# Example of iterating through the DataLoader\n",
    "for batch_x, batch_y in data_loader:\n",
    "    print(batch_x.shape, batch_y.shape)  # Each batch will have the shape (batch_size, num_features) and (batch_size,)"
   ]
  },
  {
   "cell_type": "code",
   "execution_count": null,
   "id": "72af380c-368b-4bfb-b6c3-5c736c541a93",
   "metadata": {},
   "outputs": [],
   "source": []
  }
 ],
 "metadata": {
  "kernelspec": {
   "display_name": "Python 3 (ipykernel)",
   "language": "python",
   "name": "python3"
  },
  "language_info": {
   "codemirror_mode": {
    "name": "ipython",
    "version": 3
   },
   "file_extension": ".py",
   "mimetype": "text/x-python",
   "name": "python",
   "nbconvert_exporter": "python",
   "pygments_lexer": "ipython3",
   "version": "3.12.4"
  }
 },
 "nbformat": 4,
 "nbformat_minor": 5
}
