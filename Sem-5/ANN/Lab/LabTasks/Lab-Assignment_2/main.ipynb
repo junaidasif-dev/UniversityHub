{
 "cells": [
  {
   "cell_type": "markdown",
   "metadata": {},
   "source": [
    "# Lab Assignment # 02"
   ]
  },
  {
   "cell_type": "markdown",
   "metadata": {},
   "source": [
    "# Applying Regression"
   ]
  },
  {
   "cell_type": "code",
   "execution_count": 20,
   "metadata": {},
   "outputs": [
    {
     "name": "stdout",
     "output_type": "stream",
     "text": [
      "Epoch [100/1000], Loss: 1032.0613\n",
      "Epoch [200/1000], Loss: 194.8222\n",
      "Epoch [300/1000], Loss: 78.9418\n",
      "Epoch [400/1000], Loss: 78.5961\n",
      "Epoch [500/1000], Loss: 78.5961\n",
      "Epoch [600/1000], Loss: 78.5961\n",
      "Epoch [700/1000], Loss: 78.5961\n",
      "Epoch [800/1000], Loss: 78.5961\n",
      "Epoch [900/1000], Loss: 78.5961\n",
      "Epoch [1000/1000], Loss: 78.5961\n",
      "Predictions for first 5 rows:\n",
      " tensor([[47.7671],\n",
      "        [49.0801],\n",
      "        [47.5234],\n",
      "        [47.5234],\n",
      "        [48.0647]])\n"
     ]
    }
   ],
   "source": [
    "import torch\n",
    "import torch.nn as nn\n",
    "import pandas as pd\n",
    "\n",
    "# Load the scaled dataset (already preprocessed) from CSV\n",
    "df = pd.read_csv('REV_Scaled_Dataset.csv')\n",
    "\n",
    "# Define features and target\n",
    "features = ['House Age', 'Distance to MRT Station', 'Number of Convenience Stores', 'Latitude', 'Longitude']\n",
    "target_column = 'House Price per Unit Area'\n",
    "\n",
    "# Convert features (X) and target (y) to tensors\n",
    "X = torch.tensor(df[features].values, dtype=torch.float32)\n",
    "y = torch.tensor(df[target_column].values, dtype=torch.float32).view(-1, 1)\n",
    "\n",
    "# Define a simple regression model using nn.Sequential\n",
    "model = nn.Sequential(\n",
    "    nn.Linear(5, 4),  # First linear layer (5 input features to 4 neurons)\n",
    "    nn.Linear(4, 1)   # Second linear layer (4 neurons to 1 output)\n",
    ")\n",
    "\n",
    "# Define a loss function and optimizer\n",
    "criterion = nn.MSELoss()  # Mean Squared Error loss for regression\n",
    "optimizer = torch.optim.Adam(model.parameters(), lr=0.01)\n",
    "\n",
    "# Number of training iterations (epochs)\n",
    "num_epochs = 1000\n",
    "\n",
    "# Training loop\n",
    "for epoch in range(num_epochs):\n",
    "    model.train()  # Set model to training mode\n",
    "    \n",
    "    # Forward pass: Compute predicted y by passing X to the model\n",
    "    y_pred = model(X)\n",
    "    \n",
    "    # Compute the loss between predicted and actual target (y)\n",
    "    loss = criterion(y_pred, y)\n",
    "    \n",
    "    # Zero gradients, backpropagation, and update the weights\n",
    "    optimizer.zero_grad()\n",
    "    loss.backward()\n",
    "    optimizer.step()\n",
    "    \n",
    "    # Print the loss every 100 epochs\n",
    "    if (epoch + 1) % 100 == 0:\n",
    "        print(f'Epoch [{epoch+1}/{num_epochs}], Loss: {loss.item():.4f}')\n",
    "\n",
    "# After training, you can evaluate or make predictions using the model\n",
    "# Example: Predict the first 5 rows\n",
    "with torch.no_grad():  # No need to track gradients for evaluation\n",
    "    output = model(X[:5])\n",
    "    print(\"Predictions for first 5 rows:\\n\", output)\n"
   ]
  }
 ],
 "metadata": {
  "kernelspec": {
   "display_name": "Python 3",
   "language": "python",
   "name": "python3"
  },
  "language_info": {
   "codemirror_mode": {
    "name": "ipython",
    "version": 3
   },
   "file_extension": ".py",
   "mimetype": "text/x-python",
   "name": "python",
   "nbconvert_exporter": "python",
   "pygments_lexer": "ipython3",
   "version": "3.12.7"
  }
 },
 "nbformat": 4,
 "nbformat_minor": 2
}
