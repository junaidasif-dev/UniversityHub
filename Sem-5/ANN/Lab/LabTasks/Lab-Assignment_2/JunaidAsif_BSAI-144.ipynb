{
 "cells": [
  {
   "cell_type": "markdown",
   "metadata": {},
   "source": [
    "**GitHub Repository Link:** https://github.com/junaidasif-dev/BSAI-Content/tree/main/Sem-5/ANN/Lab/LabTasks/Lab-Assignment_2 "
   ]
  },
  {
   "cell_type": "markdown",
   "metadata": {},
   "source": [
    "**LinkedIn Post Link:** https://www.linkedin.com/feed/update/urn:li:activity:7252586351684898816/"
   ]
  }
 ],
 "metadata": {
  "language_info": {
   "name": "python"
  }
 },
 "nbformat": 4,
 "nbformat_minor": 2
}
