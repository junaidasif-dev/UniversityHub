{
 "cells": [
  {
   "cell_type": "code",
   "execution_count": null,
   "metadata": {},
   "outputs": [],
   "source": [
    "import cv2\n",
    "\n",
    "# Load the image\n",
    "image = cv2.imread('eight.png')  # Replace with your image path\n",
    "\n",
    "# Define the coordinates of the bounding box (x, y, width, height)\n",
    "start_point = (50, 50)  # Top-left corner\n",
    "end_point = (200, 200)  # Bottom-right corner\n",
    "color = (0, 255, 0)  # Green color in BGR\n",
    "thickness = 2  # Thickness of the box\n",
    "\n",
    "# Draw the bounding box on the image\n",
    "cv2.rectangle(image, start_point, end_point, color, thickness)\n",
    "\n",
    "# Show the image\n",
    "cv2.imshow('Image with Bounding Box', image)\n",
    "cv2.waitKey(0)\n",
    "cv2.destroyAllWindows()\n",
    "\n",
    "# Optional: Save the image with the bounding box\n",
    "cv2.imwrite('image_with_box.jpg', image)"
   ]
  }
 ],
 "metadata": {
  "kernelspec": {
   "display_name": "Python 3",
   "language": "python",
   "name": "python3"
  },
  "language_info": {
   "codemirror_mode": {
    "name": "ipython",
    "version": 3
   },
   "file_extension": ".py",
   "mimetype": "text/x-python",
   "name": "python",
   "nbconvert_exporter": "python",
   "pygments_lexer": "ipython3",
   "version": "3.10.0"
  }
 },
 "nbformat": 4,
 "nbformat_minor": 2
}
